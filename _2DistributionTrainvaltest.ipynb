{
 "cells": [
  {
   "cell_type": "markdown",
   "metadata": {},
   "source": [
    "# gulls eye plakaları/container  train, val ve test dizinlerine ayırma"
   ]
  },
  {
   "cell_type": "code",
   "execution_count": 2,
   "metadata": {},
   "outputs": [],
   "source": [
    "import json\n",
    "import os\n",
    "import shutil\n",
    "import sys\n"
   ]
  },
  {
   "cell_type": "code",
   "execution_count": 15,
   "metadata": {},
   "outputs": [
    {
     "name": "stdout",
     "output_type": "stream",
     "text": [
      "Working directory is: C:\\Users\\is95217\\PycharmProjects\\source\\turkishplate\\_1 Container\n",
      "Data_dir: C:/Users/is95217/data\n",
      "Source code: C:/Users/is95217/PycharmProjects/source/turkishplate/_1 Container/\n"
     ]
    }
   ],
   "source": [
    "working_dir = os.getcwd()\n",
    "print(\"Working directory is:\",working_dir)\n",
    "sys.path.append(working_dir)  # To find local version of the library\n",
    "\n",
    "linux= False\n",
    "\n",
    "if linux:\n",
    "    ROOT_DIR = os.path.join(\"/home/user/gullseye/sentinel\") #linux        \n",
    "    DATA_DIR = \"/home/user/data/evrim\" \n",
    "else:    \n",
    "    ROOT_DIR = os.path.join(\"C:/Users/is95217/PycharmProjects/source/turkishplate/_1 Container/\") #win\n",
    "    DATA_DIR = \"C:/Users/is95217/data\" #win\n",
    "    \n",
    "sys.path.append(ROOT_DIR + \"/api\")\n",
    "\n",
    "import Modelopcontainer as p # \n",
    "\n",
    "print(\"Data_dir:\", DATA_DIR)\n",
    "print(\"Source code:\", ROOT_DIR)\n"
   ]
  },
  {
   "cell_type": "code",
   "execution_count": 17,
   "metadata": {},
   "outputs": [
    {
     "name": "stdout",
     "output_type": "stream",
     "text": [
      "67\n"
     ]
    }
   ],
   "source": [
    "\n",
    "i = 0\n",
    "samecnt=0\n",
    "org_fname='0'\n",
    "input_img_dir = DATA_DIR  + '/out'\n",
    "# dir is your directory path\n",
    "number_files = len(os.listdir(input_img_dir))\n",
    "print(number_files)"
   ]
  },
  {
   "cell_type": "markdown",
   "metadata": {},
   "source": [
    "shuffle data"
   ]
  },
  {
   "cell_type": "code",
   "execution_count": 18,
   "metadata": {},
   "outputs": [
    {
     "name": "stdout",
     "output_type": "stream",
     "text": [
      "C:/Users/is95217/data/out\\1#01APC48#28032018#120328.jpg\n",
      "C:/Users/is95217/data/out\\1#01BH907#06042018#093038.jpg\n",
      "C:/Users/is95217/data/out\\MSKU03925713.jpg\n",
      "C:/Users/is95217/data/out\\ADMU4980417.T 20190315231932.jpg_1.2.jpg\n",
      "C:/Users/is95217/data/out\\1#01BH907#06042018#172424.jpg\n",
      "C:/Users/is95217/data/out\\ADMU49704242.jpg\n",
      "C:/Users/is95217/data/out\\ADMU49767622.jpg\n",
      "C:/Users/is95217/data/out\\1#01BH907#12042018#175317.jpg\n",
      "C:/Users/is95217/data/out\\1#01BH907#05042018#211037.jpg\n",
      "C:/Users/is95217/data/out\\1#01BH907#27032018#212918.jpg\n",
      "C:/Users/is95217/data/out\\1#01BH907#06042018#185302.jpg\n",
      "C:/Users/is95217/data/out\\1#01BH907#09042018#180506.jpg\n",
      "C:/Users/is95217/data/out\\1#01APC48#02042018#112617.jpg\n",
      "C:/Users/is95217/data/out\\MSKU03636292.jpg\n",
      "C:/Users/is95217/data/out\\1#01BH907#05042018#110354.jpg\n",
      "C:/Users/is95217/data/out\\1#01BH907#07042018#103331.jpg\n",
      "C:/Users/is95217/data/out\\1#01APC48#02042018#135943.jpg\n",
      "C:/Users/is95217/data/out\\1#01BH907#06042018#144206.jpg\n",
      "C:/Users/is95217/data/out\\ADMU49767623.jpg\n",
      "C:/Users/is95217/data/out\\1#01BH907#13042018#110547.jpg\n",
      "C:/Users/is95217/data/out\\1#01BH907#12042018#133214.jpg\n",
      "C:/Users/is95217/data/out\\1#01BH907#12042018#191407.jpg\n",
      "C:/Users/is95217/data/out\\1#01APC48#04042018#082908.jpg\n",
      "C:/Users/is95217/data/out\\1#01BH807#29032018#210750.jpg\n",
      "C:/Users/is95217/data/out\\ADMU49704241.jpg\n",
      "C:/Users/is95217/data/out\\MSKU0363629.T 20190315232436.jpg_1.2.jpg\n",
      "C:/Users/is95217/data/out\\1#01BH907#07042018#121215.jpg\n",
      "C:/Users/is95217/data/out\\1#01APC48#29032018#082733.jpg\n",
      "C:/Users/is95217/data/out\\1#01B9368#09062018#125113.jpg\n",
      "C:/Users/is95217/data/out\\1#01APC48#03042018#122548.jpg\n",
      "C:/Users/is95217/data/out\\ADMU4976762.3.jpg\n",
      "C:/Users/is95217/data/out\\1#01APC48#05042018#113728.jpg\n",
      "C:/Users/is95217/data/out\\1#01BH907#12042018#084034.jpg\n",
      "C:/Users/is95217/data/out\\1#01BH907#07042018#091801.jpg\n",
      "C:/Users/is95217/data/out\\MSKU0392571.L 20190315231939.jpg_1.2.jpg\n",
      "C:/Users/is95217/data/out\\1#01APC48#28032018#090740.jpg\n",
      "C:/Users/is95217/data/out\\1#01BH907#12042018#112719.jpg\n",
      "C:/Users/is95217/data/out\\MSKU03636293.jpg\n",
      "C:/Users/is95217/data/out\\MSKU0553634.L 20190315233554.jpg_1.2.jpg\n",
      "C:/Users/is95217/data/out\\ADMU4980417.B 20190315231932.jpg_1.2.jpg\n",
      "C:/Users/is95217/data/out\\1#01BH907#05042018#193554.jpg\n",
      "C:/Users/is95217/data/out\\1#01BH907#12042018#164028.jpg\n",
      "C:/Users/is95217/data/out\\MSKU03925712.jpg\n",
      "C:/Users/is95217/data/out\\1#01BH907#06042018#111924.jpg\n",
      "C:/Users/is95217/data/out\\1#01BH907#27032018#152507.jpg\n",
      "C:/Users/is95217/data/out\\1#01B9368#02072018#205804.jpg\n",
      "C:/Users/is95217/data/out\\ADMU4970424.T 20190315231932.jpg_1.2.jpg\n",
      "C:/Users/is95217/data/out\\MSKU0392571.T 20190315231939.jpg_1.2.jpg\n",
      "C:/Users/is95217/data/out\\1#01APC48#03042018#082001.jpg\n",
      "C:/Users/is95217/data/out\\ADMU4976762.B 20190315232158.jpg_1.2.jpg\n",
      "C:/Users/is95217/data/out\\1#01BH907#10042018#194531.jpg\n",
      "C:/Users/is95217/data/out\\MSKU0392571.R 20190315231939.jpg_1.2.jpg\n",
      "C:/Users/is95217/data/out\\1#01BH907#13042018#092757.jpg\n",
      "C:/Users/is95217/data/out\\MSKU0553634.R 20190315233554.jpg_1.2.jpg\n",
      "C:/Users/is95217/data/out\\1#01BH907#27032018#165531.jpg\n",
      "C:/Users/is95217/data/out\\1#01B9368#05042018#124840.jpg\n",
      "C:/Users/is95217/data/out\\ADMU49767621.jpg\n",
      "C:/Users/is95217/data/out\\1#01BH907#05042018#175554.jpg\n",
      "C:/Users/is95217/data/out\\1#01BH907#12042018#145126.jpg\n",
      "C:/Users/is95217/data/out\\1#01APC48#05042018#071115.jpg\n",
      "C:/Users/is95217/data/out\\MSKU0553634.T 20190315233554.jpg_1.2.jpg\n",
      "C:/Users/is95217/data/out\\MSKU03925711.jpg\n",
      "C:/Users/is95217/data/out\\ADMU4976762.T 20190315232158.jpg_1.2.jpg\n",
      "C:/Users/is95217/data/out\\ADMU49704243.jpg\n",
      "C:/Users/is95217/data/out\\1#01B4042#03042018#170644.jpg\n",
      "C:/Users/is95217/data/out\\1#01BH907#12042018#101008.jpg\n",
      "C:/Users/is95217/data/out\\MSKU03636291.jpg\n"
     ]
    }
   ],
   "source": [
    "import os, random\n",
    "from random import shuffle\n",
    "\n",
    "sortedlist={}\n",
    "sortedlist = os.listdir(input_img_dir)\n",
    "shuffle_files=[]\n",
    "for f in sortedlist:\n",
    "    shuffle_files.append(f)\n",
    "\n",
    "i=0\n",
    "random.shuffle(shuffle_files)\n",
    "for item in shuffle_files:\n",
    "    print(os.path.join(input_img_dir,item))    \n",
    "    if i>20:\n",
    "        break"
   ]
  },
  {
   "cell_type": "code",
   "execution_count": 19,
   "metadata": {},
   "outputs": [
    {
     "data": {
      "text/plain": [
       "'C:/Users/is95217/data'"
      ]
     },
     "execution_count": 19,
     "metadata": {},
     "output_type": "execute_result"
    }
   ],
   "source": [
    "DATA_DIR"
   ]
  },
  {
   "cell_type": "markdown",
   "metadata": {},
   "source": [
    "delete all files in test,train and val"
   ]
  },
  {
   "cell_type": "code",
   "execution_count": 20,
   "metadata": {},
   "outputs": [
    {
     "name": "stdout",
     "output_type": "stream",
     "text": [
      "ok1\n",
      "ok2\n",
      "ok3\n"
     ]
    }
   ],
   "source": [
    "#DATA_DIR= '/home/user/data/container'\n",
    "\n",
    "test = DATA_DIR + \"/test\"\n",
    "try:\n",
    "    shutil.rmtree(test)\n",
    "    print(\"ok1\")\n",
    "except:\n",
    "    print(\"no dir1\")\n",
    "\n",
    "train = DATA_DIR + \"/train\"\n",
    "try:\n",
    "    shutil.rmtree(train)\n",
    "    print(\"ok2\")\n",
    "except:\n",
    "    print(\"no dir2\")\n",
    "\n",
    "val = DATA_DIR + \"/val\"\n",
    "try:\n",
    "    shutil.rmtree(val)\n",
    "    print(\"ok3\")\n",
    "except:\n",
    "    print(\"no dir3\")\n",
    "\n",
    "os.mkdir(DATA_DIR + \"/test\")\n",
    "os.mkdir(DATA_DIR + \"/val\")\n",
    "os.mkdir(DATA_DIR + \"/train\")\n"
   ]
  },
  {
   "cell_type": "markdown",
   "metadata": {},
   "source": [
    "SPLIT INTO TEST, DEV, AND TRAIN"
   ]
  },
  {
   "cell_type": "code",
   "execution_count": 21,
   "metadata": {},
   "outputs": [],
   "source": [
    "\n",
    "i = 0\n",
    "samecnt=0\n",
    "org_fname='0'\n",
    "out_img_dir = DATA_DIR \n",
    "\n",
    "for filename in shuffle_files:\n",
    "    #fname= (filename.split(start))[1].split(end)[0]     \n",
    "    #xname = filename.split('.')\n",
    "    i = i + 1  \n",
    "    \n",
    "    if (i < number_files*0.8):        \n",
    "        dizin = 'train/'\n",
    "    elif (i<number_files * 0.9):       \n",
    "        dizin = 'val/'\n",
    "    else:        \n",
    "        dizin = 'test/'    \n",
    "  \n",
    "    inpf = input_img_dir + \"/\" + filename\n",
    "    outf = out_img_dir + '/' + dizin + filename\n",
    "    \n",
    "    #print(\"inputfile:\",inpf,\", outfile:\",outf)\n",
    "    \n",
    "    shutil.copy(inpf, outf)\n",
    "    \"\"\"\n",
    "    \n",
    "    if i>10:\n",
    "        break\n",
    " \"\"\"\n"
   ]
  },
  {
   "cell_type": "code",
   "execution_count": null,
   "metadata": {
    "collapsed": true
   },
   "outputs": [],
   "source": []
  }
 ],
 "metadata": {
  "kernelspec": {
   "display_name": "Python 3",
   "language": "python",
   "name": "python3"
  },
  "language_info": {
   "codemirror_mode": {
    "name": "ipython",
    "version": 3
   },
   "file_extension": ".py",
   "mimetype": "text/x-python",
   "name": "python",
   "nbconvert_exporter": "python",
   "pygments_lexer": "ipython3",
   "version": "3.6.4"
  }
 },
 "nbformat": 4,
 "nbformat_minor": 2
}
