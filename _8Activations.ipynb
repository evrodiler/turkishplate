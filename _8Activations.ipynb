{
 "cells": [
  {
   "cell_type": "code",
   "execution_count": 1,
   "metadata": {},
   "outputs": [
    {
     "name": "stderr",
     "output_type": "stream",
     "text": [
      "Using TensorFlow backend.\n"
     ]
    },
    {
     "name": "stdout",
     "output_type": "stream",
     "text": [
      "TensorFlow version: 1.8.0\n",
      "Keras version: 2.2.2\n"
     ]
    }
   ],
   "source": [
    "import keras\n",
    "import tensorflow as tf\n",
    "print('TensorFlow version:', tf.__version__) \n",
    "print('Keras version:', keras.__version__)\n",
    "import sys\n",
    "import os\n",
    "from os.path import join\n",
    "import json\n",
    "import random\n",
    "import itertools\n",
    "import re\n",
    "import datetime\n",
    "#import cairocffi as cairo\n",
    "import editdistance\n",
    "import numpy as np\n",
    "from scipy import ndimage\n",
    "import pylab\n",
    "import matplotlib.pyplot as plt\n",
    "import matplotlib.gridspec as gridspec\n",
    "from keras import backend as K\n",
    "from keras.layers.convolutional import Conv2D, MaxPooling2D\n",
    "from keras.layers import Input, Dense, Activation\n",
    "from keras.layers import Reshape, Lambda\n",
    "from keras.layers.merge import add, concatenate\n",
    "from keras.models import Model, load_model\n",
    "from keras.layers.recurrent import GRU\n",
    "from keras.optimizers import SGD\n",
    "from keras.utils.data_utils import get_file\n",
    "from keras.preprocessing import image\n",
    "import keras.callbacks\n",
    "import cv2\n"
   ]
  },
  {
   "cell_type": "code",
   "execution_count": 2,
   "metadata": {},
   "outputs": [],
   "source": [
    "sess = tf.Session()\n",
    "K.set_session(sess)\n",
    "from keras.models import model_from_json\n",
    "\n",
    "DEVICE = \"/cpu:0\"  # /use cpu:0 for cpu only or /gpu:0"
   ]
  },
  {
   "cell_type": "code",
   "execution_count": 3,
   "metadata": {},
   "outputs": [
    {
     "name": "stdout",
     "output_type": "stream",
     "text": [
      "Working directory is: C:\\Users\\is95217\\source\\turkishplate\n"
     ]
    }
   ],
   "source": [
    "working_dir = os.getcwd()\n",
    "print(\"Working directory is:\",working_dir)\n",
    "sys.path.append(working_dir)  # To find local version of the library"
   ]
  },
  {
   "cell_type": "code",
   "execution_count": 4,
   "metadata": {},
   "outputs": [
    {
     "name": "stdout",
     "output_type": "stream",
     "text": [
      "Data: C:/Users/is95217/data/Original_15Kcrop_distributed\n",
      "Source code: C:/Users/is95217/source/turkishplate\n"
     ]
    }
   ],
   "source": [
    "win=1\n",
    "if win:\n",
    "    ROOT_DIR = os.path.join(\"C:/Users/is95217/source/turkishplate\") #win\n",
    "    DATA_DIR = \"C:/Users/is95217/data/Original_15Kcrop_distributed\" #win\n",
    "else:    \n",
    "    ROOT_DIR = os.path.join(\"/home/user/Source/Evrim/Turkishplate\") #linux\n",
    "    DATA_DIR = \"/home/user/Source/data/dataEvrim/Original_15Kcrop_distributed\"  #linux\n",
    "sys.path.append(ROOT_DIR + \"/Python\")\n",
    "\n",
    "print(\"Data:\", DATA_DIR)\n",
    "print(\"Source code:\", ROOT_DIR)"
   ]
  },
  {
   "cell_type": "code",
   "execution_count": 5,
   "metadata": {},
   "outputs": [],
   "source": [
    "sys.path.append(os.path.dirname(os.path.realpath('PPlate')) + \"/python\")\n",
    "import PPlate as p"
   ]
  },
  {
   "cell_type": "markdown",
   "metadata": {},
   "source": [
    "# LOAD MODEL "
   ]
  },
  {
   "cell_type": "code",
   "execution_count": 21,
   "metadata": {},
   "outputs": [],
   "source": [
    "# load json and create model\n",
    "#fmodel='lr0.02_mom0.9'\n",
    "#fmodel = '/Model/Plate15K'\n",
    "\n",
    "#loaded_model=p.load_model(ROOT_DIR + '/Model/plate15K')\n",
    "loaded_model=p.load_model(ROOT_DIR + '/model/model15k_2GRU')"
   ]
  },
  {
   "cell_type": "markdown",
   "metadata": {},
   "source": [
    "# visualize layers"
   ]
  },
  {
   "cell_type": "code",
   "execution_count": 22,
   "metadata": {},
   "outputs": [],
   "source": [
    "inp = loaded_model.input  \n",
    "inputs = [layer.input for layer in loaded_model.layers]\n",
    "outputs = [layer.output for layer in loaded_model.layers]          # all layer outputs"
   ]
  },
  {
   "cell_type": "code",
   "execution_count": 23,
   "metadata": {},
   "outputs": [],
   "source": [
    "functors = [K.function([inp, K.learning_phase()], [out]) for out in outputs]"
   ]
  },
  {
   "cell_type": "code",
   "execution_count": 41,
   "metadata": {},
   "outputs": [
    {
     "data": {
      "text/plain": [
       "<tf.Tensor 'conv1_1/Relu:0' shape=(?, 128, 64, 16) dtype=float32>"
      ]
     },
     "execution_count": 41,
     "metadata": {},
     "output_type": "execute_result"
    }
   ],
   "source": [
    "#inp_value['the_input'].shape[0]\n",
    "inputs[2]"
   ]
  },
  {
   "cell_type": "code",
   "execution_count": 25,
   "metadata": {},
   "outputs": [
    {
     "data": {
      "text/plain": [
       "[<tf.Tensor 'the_input_1:0' shape=(?, 128, 64, 1) dtype=float32>,\n",
       " <tf.Tensor 'conv1_1/Relu:0' shape=(?, 128, 64, 16) dtype=float32>,\n",
       " <tf.Tensor 'max1_1/MaxPool:0' shape=(?, 64, 32, 16) dtype=float32>,\n",
       " <tf.Tensor 'conv2_1/Relu:0' shape=(?, 64, 32, 16) dtype=float32>,\n",
       " <tf.Tensor 'max2_1/MaxPool:0' shape=(?, 32, 16, 16) dtype=float32>,\n",
       " <tf.Tensor 'reshape_1/Reshape:0' shape=(?, 32, 256) dtype=float32>,\n",
       " <tf.Tensor 'dense1_1/Relu:0' shape=(?, 32, 32) dtype=float32>,\n",
       " <tf.Tensor 'gru1_1/transpose_1:0' shape=(?, ?, 512) dtype=float32>,\n",
       " <tf.Tensor 'gru1_b_1/transpose_1:0' shape=(?, ?, 512) dtype=float32>,\n",
       " <tf.Tensor 'add_1_1/add:0' shape=(?, ?, 512) dtype=float32>,\n",
       " <tf.Tensor 'gru2_1/transpose_1:0' shape=(?, ?, 512) dtype=float32>,\n",
       " <tf.Tensor 'gru2_b_1/transpose_1:0' shape=(?, ?, 512) dtype=float32>,\n",
       " <tf.Tensor 'concatenate_1_1/concat:0' shape=(?, ?, 1024) dtype=float32>,\n",
       " <tf.Tensor 'dense2_1/add:0' shape=(?, 32, 34) dtype=float32>,\n",
       " <tf.Tensor 'softmax_1/truediv:0' shape=(?, 32, 34) dtype=float32>,\n",
       " <tf.Tensor 'the_labels_1:0' shape=(?, 8) dtype=float32>,\n",
       " <tf.Tensor 'input_length_1:0' shape=(?, 1) dtype=int64>,\n",
       " <tf.Tensor 'label_length_1:0' shape=(?, 1) dtype=int64>,\n",
       " <tf.Tensor 'ctc_1/ExpandDims:0' shape=(?, 1) dtype=float32>]"
      ]
     },
     "execution_count": 25,
     "metadata": {},
     "output_type": "execute_result"
    }
   ],
   "source": [
    "outputs"
   ]
  },
  {
   "cell_type": "code",
   "execution_count": 12,
   "metadata": {},
   "outputs": [],
   "source": [
    "def predict_single_plate(sess,loaded_model,img):\n",
    "    img_w,img_h = 128, 64\n",
    "   \n",
    "    #img = cv2.imread(img_filepath)\n",
    "    img = cv2.cvtColor(img, cv2.COLOR_BGR2GRAY)\n",
    "    img = cv2.resize(img, (img_w, img_h))\n",
    "    img = img.astype(np.float32)\n",
    "    img /= 255\n",
    "\n",
    "\n",
    "    net_inp = loaded_model.get_layer(name='the_input').input\n",
    "    net_out = loaded_model.get_layer(name='softmax').output\n",
    "\n",
    "    if K.image_data_format() == 'channels_first':\n",
    "        X_data = np.ones([1, 1, img_w, img_h])\n",
    "    else:\n",
    "        X_data = np.ones([1, img_w, img_h, 1])\n",
    "    \n",
    "    img = img.T\n",
    "    if K.image_data_format() == 'channels_first':\n",
    "        img = np.expand_dims(img, 0)\n",
    "    else:\n",
    "        img = np.expand_dims(img, -1)\n",
    "    X_data[0] = img\n",
    "\n",
    "    net_out_value = sess.run(net_out, feed_dict={net_inp:X_data})\n",
    "    pred_texts = decode_batch(net_out_value)\n",
    "    print(pred_texts)\n",
    "    return net_out_value\n"
   ]
  },
  {
   "cell_type": "code",
   "execution_count": 76,
   "metadata": {},
   "outputs": [],
   "source": [
    "net_inp =loaded_model.get_layer(name='the_input').input"
   ]
  },
  {
   "cell_type": "code",
   "execution_count": 78,
   "metadata": {},
   "outputs": [
    {
     "ename": "NameError",
     "evalue": "name 'X_data' is not defined",
     "output_type": "error",
     "traceback": [
      "\u001b[1;31m---------------------------------------------------------------------------\u001b[0m",
      "\u001b[1;31mNameError\u001b[0m                                 Traceback (most recent call last)",
      "\u001b[1;32m<ipython-input-78-d848432420d1>\u001b[0m in \u001b[0;36m<module>\u001b[1;34m()\u001b[0m\n\u001b[1;32m----> 1\u001b[1;33m \u001b[0mnet_inp\u001b[0m\u001b[1;33m:\u001b[0m\u001b[0mX_data\u001b[0m\u001b[1;33m\u001b[0m\u001b[0m\n\u001b[0m",
      "\u001b[1;31mNameError\u001b[0m: name 'X_data' is not defined"
     ]
    }
   ],
   "source": [
    "net_inp:X_data"
   ]
  },
  {
   "cell_type": "code",
   "execution_count": 13,
   "metadata": {},
   "outputs": [],
   "source": [
    "letters_train = ['0', '1', '2', '3', '4', '5', '6', '7', '8', '9', 'A', 'B', 'C', 'D', 'E', 'F', 'G', 'H', 'I', 'J', 'K', 'L', 'M', 'N', 'O', 'P', 'R', 'S', 'T', 'U', 'V', 'Y', 'Z']\n",
    "letters = sorted(list(letters_train))\n"
   ]
  },
  {
   "cell_type": "code",
   "execution_count": 14,
   "metadata": {},
   "outputs": [],
   "source": [
    "def decode_batch(out):\n",
    "    ret = []\n",
    "    for j in range(out.shape[0]):\n",
    "        out_best = list(np.argmax(out[j, 2:], 1))\n",
    "        out_best = [k for k, g in itertools.groupby(out_best)]\n",
    "        outstr = ''\n",
    "        for c in out_best:\n",
    "            if c < len(letters):\n",
    "                outstr += letters[c]\n",
    "        ret.append(outstr)\n",
    "    return ret"
   ]
  },
  {
   "cell_type": "code",
   "execution_count": 15,
   "metadata": {},
   "outputs": [],
   "source": [
    "import tensorflow as tf\n",
    "sess = tf.Session()\n",
    "K.set_session(sess)"
   ]
  },
  {
   "cell_type": "code",
   "execution_count": 16,
   "metadata": {},
   "outputs": [],
   "source": [
    "init = tf.global_variables_initializer()\n",
    "sess.run(init)"
   ]
  },
  {
   "cell_type": "code",
   "execution_count": 17,
   "metadata": {},
   "outputs": [],
   "source": [
    "image_path= DATA_DIR + '/train/1#01APC48#02042018#112617.jpg'\n",
    "import skimage\n",
    "from skimage import io"
   ]
  },
  {
   "cell_type": "code",
   "execution_count": 18,
   "metadata": {},
   "outputs": [],
   "source": [
    "image = skimage.io.imread(image_path) "
   ]
  },
  {
   "cell_type": "code",
   "execution_count": 19,
   "metadata": {},
   "outputs": [
    {
     "data": {
      "text/plain": [
       "(40, 172, 3)"
      ]
     },
     "execution_count": 19,
     "metadata": {},
     "output_type": "execute_result"
    }
   ],
   "source": [
    "np.shape(image)"
   ]
  },
  {
   "cell_type": "code",
   "execution_count": 26,
   "metadata": {},
   "outputs": [
    {
     "name": "stdout",
     "output_type": "stream",
     "text": [
      "['01APC48']\n"
     ]
    }
   ],
   "source": [
    "net_out = predict_single_plate(sess,loaded_model,image)\n"
   ]
  },
  {
   "cell_type": "code",
   "execution_count": 52,
   "metadata": {},
   "outputs": [
    {
     "data": {
      "text/plain": [
       "(1, 32, 34)"
      ]
     },
     "execution_count": 52,
     "metadata": {},
     "output_type": "execute_result"
    }
   ],
   "source": [
    "np.shape(net_out)"
   ]
  },
  {
   "cell_type": "code",
   "execution_count": null,
   "metadata": {},
   "outputs": [],
   "source": [
    "\"\"\"\n",
    "# Testing\n",
    "test = np.random.random(net_inp)[np.newaxis,:]\n",
    "layer_outs = [func([test, 1.]) for func in functors]\n",
    "print(layer_outs)\n",
    "\"\"\"\n",
    "#X_data[i] = image"
   ]
  },
  {
   "cell_type": "code",
   "execution_count": 73,
   "metadata": {},
   "outputs": [],
   "source": [
    "def plot_activation():\n",
    "          \n",
    "    fig = plt.figure(figsize=(20, 20))\n",
    "    outer = gridspec.GridSpec(2, 1, wspace=10, hspace=0.1) \n",
    "    ax1 = plt.Subplot(fig, outer[0])\n",
    "    fig.add_subplot(ax1)\n",
    "    ax2 = plt.Subplot(fig, outer[1])\n",
    "    fig.add_subplot(ax2)    \n",
    "    ax2.set_title('Activations')\n",
    "   \n",
    "    ax1.set_title('Input img')\n",
    "    ax1.imshow(image, cmap='gray')\n",
    "    ax1.set_xticks([])\n",
    "    ax1.set_yticks([])\n",
    "\n",
    "    ax2.imshow(net_out[0].T, cmap='binary', interpolation='nearest')    \n",
    "    \n",
    "    ax2.set_yticks(list(range(len(letters) + 1)))\n",
    "    ax2.set_yticklabels(letters + ['blank'])\n",
    "    ax2.grid(False)\n",
    "    for h in np.arange(-0.5, len(letters) + 1 + 0.5, 1):\n",
    "        ax2.axhline(h, linestyle='-', color='k', alpha=0.5, linewidth=1)\n",
    "\n",
    "    #ax.axvline(x, linestyle='--', color='k')\n",
    "    plt.show()"
   ]
  },
  {
   "cell_type": "code",
   "execution_count": 74,
   "metadata": {},
   "outputs": [
    {
     "name": "stdout",
     "output_type": "stream",
     "text": [
      "32\n"
     ]
    },
    {
     "data": {
      "image/png": "[encoded data removed]",
      "text/plain": [
       "<Figure size 1440x1440 with 2 Axes>"
      ]
     },
     "metadata": {},
     "output_type": "display_data"
    }
   ],
   "source": [
    "plot_activation()"
   ]
  },
  {
   "cell_type": "code",
   "execution_count": null,
   "metadata": {},
   "outputs": [],
   "source": []
  },
  {
   "cell_type": "code",
   "execution_count": null,
   "metadata": {},
   "outputs": [],
   "source": []
  }
 ],
 "metadata": {
  "kernelspec": {
   "display_name": "Python 3",
   "language": "python",
   "name": "python3"
  },
  "language_info": {
   "codemirror_mode": {
    "name": "ipython",
    "version": 3
   },
   "file_extension": ".py",
   "mimetype": "text/x-python",
   "name": "python",
   "nbconvert_exporter": "python",
   "pygments_lexer": "ipython3",
   "version": "3.6.5"
  }
 },
 "nbformat": 4,
 "nbformat_minor": 2
}
