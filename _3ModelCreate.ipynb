{
 "cells": [
  {
   "cell_type": "code",
   "execution_count": 1,
   "metadata": {},
   "outputs": [
    {
     "name": "stderr",
     "output_type": "stream",
     "text": [
      "/home/user/anaconda3/lib/python3.6/site-packages/h5py/__init__.py:36: FutureWarning: Conversion of the second argument of issubdtype from `float` to `np.floating` is deprecated. In future, it will be treated as `np.float64 == np.dtype(float).type`.\n",
      "  from ._conv import register_converters as _register_converters\n",
      "Using TensorFlow backend.\n"
     ]
    },
    {
     "name": "stdout",
     "output_type": "stream",
     "text": [
      "TensorFlow version: 1.10.1\n",
      "Keras version: 2.2.2\n"
     ]
    }
   ],
   "source": [
    "import keras\n",
    "import tensorflow as tf\n",
    "import sys\n",
    "import os\n",
    "print('TensorFlow version:', tf.__version__)\n",
    "print('Keras version:', keras.__version__)"
   ]
  },
  {
   "cell_type": "code",
   "execution_count": 2,
   "metadata": {},
   "outputs": [
    {
     "name": "stdout",
     "output_type": "stream",
     "text": [
      "Working directory is: /home/user/Source/Evrim/Turkishplate\n",
      "Data: /home/user/Source/data/dataEvrim/Original_15Kcrop_distributed\n",
      "Source code: /home/user/Source/Evrim/Turkishplate\n"
     ]
    }
   ],
   "source": [
    "DEVICE = \"/gpu:0\" \n",
    "\n",
    "working_dir = os.getcwd()\n",
    "print(\"Working directory is:\",working_dir)\n",
    "sys.path.append(working_dir)  # To find local version of the library\n",
    "\n",
    "ROOT_DIR = os.path.join(\"/home/user/Source/Evrim/Turkishplate\") #linux\n",
    "#ROOT_DIR = os.path.join(\"C:/Users/is95217/source/plate/turkishplate\") #win\n",
    "sys.path.append(ROOT_DIR + \"/Python\")\n",
    "import PPlate as p\n",
    "\n",
    "DATA_DIR = \"/home/user/Source/data/dataEvrim/Original_15Kcrop_distributed\"  #linux\n",
    "#DATA_DIR = \"C:/Users/is95217/data/Original_15Kcrop_distributed\" #win\n",
    "print(\"Data:\", DATA_DIR)\n",
    "print(\"Source code:\", ROOT_DIR)"
   ]
  },
  {
   "cell_type": "markdown",
   "metadata": {},
   "source": [
    "# Model description and training"
   ]
  },
  {
   "cell_type": "code",
   "execution_count": 3,
   "metadata": {
    "scrolled": true
   },
   "outputs": [
    {
     "name": "stdout",
     "output_type": "stream",
     "text": [
      "__________________________________________________________________________________________________\n",
      "Layer (type)                    Output Shape         Param #     Connected to                     \n",
      "==================================================================================================\n",
      "the_input (InputLayer)          (None, 128, 64, 1)   0                                            \n",
      "__________________________________________________________________________________________________\n",
      "conv1 (Conv2D)                  (None, 128, 64, 16)  160         the_input[0][0]                  \n",
      "__________________________________________________________________________________________________\n",
      "max1 (MaxPooling2D)             (None, 64, 32, 16)   0           conv1[0][0]                      \n",
      "__________________________________________________________________________________________________\n",
      "conv2 (Conv2D)                  (None, 64, 32, 16)   2320        max1[0][0]                       \n",
      "__________________________________________________________________________________________________\n",
      "max2 (MaxPooling2D)             (None, 32, 16, 16)   0           conv2[0][0]                      \n",
      "__________________________________________________________________________________________________\n",
      "reshape (Reshape)               (None, 32, 256)      0           max2[0][0]                       \n",
      "__________________________________________________________________________________________________\n",
      "dense1 (Dense)                  (None, 32, 32)       8224        reshape[0][0]                    \n",
      "__________________________________________________________________________________________________\n",
      "gru1 (GRU)                      (None, 32, 512)      837120      dense1[0][0]                     \n",
      "__________________________________________________________________________________________________\n",
      "gru1_b (GRU)                    (None, 32, 512)      837120      dense1[0][0]                     \n",
      "__________________________________________________________________________________________________\n",
      "add_1 (Add)                     (None, 32, 512)      0           gru1[0][0]                       \n",
      "                                                                 gru1_b[0][0]                     \n",
      "__________________________________________________________________________________________________\n",
      "gru2 (GRU)                      (None, 32, 512)      1574400     add_1[0][0]                      \n",
      "__________________________________________________________________________________________________\n",
      "gru2_b (GRU)                    (None, 32, 512)      1574400     add_1[0][0]                      \n",
      "__________________________________________________________________________________________________\n",
      "concatenate_1 (Concatenate)     (None, 32, 1024)     0           gru2[0][0]                       \n",
      "                                                                 gru2_b[0][0]                     \n",
      "__________________________________________________________________________________________________\n",
      "dense2 (Dense)                  (None, 32, 34)       34850       concatenate_1[0][0]              \n",
      "__________________________________________________________________________________________________\n",
      "softmax (Activation)            (None, 32, 34)       0           dense2[0][0]                     \n",
      "==================================================================================================\n",
      "Total params: 4,868,594\n",
      "Trainable params: 4,868,594\n",
      "Non-trainable params: 0\n",
      "__________________________________________________________________________________________________\n",
      "Epoch 1/30\n",
      "12466/12466 [==============================] - 989s 79ms/step - loss: 1.1859 - acc: 0.8667 - val_loss: 1.5272 - val_acc: 0.8512\n",
      "Epoch 2/30\n",
      "12466/12466 [==============================] - 984s 79ms/step - loss: 2.6197e-04 - acc: 1.0000 - val_loss: 1.5416 - val_acc: 0.8563\n",
      "Epoch 3/30\n",
      "12466/12466 [==============================] - 985s 79ms/step - loss: 1.8941e-04 - acc: 1.0000 - val_loss: 1.5497 - val_acc: 0.8582\n",
      "Epoch 4/30\n",
      "12466/12466 [==============================] - 985s 79ms/step - loss: 1.6515e-04 - acc: 1.0000 - val_loss: 1.5558 - val_acc: 0.8589\n",
      "Epoch 5/30\n",
      "12466/12466 [==============================] - 985s 79ms/step - loss: 1.5204e-04 - acc: 1.0000 - val_loss: 1.5608 - val_acc: 0.8602\n",
      "Epoch 6/30\n",
      "12466/12466 [==============================] - 985s 79ms/step - loss: 1.4364e-04 - acc: 1.0000 - val_loss: 1.5648 - val_acc: 0.8614\n",
      "Epoch 7/30\n",
      "12466/12466 [==============================] - 985s 79ms/step - loss: 1.3773e-04 - acc: 1.0000 - val_loss: 1.5683 - val_acc: 0.8614\n",
      "Epoch 8/30\n",
      "12466/12466 [==============================] - 985s 79ms/step - loss: 1.3332e-04 - acc: 1.0000 - val_loss: 1.5712 - val_acc: 0.8614\n",
      "Epoch 9/30\n",
      "12466/12466 [==============================] - 986s 79ms/step - loss: 1.2989e-04 - acc: 1.0000 - val_loss: 1.5738 - val_acc: 0.8621\n",
      "Epoch 10/30\n",
      "12466/12466 [==============================] - 985s 79ms/step - loss: 1.2714e-04 - acc: 1.0000 - val_loss: 1.5762 - val_acc: 0.8621\n",
      "Epoch 11/30\n",
      "12466/12466 [==============================] - 985s 79ms/step - loss: 1.2487e-04 - acc: 1.0000 - val_loss: 1.5784 - val_acc: 0.8621\n",
      "Epoch 12/30\n",
      "12466/12466 [==============================] - 986s 79ms/step - loss: 1.2298e-04 - acc: 1.0000 - val_loss: 1.5804 - val_acc: 0.8627\n",
      "Epoch 13/30\n",
      "12466/12466 [==============================] - 986s 79ms/step - loss: 1.2136e-04 - acc: 1.0000 - val_loss: 1.5821 - val_acc: 0.8640\n",
      "Epoch 14/30\n",
      "12466/12466 [==============================] - 985s 79ms/step - loss: 1.1997e-04 - acc: 1.0000 - val_loss: 1.5839 - val_acc: 0.8640\n",
      "Epoch 15/30\n",
      "12466/12466 [==============================] - 984s 79ms/step - loss: 1.1876e-04 - acc: 1.0000 - val_loss: 1.5854 - val_acc: 0.8640\n",
      "Epoch 16/30\n",
      "12466/12466 [==============================] - 985s 79ms/step - loss: 1.1770e-04 - acc: 1.0000 - val_loss: 1.5870 - val_acc: 0.8640\n",
      "Epoch 17/30\n",
      "12466/12466 [==============================] - 984s 79ms/step - loss: 1.1675e-04 - acc: 1.0000 - val_loss: 1.5884 - val_acc: 0.8640\n",
      "Epoch 18/30\n",
      "12466/12466 [==============================] - 985s 79ms/step - loss: 1.1591e-04 - acc: 1.0000 - val_loss: 1.5897 - val_acc: 0.8640\n",
      "Epoch 19/30\n",
      "12466/12466 [==============================] - 985s 79ms/step - loss: 1.1515e-04 - acc: 1.0000 - val_loss: 1.5910 - val_acc: 0.8640\n",
      "Epoch 20/30\n",
      "12466/12466 [==============================] - 985s 79ms/step - loss: 1.1446e-04 - acc: 1.0000 - val_loss: 1.5922 - val_acc: 0.8640\n",
      "Epoch 21/30\n",
      "12466/12466 [==============================] - 985s 79ms/step - loss: 1.1384e-04 - acc: 1.0000 - val_loss: 1.5933 - val_acc: 0.8640\n",
      "Epoch 22/30\n",
      "12466/12466 [==============================] - 985s 79ms/step - loss: 1.1327e-04 - acc: 1.0000 - val_loss: 1.5944 - val_acc: 0.8640\n",
      "Epoch 23/30\n",
      "12466/12466 [==============================] - 985s 79ms/step - loss: 1.1275e-04 - acc: 1.0000 - val_loss: 1.5954 - val_acc: 0.8640\n",
      "Epoch 24/30\n",
      "12466/12466 [==============================] - 985s 79ms/step - loss: 1.1227e-04 - acc: 1.0000 - val_loss: 1.5964 - val_acc: 0.8640\n",
      "Epoch 25/30\n",
      "12466/12466 [==============================] - 985s 79ms/step - loss: 1.1182e-04 - acc: 1.0000 - val_loss: 1.5973 - val_acc: 0.8640\n",
      "Epoch 26/30\n",
      "12466/12466 [==============================] - 986s 79ms/step - loss: 1.1141e-04 - acc: 1.0000 - val_loss: 1.5982 - val_acc: 0.8640\n",
      "Epoch 27/30\n",
      "12466/12466 [==============================] - 985s 79ms/step - loss: 1.1103e-04 - acc: 1.0000 - val_loss: 1.5991 - val_acc: 0.8640\n",
      "Epoch 28/30\n",
      "12466/12466 [==============================] - 986s 79ms/step - loss: 1.1068e-04 - acc: 1.0000 - val_loss: 1.5999 - val_acc: 0.8640\n",
      "Epoch 29/30\n",
      "12466/12466 [==============================] - 986s 79ms/step - loss: 1.1035e-04 - acc: 1.0000 - val_loss: 1.6007 - val_acc: 0.8640\n",
      "Epoch 30/30\n",
      "12466/12466 [==============================] - 986s 79ms/step - loss: 1.1004e-04 - acc: 1.0000 - val_loss: 1.6014 - val_acc: 0.8640\n",
      "Saved/home/user/Source/Evrim/Turkishplate/Model/model15k_2GRU model to disk\n"
     ]
    }
   ],
   "source": [
    "#                imgw,imgh,path,load, path & name_model, epoch_cnt\n",
    "model2 = p.train2gru(128,64,DATA_DIR,False, ROOT_DIR + \"/Model/model15k_2GRU\", 30)\n",
    "#model1 = p.train1gru(128,64,DATA_DIR,False, ROOT_DIR + \"/Model/model15k_1GRU\", 3)\n",
    "#model3 = p.train3gru(128,64,DATA_DIR,False, ROOT_DIR + \"/Model/model15k_3GRU\", 3)"
   ]
  },
  {
   "cell_type": "code",
   "execution_count": 5,
   "metadata": {},
   "outputs": [
    {
     "data": {
      "text/plain": [
       "{'acc': [0.8666598146959731,\n",
       "  1.0,\n",
       "  1.0,\n",
       "  1.0,\n",
       "  1.0,\n",
       "  1.0,\n",
       "  1.0,\n",
       "  1.0,\n",
       "  1.0,\n",
       "  1.0,\n",
       "  1.0,\n",
       "  1.0,\n",
       "  1.0,\n",
       "  1.0,\n",
       "  1.0,\n",
       "  1.0,\n",
       "  1.0,\n",
       "  1.0,\n",
       "  1.0,\n",
       "  1.0,\n",
       "  1.0,\n",
       "  1.0,\n",
       "  1.0,\n",
       "  1.0,\n",
       "  1.0,\n",
       "  1.0,\n",
       "  1.0,\n",
       "  1.0,\n",
       "  1.0,\n",
       "  1.0],\n",
       " 'loss': [1.1859306532522231,\n",
       "  0.00026197122093939314,\n",
       "  0.00018940806476329899,\n",
       "  0.00016515375920053373,\n",
       "  0.00015203926650980473,\n",
       "  0.0001436351772783059,\n",
       "  0.00013773183193791492,\n",
       "  0.00013332415964519709,\n",
       "  0.0001298915120005401,\n",
       "  0.00012713751991527512,\n",
       "  0.00012487191693611631,\n",
       "  0.0001229760571629461,\n",
       "  0.00012136356071588263,\n",
       "  0.0001199740673285864,\n",
       "  0.00011876225875450559,\n",
       "  0.00011769698407723634,\n",
       "  0.00011675138791290765,\n",
       "  0.00011590662302212648,\n",
       "  0.00011514761038838406,\n",
       "  0.00011446035496577272,\n",
       "  0.00011383613986290392,\n",
       "  0.00011326705832243627,\n",
       "  0.00011274534426235173,\n",
       "  0.00011226524539087268,\n",
       "  0.00011182203771868461,\n",
       "  0.00011141129902952905,\n",
       "  0.00011103119030848463,\n",
       "  0.00011067657283723645,\n",
       "  0.00011034565543856261,\n",
       "  0.0001100360820936515],\n",
       " 'val_acc': [0.8511666132135984,\n",
       "  0.85633819756254,\n",
       "  0.858242463117383,\n",
       "  0.8588838999358563,\n",
       "  0.8601667735728031,\n",
       "  0.8614496472097498,\n",
       "  0.8614496472097498,\n",
       "  0.8614496472097498,\n",
       "  0.8620910840282232,\n",
       "  0.8620910840282232,\n",
       "  0.8620910840282232,\n",
       "  0.8627325208466966,\n",
       "  0.8640153944836434,\n",
       "  0.8640153944836434,\n",
       "  0.8640153944836434,\n",
       "  0.8640153944836434,\n",
       "  0.8640153944836434,\n",
       "  0.8640153944836434,\n",
       "  0.8640153944836434,\n",
       "  0.8640153944836434,\n",
       "  0.8640153944836434,\n",
       "  0.8640153944836434,\n",
       "  0.8640153944836434,\n",
       "  0.8640153944836434,\n",
       "  0.8640153944836434,\n",
       "  0.8640153944836434,\n",
       "  0.8640153944836434,\n",
       "  0.8640153944836434,\n",
       "  0.8640153944836434,\n",
       "  0.8640153944836434],\n",
       " 'val_loss': [1.5272371979675843,\n",
       "  1.5415574172937334,\n",
       "  1.5497410671502911,\n",
       "  1.5558492318748582,\n",
       "  1.5608402294986206,\n",
       "  1.5648325749749414,\n",
       "  1.5682764325286886,\n",
       "  1.5712008019418287,\n",
       "  1.5738427599992568,\n",
       "  1.576170516367706,\n",
       "  1.5783681662059064,\n",
       "  1.580379333163125,\n",
       "  1.5821482477306938,\n",
       "  1.5838637072265906,\n",
       "  1.5854463743394949,\n",
       "  1.5869508890375061,\n",
       "  1.588381402632831,\n",
       "  1.5897435515098335,\n",
       "  1.5909784199869559,\n",
       "  1.592189387679088,\n",
       "  1.5933054397868338,\n",
       "  1.5943762981092764,\n",
       "  1.5953795932390296,\n",
       "  1.5963741980788475,\n",
       "  1.5973145956013888,\n",
       "  1.5981944017568508,\n",
       "  1.5990559374650724,\n",
       "  1.599889583030551,\n",
       "  1.600670228064285,\n",
       "  1.6014140118725182]}"
      ]
     },
     "execution_count": 5,
     "metadata": {},
     "output_type": "execute_result"
    }
   ],
   "source": [
    "model2.history.history\n"
   ]
  },
  {
   "cell_type": "code",
   "execution_count": null,
   "metadata": {},
   "outputs": [],
   "source": [
    "\"\"\"3 epoch\n",
    "\n",
    "'acc': [0.7746100295220617, 0.9343433335992979, 0.9225594430702945],\n",
    " 'loss': [1.6463822224895437, 0.19220429505605727, 0.2466574061728113],\n",
    " 'val_acc': [0.7543075941289088, 0.7198468410976387, 0.7287611678366305],\n",
    " 'val_loss': [2.3784760587064797, 2.8456657012709403, 2.8842970789353712]}\n",
    " \"\"\""
   ]
  },
  {
   "cell_type": "code",
   "execution_count": 8,
   "metadata": {},
   "outputs": [
    {
     "data": {
      "image/png": "[encoded data removed]",
      "text/plain": [
       "<matplotlib.figure.Figure at 0x7f19191ce470>"
      ]
     },
     "metadata": {},
     "output_type": "display_data"
    }
   ],
   "source": [
    "import matplotlib.pyplot as plt\n",
    "# Get training and test loss histories\n",
    "training_loss = model2.history.history['loss']\n",
    "test_loss = model2.history.history['val_loss']\n",
    "\n",
    "# Create count of the number of epochs\n",
    "epoch_count = range(1, len(training_loss) + 1)\n",
    "\n",
    "# Visualize loss history\n",
    "plt.plot(epoch_count, training_loss, 'r--')\n",
    "plt.plot(epoch_count, test_loss, 'b-')\n",
    "plt.legend(['Training Loss', 'Test Loss'])\n",
    "plt.xlabel('Epoch')\n",
    "plt.ylabel('Loss')\n",
    "plt.show();\n"
   ]
  },
  {
   "cell_type": "code",
   "execution_count": 7,
   "metadata": {},
   "outputs": [
    {
     "data": {
      "image/png": "[encoded data removed]",
      "text/plain": [
       "<matplotlib.figure.Figure at 0x7f18db8d4dd8>"
      ]
     },
     "metadata": {},
     "output_type": "display_data"
    }
   ],
   "source": [
    "training_acc = model2.history.history['acc']\n",
    "test_acc = model2.history.history['val_acc']\n",
    "# Create count of the number of epochs\n",
    "epoch_count = range(1, len(training_loss) + 1)\n",
    "\n",
    "# Visualize loss history\n",
    "plt.plot(epoch_count, training_acc, 'r--')\n",
    "plt.plot(epoch_count, test_acc, 'b-')\n",
    "plt.legend(['Training acc', 'Test acc'])\n",
    "plt.xlabel('Epoch')\n",
    "plt.ylabel('acc')\n",
    "plt.show();"
   ]
  },
  {
   "cell_type": "markdown",
   "metadata": {},
   "source": [
    "# Test on validation images"
   ]
  },
  {
   "cell_type": "code",
   "execution_count": 9,
   "metadata": {},
   "outputs": [],
   "source": [
    "cnt_test = len(os.listdir(DATA_DIR + '/test'))"
   ]
  },
  {
   "cell_type": "code",
   "execution_count": 11,
   "metadata": {},
   "outputs": [],
   "source": [
    "tiger_test = p.TextImageGenerator(DATA_DIR, 'test', 128, 64, cnt_test, 4)\n",
    "tiger_test.build_data()\n",
    "\n",
    "net_inp = model2.get_layer(name='the_input').input\n",
    "net_out = model2.get_layer(name='softmax').output\n",
    "\n",
    "from keras import backend as K\n",
    "sess = tf.Session()\n",
    "K.set_session(sess)\n"
   ]
  },
  {
   "cell_type": "code",
   "execution_count": 12,
   "metadata": {},
   "outputs": [
    {
     "ename": "FailedPreconditionError",
     "evalue": "Attempting to use uninitialized value dense2/kernel\n\t [[Node: dense2/kernel/read = Identity[T=DT_FLOAT, _device=\"/job:localhost/replica:0/task:0/device:GPU:0\"](dense2/kernel)]]\n\t [[Node: softmax/truediv/_27 = _Recv[client_terminated=false, recv_device=\"/job:localhost/replica:0/task:0/device:CPU:0\", send_device=\"/job:localhost/replica:0/task:0/device:GPU:0\", send_device_incarnation=1, tensor_name=\"edge_870_softmax/truediv\", tensor_type=DT_FLOAT, _device=\"/job:localhost/replica:0/task:0/device:CPU:0\"]()]]\n\nCaused by op 'dense2/kernel/read', defined at:\n  File \"/home/user/anaconda3/lib/python3.6/runpy.py\", line 193, in _run_module_as_main\n    \"__main__\", mod_spec)\n  File \"/home/user/anaconda3/lib/python3.6/runpy.py\", line 85, in _run_code\n    exec(code, run_globals)\n  File \"/home/user/anaconda3/lib/python3.6/site-packages/ipykernel_launcher.py\", line 16, in <module>\n    app.launch_new_instance()\n  File \"/home/user/anaconda3/lib/python3.6/site-packages/traitlets/config/application.py\", line 658, in launch_instance\n    app.start()\n  File \"/home/user/anaconda3/lib/python3.6/site-packages/ipykernel/kernelapp.py\", line 478, in start\n    self.io_loop.start()\n  File \"/home/user/anaconda3/lib/python3.6/site-packages/zmq/eventloop/ioloop.py\", line 177, in start\n    super(ZMQIOLoop, self).start()\n  File \"/home/user/anaconda3/lib/python3.6/site-packages/tornado/ioloop.py\", line 888, in start\n    handler_func(fd_obj, events)\n  File \"/home/user/anaconda3/lib/python3.6/site-packages/tornado/stack_context.py\", line 277, in null_wrapper\n    return fn(*args, **kwargs)\n  File \"/home/user/anaconda3/lib/python3.6/site-packages/zmq/eventloop/zmqstream.py\", line 440, in _handle_events\n    self._handle_recv()\n  File \"/home/user/anaconda3/lib/python3.6/site-packages/zmq/eventloop/zmqstream.py\", line 472, in _handle_recv\n    self._run_callback(callback, msg)\n  File \"/home/user/anaconda3/lib/python3.6/site-packages/zmq/eventloop/zmqstream.py\", line 414, in _run_callback\n    callback(*args, **kwargs)\n  File \"/home/user/anaconda3/lib/python3.6/site-packages/tornado/stack_context.py\", line 277, in null_wrapper\n    return fn(*args, **kwargs)\n  File \"/home/user/anaconda3/lib/python3.6/site-packages/ipykernel/kernelbase.py\", line 283, in dispatcher\n    return self.dispatch_shell(stream, msg)\n  File \"/home/user/anaconda3/lib/python3.6/site-packages/ipykernel/kernelbase.py\", line 233, in dispatch_shell\n    handler(stream, idents, msg)\n  File \"/home/user/anaconda3/lib/python3.6/site-packages/ipykernel/kernelbase.py\", line 399, in execute_request\n    user_expressions, allow_stdin)\n  File \"/home/user/anaconda3/lib/python3.6/site-packages/ipykernel/ipkernel.py\", line 208, in do_execute\n    res = shell.run_cell(code, store_history=store_history, silent=silent)\n  File \"/home/user/anaconda3/lib/python3.6/site-packages/ipykernel/zmqshell.py\", line 537, in run_cell\n    return super(ZMQInteractiveShell, self).run_cell(*args, **kwargs)\n  File \"/home/user/anaconda3/lib/python3.6/site-packages/IPython/core/interactiveshell.py\", line 2728, in run_cell\n    interactivity=interactivity, compiler=compiler, result=result)\n  File \"/home/user/anaconda3/lib/python3.6/site-packages/IPython/core/interactiveshell.py\", line 2850, in run_ast_nodes\n    if self.run_code(code, result):\n  File \"/home/user/anaconda3/lib/python3.6/site-packages/IPython/core/interactiveshell.py\", line 2910, in run_code\n    exec(code_obj, self.user_global_ns, self.user_ns)\n  File \"<ipython-input-3-43b08e991a55>\", line 2, in <module>\n    model2 = p.train2gru(128,64,DATA_DIR,False, ROOT_DIR + \"/Model/model15k_2GRU\", 30)\n  File \"/home/user/Source/Evrim/Turkishplate/Python/PPlate.py\", line 270, in train2gru\n    name='dense2')(concatenate([gru_2, gru_2b]))\n  File \"/home/user/anaconda3/lib/python3.6/site-packages/Keras-2.2.2-py3.6.egg/keras/engine/base_layer.py\", line 431, in __call__\n    self.build(unpack_singleton(input_shapes))\n  File \"/home/user/anaconda3/lib/python3.6/site-packages/Keras-2.2.2-py3.6.egg/keras/layers/core.py\", line 866, in build\n    constraint=self.kernel_constraint)\n  File \"/home/user/anaconda3/lib/python3.6/site-packages/Keras-2.2.2-py3.6.egg/keras/legacy/interfaces.py\", line 91, in wrapper\n    return func(*args, **kwargs)\n  File \"/home/user/anaconda3/lib/python3.6/site-packages/Keras-2.2.2-py3.6.egg/keras/engine/base_layer.py\", line 252, in add_weight\n    constraint=constraint)\n  File \"/home/user/anaconda3/lib/python3.6/site-packages/Keras-2.2.2-py3.6.egg/keras/backend/tensorflow_backend.py\", line 402, in variable\n    v = tf.Variable(value, dtype=tf.as_dtype(dtype), name=name)\n  File \"/home/user/anaconda3/lib/python3.6/site-packages/tensorflow/python/ops/variables.py\", line 259, in __init__\n    constraint=constraint)\n  File \"/home/user/anaconda3/lib/python3.6/site-packages/tensorflow/python/ops/variables.py\", line 422, in _init_from_args\n    self._snapshot = array_ops.identity(self._variable, name=\"read\")\n  File \"/home/user/anaconda3/lib/python3.6/site-packages/tensorflow/python/ops/array_ops.py\", line 80, in identity\n    return gen_array_ops.identity(input, name=name)\n  File \"/home/user/anaconda3/lib/python3.6/site-packages/tensorflow/python/ops/gen_array_ops.py\", line 3264, in identity\n    \"Identity\", input=input, name=name)\n  File \"/home/user/anaconda3/lib/python3.6/site-packages/tensorflow/python/framework/op_def_library.py\", line 787, in _apply_op_helper\n    op_def=op_def)\n  File \"/home/user/anaconda3/lib/python3.6/site-packages/tensorflow/python/util/deprecation.py\", line 454, in new_func\n    return func(*args, **kwargs)\n  File \"/home/user/anaconda3/lib/python3.6/site-packages/tensorflow/python/framework/ops.py\", line 3155, in create_op\n    op_def=op_def)\n  File \"/home/user/anaconda3/lib/python3.6/site-packages/tensorflow/python/framework/ops.py\", line 1717, in __init__\n    self._traceback = tf_stack.extract_stack()\n\nFailedPreconditionError (see above for traceback): Attempting to use uninitialized value dense2/kernel\n\t [[Node: dense2/kernel/read = Identity[T=DT_FLOAT, _device=\"/job:localhost/replica:0/task:0/device:GPU:0\"](dense2/kernel)]]\n\t [[Node: softmax/truediv/_27 = _Recv[client_terminated=false, recv_device=\"/job:localhost/replica:0/task:0/device:CPU:0\", send_device=\"/job:localhost/replica:0/task:0/device:GPU:0\", send_device_incarnation=1, tensor_name=\"edge_870_softmax/truediv\", tensor_type=DT_FLOAT, _device=\"/job:localhost/replica:0/task:0/device:CPU:0\"]()]]\n",
     "output_type": "error",
     "traceback": [
      "\u001b[0;31m---------------------------------------------------------------------------\u001b[0m",
      "\u001b[0;31mFailedPreconditionError\u001b[0m                   Traceback (most recent call last)",
      "\u001b[0;32m~/anaconda3/lib/python3.6/site-packages/tensorflow/python/client/session.py\u001b[0m in \u001b[0;36m_do_call\u001b[0;34m(self, fn, *args)\u001b[0m\n\u001b[1;32m   1277\u001b[0m     \u001b[0;32mtry\u001b[0m\u001b[0;34m:\u001b[0m\u001b[0;34m\u001b[0m\u001b[0m\n\u001b[0;32m-> 1278\u001b[0;31m       \u001b[0;32mreturn\u001b[0m \u001b[0mfn\u001b[0m\u001b[0;34m(\u001b[0m\u001b[0;34m*\u001b[0m\u001b[0margs\u001b[0m\u001b[0;34m)\u001b[0m\u001b[0;34m\u001b[0m\u001b[0m\n\u001b[0m\u001b[1;32m   1279\u001b[0m     \u001b[0;32mexcept\u001b[0m \u001b[0merrors\u001b[0m\u001b[0;34m.\u001b[0m\u001b[0mOpError\u001b[0m \u001b[0;32mas\u001b[0m \u001b[0me\u001b[0m\u001b[0;34m:\u001b[0m\u001b[0;34m\u001b[0m\u001b[0m\n",
      "\u001b[0;32m~/anaconda3/lib/python3.6/site-packages/tensorflow/python/client/session.py\u001b[0m in \u001b[0;36m_run_fn\u001b[0;34m(feed_dict, fetch_list, target_list, options, run_metadata)\u001b[0m\n\u001b[1;32m   1262\u001b[0m       return self._call_tf_sessionrun(\n\u001b[0;32m-> 1263\u001b[0;31m           options, feed_dict, fetch_list, target_list, run_metadata)\n\u001b[0m\u001b[1;32m   1264\u001b[0m \u001b[0;34m\u001b[0m\u001b[0m\n",
      "\u001b[0;32m~/anaconda3/lib/python3.6/site-packages/tensorflow/python/client/session.py\u001b[0m in \u001b[0;36m_call_tf_sessionrun\u001b[0;34m(self, options, feed_dict, fetch_list, target_list, run_metadata)\u001b[0m\n\u001b[1;32m   1349\u001b[0m         \u001b[0mself\u001b[0m\u001b[0;34m.\u001b[0m\u001b[0m_session\u001b[0m\u001b[0;34m,\u001b[0m \u001b[0moptions\u001b[0m\u001b[0;34m,\u001b[0m \u001b[0mfeed_dict\u001b[0m\u001b[0;34m,\u001b[0m \u001b[0mfetch_list\u001b[0m\u001b[0;34m,\u001b[0m \u001b[0mtarget_list\u001b[0m\u001b[0;34m,\u001b[0m\u001b[0;34m\u001b[0m\u001b[0m\n\u001b[0;32m-> 1350\u001b[0;31m         run_metadata)\n\u001b[0m\u001b[1;32m   1351\u001b[0m \u001b[0;34m\u001b[0m\u001b[0m\n",
      "\u001b[0;31mFailedPreconditionError\u001b[0m: Attempting to use uninitialized value dense2/kernel\n\t [[Node: dense2/kernel/read = Identity[T=DT_FLOAT, _device=\"/job:localhost/replica:0/task:0/device:GPU:0\"](dense2/kernel)]]\n\t [[Node: softmax/truediv/_27 = _Recv[client_terminated=false, recv_device=\"/job:localhost/replica:0/task:0/device:CPU:0\", send_device=\"/job:localhost/replica:0/task:0/device:GPU:0\", send_device_incarnation=1, tensor_name=\"edge_870_softmax/truediv\", tensor_type=DT_FLOAT, _device=\"/job:localhost/replica:0/task:0/device:CPU:0\"]()]]",
      "\nDuring handling of the above exception, another exception occurred:\n",
      "\u001b[0;31mFailedPreconditionError\u001b[0m                   Traceback (most recent call last)",
      "\u001b[0;32m<ipython-input-12-21e3ae8748b9>\u001b[0m in \u001b[0;36m<module>\u001b[0;34m()\u001b[0m\n\u001b[1;32m      4\u001b[0m     \u001b[0mX_data\u001b[0m \u001b[0;34m=\u001b[0m \u001b[0minp_value\u001b[0m\u001b[0;34m[\u001b[0m\u001b[0;34m'the_input'\u001b[0m\u001b[0;34m]\u001b[0m\u001b[0;34m\u001b[0m\u001b[0m\n\u001b[1;32m      5\u001b[0m \u001b[0;34m\u001b[0m\u001b[0m\n\u001b[0;32m----> 6\u001b[0;31m     \u001b[0mnet_out_value\u001b[0m \u001b[0;34m=\u001b[0m \u001b[0msess\u001b[0m\u001b[0;34m.\u001b[0m\u001b[0mrun\u001b[0m\u001b[0;34m(\u001b[0m\u001b[0mnet_out\u001b[0m\u001b[0;34m,\u001b[0m \u001b[0mfeed_dict\u001b[0m\u001b[0;34m=\u001b[0m\u001b[0;34m{\u001b[0m\u001b[0mnet_inp\u001b[0m\u001b[0;34m:\u001b[0m\u001b[0mX_data\u001b[0m\u001b[0;34m}\u001b[0m\u001b[0;34m)\u001b[0m\u001b[0;34m\u001b[0m\u001b[0m\n\u001b[0m\u001b[1;32m      7\u001b[0m     \u001b[0mpred_texts\u001b[0m \u001b[0;34m=\u001b[0m \u001b[0mdecode_batch\u001b[0m\u001b[0;34m(\u001b[0m\u001b[0mnet_out_value\u001b[0m\u001b[0;34m)\u001b[0m\u001b[0;34m\u001b[0m\u001b[0m\n\u001b[1;32m      8\u001b[0m \u001b[0;34m\u001b[0m\u001b[0m\n",
      "\u001b[0;32m~/anaconda3/lib/python3.6/site-packages/tensorflow/python/client/session.py\u001b[0m in \u001b[0;36mrun\u001b[0;34m(self, fetches, feed_dict, options, run_metadata)\u001b[0m\n\u001b[1;32m    875\u001b[0m     \u001b[0;32mtry\u001b[0m\u001b[0;34m:\u001b[0m\u001b[0;34m\u001b[0m\u001b[0m\n\u001b[1;32m    876\u001b[0m       result = self._run(None, fetches, feed_dict, options_ptr,\n\u001b[0;32m--> 877\u001b[0;31m                          run_metadata_ptr)\n\u001b[0m\u001b[1;32m    878\u001b[0m       \u001b[0;32mif\u001b[0m \u001b[0mrun_metadata\u001b[0m\u001b[0;34m:\u001b[0m\u001b[0;34m\u001b[0m\u001b[0m\n\u001b[1;32m    879\u001b[0m         \u001b[0mproto_data\u001b[0m \u001b[0;34m=\u001b[0m \u001b[0mtf_session\u001b[0m\u001b[0;34m.\u001b[0m\u001b[0mTF_GetBuffer\u001b[0m\u001b[0;34m(\u001b[0m\u001b[0mrun_metadata_ptr\u001b[0m\u001b[0;34m)\u001b[0m\u001b[0;34m\u001b[0m\u001b[0m\n",
      "\u001b[0;32m~/anaconda3/lib/python3.6/site-packages/tensorflow/python/client/session.py\u001b[0m in \u001b[0;36m_run\u001b[0;34m(self, handle, fetches, feed_dict, options, run_metadata)\u001b[0m\n\u001b[1;32m   1098\u001b[0m     \u001b[0;32mif\u001b[0m \u001b[0mfinal_fetches\u001b[0m \u001b[0;32mor\u001b[0m \u001b[0mfinal_targets\u001b[0m \u001b[0;32mor\u001b[0m \u001b[0;34m(\u001b[0m\u001b[0mhandle\u001b[0m \u001b[0;32mand\u001b[0m \u001b[0mfeed_dict_tensor\u001b[0m\u001b[0;34m)\u001b[0m\u001b[0;34m:\u001b[0m\u001b[0;34m\u001b[0m\u001b[0m\n\u001b[1;32m   1099\u001b[0m       results = self._do_run(handle, final_targets, final_fetches,\n\u001b[0;32m-> 1100\u001b[0;31m                              feed_dict_tensor, options, run_metadata)\n\u001b[0m\u001b[1;32m   1101\u001b[0m     \u001b[0;32melse\u001b[0m\u001b[0;34m:\u001b[0m\u001b[0;34m\u001b[0m\u001b[0m\n\u001b[1;32m   1102\u001b[0m       \u001b[0mresults\u001b[0m \u001b[0;34m=\u001b[0m \u001b[0;34m[\u001b[0m\u001b[0;34m]\u001b[0m\u001b[0;34m\u001b[0m\u001b[0m\n",
      "\u001b[0;32m~/anaconda3/lib/python3.6/site-packages/tensorflow/python/client/session.py\u001b[0m in \u001b[0;36m_do_run\u001b[0;34m(self, handle, target_list, fetch_list, feed_dict, options, run_metadata)\u001b[0m\n\u001b[1;32m   1270\u001b[0m     \u001b[0;32mif\u001b[0m \u001b[0mhandle\u001b[0m \u001b[0;32mis\u001b[0m \u001b[0;32mNone\u001b[0m\u001b[0;34m:\u001b[0m\u001b[0;34m\u001b[0m\u001b[0m\n\u001b[1;32m   1271\u001b[0m       return self._do_call(_run_fn, feeds, fetches, targets, options,\n\u001b[0;32m-> 1272\u001b[0;31m                            run_metadata)\n\u001b[0m\u001b[1;32m   1273\u001b[0m     \u001b[0;32melse\u001b[0m\u001b[0;34m:\u001b[0m\u001b[0;34m\u001b[0m\u001b[0m\n\u001b[1;32m   1274\u001b[0m       \u001b[0;32mreturn\u001b[0m \u001b[0mself\u001b[0m\u001b[0;34m.\u001b[0m\u001b[0m_do_call\u001b[0m\u001b[0;34m(\u001b[0m\u001b[0m_prun_fn\u001b[0m\u001b[0;34m,\u001b[0m \u001b[0mhandle\u001b[0m\u001b[0;34m,\u001b[0m \u001b[0mfeeds\u001b[0m\u001b[0;34m,\u001b[0m \u001b[0mfetches\u001b[0m\u001b[0;34m)\u001b[0m\u001b[0;34m\u001b[0m\u001b[0m\n",
      "\u001b[0;32m~/anaconda3/lib/python3.6/site-packages/tensorflow/python/client/session.py\u001b[0m in \u001b[0;36m_do_call\u001b[0;34m(self, fn, *args)\u001b[0m\n\u001b[1;32m   1289\u001b[0m         \u001b[0;32mexcept\u001b[0m \u001b[0mKeyError\u001b[0m\u001b[0;34m:\u001b[0m\u001b[0;34m\u001b[0m\u001b[0m\n\u001b[1;32m   1290\u001b[0m           \u001b[0;32mpass\u001b[0m\u001b[0;34m\u001b[0m\u001b[0m\n\u001b[0;32m-> 1291\u001b[0;31m       \u001b[0;32mraise\u001b[0m \u001b[0mtype\u001b[0m\u001b[0;34m(\u001b[0m\u001b[0me\u001b[0m\u001b[0;34m)\u001b[0m\u001b[0;34m(\u001b[0m\u001b[0mnode_def\u001b[0m\u001b[0;34m,\u001b[0m \u001b[0mop\u001b[0m\u001b[0;34m,\u001b[0m \u001b[0mmessage\u001b[0m\u001b[0;34m)\u001b[0m\u001b[0;34m\u001b[0m\u001b[0m\n\u001b[0m\u001b[1;32m   1292\u001b[0m \u001b[0;34m\u001b[0m\u001b[0m\n\u001b[1;32m   1293\u001b[0m   \u001b[0;32mdef\u001b[0m \u001b[0m_extend_graph\u001b[0m\u001b[0;34m(\u001b[0m\u001b[0mself\u001b[0m\u001b[0;34m)\u001b[0m\u001b[0;34m:\u001b[0m\u001b[0;34m\u001b[0m\u001b[0m\n",
      "\u001b[0;31mFailedPreconditionError\u001b[0m: Attempting to use uninitialized value dense2/kernel\n\t [[Node: dense2/kernel/read = Identity[T=DT_FLOAT, _device=\"/job:localhost/replica:0/task:0/device:GPU:0\"](dense2/kernel)]]\n\t [[Node: softmax/truediv/_27 = _Recv[client_terminated=false, recv_device=\"/job:localhost/replica:0/task:0/device:CPU:0\", send_device=\"/job:localhost/replica:0/task:0/device:GPU:0\", send_device_incarnation=1, tensor_name=\"edge_870_softmax/truediv\", tensor_type=DT_FLOAT, _device=\"/job:localhost/replica:0/task:0/device:CPU:0\"]()]]\n\nCaused by op 'dense2/kernel/read', defined at:\n  File \"/home/user/anaconda3/lib/python3.6/runpy.py\", line 193, in _run_module_as_main\n    \"__main__\", mod_spec)\n  File \"/home/user/anaconda3/lib/python3.6/runpy.py\", line 85, in _run_code\n    exec(code, run_globals)\n  File \"/home/user/anaconda3/lib/python3.6/site-packages/ipykernel_launcher.py\", line 16, in <module>\n    app.launch_new_instance()\n  File \"/home/user/anaconda3/lib/python3.6/site-packages/traitlets/config/application.py\", line 658, in launch_instance\n    app.start()\n  File \"/home/user/anaconda3/lib/python3.6/site-packages/ipykernel/kernelapp.py\", line 478, in start\n    self.io_loop.start()\n  File \"/home/user/anaconda3/lib/python3.6/site-packages/zmq/eventloop/ioloop.py\", line 177, in start\n    super(ZMQIOLoop, self).start()\n  File \"/home/user/anaconda3/lib/python3.6/site-packages/tornado/ioloop.py\", line 888, in start\n    handler_func(fd_obj, events)\n  File \"/home/user/anaconda3/lib/python3.6/site-packages/tornado/stack_context.py\", line 277, in null_wrapper\n    return fn(*args, **kwargs)\n  File \"/home/user/anaconda3/lib/python3.6/site-packages/zmq/eventloop/zmqstream.py\", line 440, in _handle_events\n    self._handle_recv()\n  File \"/home/user/anaconda3/lib/python3.6/site-packages/zmq/eventloop/zmqstream.py\", line 472, in _handle_recv\n    self._run_callback(callback, msg)\n  File \"/home/user/anaconda3/lib/python3.6/site-packages/zmq/eventloop/zmqstream.py\", line 414, in _run_callback\n    callback(*args, **kwargs)\n  File \"/home/user/anaconda3/lib/python3.6/site-packages/tornado/stack_context.py\", line 277, in null_wrapper\n    return fn(*args, **kwargs)\n  File \"/home/user/anaconda3/lib/python3.6/site-packages/ipykernel/kernelbase.py\", line 283, in dispatcher\n    return self.dispatch_shell(stream, msg)\n  File \"/home/user/anaconda3/lib/python3.6/site-packages/ipykernel/kernelbase.py\", line 233, in dispatch_shell\n    handler(stream, idents, msg)\n  File \"/home/user/anaconda3/lib/python3.6/site-packages/ipykernel/kernelbase.py\", line 399, in execute_request\n    user_expressions, allow_stdin)\n  File \"/home/user/anaconda3/lib/python3.6/site-packages/ipykernel/ipkernel.py\", line 208, in do_execute\n    res = shell.run_cell(code, store_history=store_history, silent=silent)\n  File \"/home/user/anaconda3/lib/python3.6/site-packages/ipykernel/zmqshell.py\", line 537, in run_cell\n    return super(ZMQInteractiveShell, self).run_cell(*args, **kwargs)\n  File \"/home/user/anaconda3/lib/python3.6/site-packages/IPython/core/interactiveshell.py\", line 2728, in run_cell\n    interactivity=interactivity, compiler=compiler, result=result)\n  File \"/home/user/anaconda3/lib/python3.6/site-packages/IPython/core/interactiveshell.py\", line 2850, in run_ast_nodes\n    if self.run_code(code, result):\n  File \"/home/user/anaconda3/lib/python3.6/site-packages/IPython/core/interactiveshell.py\", line 2910, in run_code\n    exec(code_obj, self.user_global_ns, self.user_ns)\n  File \"<ipython-input-3-43b08e991a55>\", line 2, in <module>\n    model2 = p.train2gru(128,64,DATA_DIR,False, ROOT_DIR + \"/Model/model15k_2GRU\", 30)\n  File \"/home/user/Source/Evrim/Turkishplate/Python/PPlate.py\", line 270, in train2gru\n    name='dense2')(concatenate([gru_2, gru_2b]))\n  File \"/home/user/anaconda3/lib/python3.6/site-packages/Keras-2.2.2-py3.6.egg/keras/engine/base_layer.py\", line 431, in __call__\n    self.build(unpack_singleton(input_shapes))\n  File \"/home/user/anaconda3/lib/python3.6/site-packages/Keras-2.2.2-py3.6.egg/keras/layers/core.py\", line 866, in build\n    constraint=self.kernel_constraint)\n  File \"/home/user/anaconda3/lib/python3.6/site-packages/Keras-2.2.2-py3.6.egg/keras/legacy/interfaces.py\", line 91, in wrapper\n    return func(*args, **kwargs)\n  File \"/home/user/anaconda3/lib/python3.6/site-packages/Keras-2.2.2-py3.6.egg/keras/engine/base_layer.py\", line 252, in add_weight\n    constraint=constraint)\n  File \"/home/user/anaconda3/lib/python3.6/site-packages/Keras-2.2.2-py3.6.egg/keras/backend/tensorflow_backend.py\", line 402, in variable\n    v = tf.Variable(value, dtype=tf.as_dtype(dtype), name=name)\n  File \"/home/user/anaconda3/lib/python3.6/site-packages/tensorflow/python/ops/variables.py\", line 259, in __init__\n    constraint=constraint)\n  File \"/home/user/anaconda3/lib/python3.6/site-packages/tensorflow/python/ops/variables.py\", line 422, in _init_from_args\n    self._snapshot = array_ops.identity(self._variable, name=\"read\")\n  File \"/home/user/anaconda3/lib/python3.6/site-packages/tensorflow/python/ops/array_ops.py\", line 80, in identity\n    return gen_array_ops.identity(input, name=name)\n  File \"/home/user/anaconda3/lib/python3.6/site-packages/tensorflow/python/ops/gen_array_ops.py\", line 3264, in identity\n    \"Identity\", input=input, name=name)\n  File \"/home/user/anaconda3/lib/python3.6/site-packages/tensorflow/python/framework/op_def_library.py\", line 787, in _apply_op_helper\n    op_def=op_def)\n  File \"/home/user/anaconda3/lib/python3.6/site-packages/tensorflow/python/util/deprecation.py\", line 454, in new_func\n    return func(*args, **kwargs)\n  File \"/home/user/anaconda3/lib/python3.6/site-packages/tensorflow/python/framework/ops.py\", line 3155, in create_op\n    op_def=op_def)\n  File \"/home/user/anaconda3/lib/python3.6/site-packages/tensorflow/python/framework/ops.py\", line 1717, in __init__\n    self._traceback = tf_stack.extract_stack()\n\nFailedPreconditionError (see above for traceback): Attempting to use uninitialized value dense2/kernel\n\t [[Node: dense2/kernel/read = Identity[T=DT_FLOAT, _device=\"/job:localhost/replica:0/task:0/device:GPU:0\"](dense2/kernel)]]\n\t [[Node: softmax/truediv/_27 = _Recv[client_terminated=false, recv_device=\"/job:localhost/replica:0/task:0/device:CPU:0\", send_device=\"/job:localhost/replica:0/task:0/device:GPU:0\", send_device_incarnation=1, tensor_name=\"edge_870_softmax/truediv\", tensor_type=DT_FLOAT, _device=\"/job:localhost/replica:0/task:0/device:CPU:0\"]()]]\n"
     ]
    }
   ],
   "source": [
    "for inp_value, _ in tiger_test.next_batch():\n",
    "    matched=0\n",
    "    bs = inp_value['the_input'].shape[0]\n",
    "    X_data = inp_value['the_input']\n",
    "    \n",
    "    net_out_value = sess.run(net_out, feed_dict={net_inp:X_data})\n",
    "    pred_texts = decode_batch(net_out_value)\n",
    "    \n",
    "    labels = inp_value['the_labels']\n",
    "    texts = []\n",
    "    #print(\"labels:\",labels)\n",
    "    \n",
    "    for label in labels:\n",
    "        text = labels_to_text(label) \n",
    "        #print(\"text:\",text)\n",
    "        #text = ''.join(list(map(lambda x: letters[int(x)], label)))\n",
    "        texts.append(text)\n",
    "        #print(\"texts:\",texts)\n",
    "    \n",
    "    for i in range(bs):\n",
    "        #print('Predicted: %s True: %s i: %s lpred: %s ltrue: %s' % \n",
    "        #      (pred_texts[i], texts[i],str(i),len(pred_texts[i]),len(texts[i])))\n",
    "        \n",
    "        if pred_texts[i] == texts[i]:\n",
    "            matched = matched+1\n",
    "        else:\n",
    "            print('wrong Predicted: %s True: %s i: %s lpred: %s ltrue: %s' % \n",
    "              (pred_texts[i], texts[i],str(i),len(pred_texts[i]),len(texts[i])))\n",
    "            \n",
    "    print(\"matched=\",matched, \",total=\",i, \"TP: %\", round(matched/i, 2) *100)\n",
    "    break"
   ]
  },
  {
   "cell_type": "code",
   "execution_count": null,
   "metadata": {},
   "outputs": [],
   "source": []
  }
 ],
 "metadata": {
  "kernelspec": {
   "display_name": "Python 3",
   "language": "python",
   "name": "python3"
  },
  "language_info": {
   "codemirror_mode": {
    "name": "ipython",
    "version": 3
   },
   "file_extension": ".py",
   "mimetype": "text/x-python",
   "name": "python",
   "nbconvert_exporter": "python",
   "pygments_lexer": "ipython3",
   "version": "3.6.4"
  }
 },
 "nbformat": 4,
 "nbformat_minor": 2
}
