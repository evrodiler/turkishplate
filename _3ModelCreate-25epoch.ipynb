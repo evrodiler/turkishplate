{
 "cells": [
  {
   "cell_type": "code",
   "execution_count": 1,
   "metadata": {},
   "outputs": [
    {
     "name": "stderr",
     "output_type": "stream",
     "text": [
      "/home/user/anaconda3/lib/python3.6/site-packages/h5py/__init__.py:36: FutureWarning: Conversion of the second argument of issubdtype from `float` to `np.floating` is deprecated. In future, it will be treated as `np.float64 == np.dtype(float).type`.\n",
      "  from ._conv import register_converters as _register_converters\n",
      "Using TensorFlow backend.\n"
     ]
    },
    {
     "name": "stdout",
     "output_type": "stream",
     "text": [
      "TensorFlow version: 1.10.1\n",
      "Keras version: 2.2.2\n"
     ]
    }
   ],
   "source": [
    "import keras\n",
    "import tensorflow as tf\n",
    "import sys\n",
    "import os\n",
    "print('TensorFlow version:', tf.__version__)\n",
    "print('Keras version:', keras.__version__)"
   ]
  },
  {
   "cell_type": "code",
   "execution_count": 2,
   "metadata": {},
   "outputs": [
    {
     "name": "stdout",
     "output_type": "stream",
     "text": [
      "Working directory is: /home/user/Source/Evrim/Turkishplate\n"
     ]
    }
   ],
   "source": [
    "working_dir = os.getcwd()\n",
    "print(\"Working directory is:\",working_dir)\n",
    "sys.path.append(working_dir)  # To find local version of the library"
   ]
  },
  {
   "cell_type": "code",
   "execution_count": 3,
   "metadata": {},
   "outputs": [],
   "source": [
    "ROOT_DIR = os.path.join(\"/home/user/Source/Evrim/Turkishplate\") #linux\n",
    "#ROOT_DIR = os.path.join(\"C:/Users/is95217/source/plate/turkishplate\") #win\n",
    "sys.path.append(ROOT_DIR + \"/Python\")\n",
    "import PPlate as p"
   ]
  },
  {
   "cell_type": "code",
   "execution_count": 5,
   "metadata": {},
   "outputs": [
    {
     "name": "stdout",
     "output_type": "stream",
     "text": [
      "Data: /home/user/Source/data/dataEvrim/Original_15Kcrop_distributed\n",
      "Source code: /home/user/Source/Evrim/Turkishplate\n"
     ]
    }
   ],
   "source": [
    "DATA_DIR = \"/home/user/Source/data/dataEvrim/Original_15Kcrop_distributed\"  #linux\n",
    "#DATA_DIR = \"C:/Users/is95217/data/Original_15Kcrop_distributed\" #win\n",
    "print(\"Data:\", DATA_DIR)\n",
    "print(\"Source code:\", ROOT_DIR)"
   ]
  },
  {
   "cell_type": "markdown",
   "metadata": {},
   "source": [
    "# Model description and training"
   ]
  },
  {
   "cell_type": "code",
   "execution_count": 14,
   "metadata": {
    "scrolled": true
   },
   "outputs": [
    {
     "name": "stdout",
     "output_type": "stream",
     "text": [
      "hata!  1#34UH58#02042018#174816.jpgnolu plakanın etiketi6uzunlukta!\n",
      "__________________________________________________________________________________________________\n",
      "Layer (type)                    Output Shape         Param #     Connected to                     \n",
      "==================================================================================================\n",
      "the_input (InputLayer)          (None, 128, 64, 1)   0                                            \n",
      "__________________________________________________________________________________________________\n",
      "conv1 (Conv2D)                  (None, 128, 64, 16)  160         the_input[0][0]                  \n",
      "__________________________________________________________________________________________________\n",
      "max1 (MaxPooling2D)             (None, 64, 32, 16)   0           conv1[0][0]                      \n",
      "__________________________________________________________________________________________________\n",
      "conv2 (Conv2D)                  (None, 64, 32, 16)   2320        max1[0][0]                       \n",
      "__________________________________________________________________________________________________\n",
      "max2 (MaxPooling2D)             (None, 32, 16, 16)   0           conv2[0][0]                      \n",
      "__________________________________________________________________________________________________\n",
      "reshape (Reshape)               (None, 32, 256)      0           max2[0][0]                       \n",
      "__________________________________________________________________________________________________\n",
      "dense1 (Dense)                  (None, 32, 32)       8224        reshape[0][0]                    \n",
      "__________________________________________________________________________________________________\n",
      "gru1 (GRU)                      (None, 32, 512)      837120      dense1[0][0]                     \n",
      "__________________________________________________________________________________________________\n",
      "gru1_b (GRU)                    (None, 32, 512)      837120      dense1[0][0]                     \n",
      "__________________________________________________________________________________________________\n",
      "add_4 (Add)                     (None, 32, 512)      0           gru1[0][0]                       \n",
      "                                                                 gru1_b[0][0]                     \n",
      "__________________________________________________________________________________________________\n",
      "gru2 (GRU)                      (None, 32, 512)      1574400     add_4[0][0]                      \n",
      "__________________________________________________________________________________________________\n",
      "gru2_b (GRU)                    (None, 32, 512)      1574400     add_4[0][0]                      \n",
      "__________________________________________________________________________________________________\n",
      "concatenate_4 (Concatenate)     (None, 32, 1024)     0           gru2[0][0]                       \n",
      "                                                                 gru2_b[0][0]                     \n",
      "__________________________________________________________________________________________________\n",
      "dense2 (Dense)                  (None, 32, 34)       34850       concatenate_4[0][0]              \n",
      "__________________________________________________________________________________________________\n",
      "softmax (Activation)            (None, 32, 34)       0           dense2[0][0]                     \n",
      "==================================================================================================\n",
      "Total params: 4,868,594\n",
      "Trainable params: 4,868,594\n",
      "Non-trainable params: 0\n",
      "__________________________________________________________________________________________________\n",
      "Epoch 1/25\n",
      "12535/12535 [==============================] - 1019s 81ms/step - loss: 0.8497 - acc: 0.8813 - val_loss: 2.2019 - val_acc: 0.8086\n",
      "Epoch 2/25\n",
      "12535/12535 [==============================] - 1016s 81ms/step - loss: 0.0751 - acc: 0.9734 - val_loss: 2.4723 - val_acc: 0.8015\n",
      "Epoch 3/25\n",
      "12535/12535 [==============================] - 1016s 81ms/step - loss: 0.0937 - acc: 0.9681 - val_loss: 2.5558 - val_acc: 0.8111\n",
      "Epoch 4/25\n",
      "12535/12535 [==============================] - 1016s 81ms/step - loss: 0.1435 - acc: 0.9553 - val_loss: 2.6303 - val_acc: 0.7971\n",
      "Epoch 5/25\n",
      "12535/12535 [==============================] - 1016s 81ms/step - loss: 0.2200 - acc: 0.9367 - val_loss: 2.7930 - val_acc: 0.7741\n",
      "Epoch 6/25\n",
      "12535/12535 [==============================] - 1016s 81ms/step - loss: 0.3382 - acc: 0.9086 - val_loss: 2.7193 - val_acc: 0.7575\n",
      "Epoch 7/25\n",
      "12535/12535 [==============================] - 1016s 81ms/step - loss: 0.5405 - acc: 0.8593 - val_loss: 2.5422 - val_acc: 0.7275\n",
      "Epoch 8/25\n",
      "12535/12535 [==============================] - 1016s 81ms/step - loss: 0.8624 - acc: 0.7758 - val_loss: 2.9423 - val_acc: 0.5858\n",
      "Epoch 9/25\n",
      "12535/12535 [==============================] - 1016s 81ms/step - loss: 1.1006 - acc: 0.7082 - val_loss: 2.8771 - val_acc: 0.5948\n",
      "Epoch 10/25\n",
      "12535/12535 [==============================] - 1016s 81ms/step - loss: 1.5403 - acc: 0.6236 - val_loss: 2.0068 - val_acc: 0.6311\n",
      "Epoch 11/25\n",
      "12535/12535 [==============================] - 1016s 81ms/step - loss: 1.5999 - acc: 0.6056 - val_loss: 2.2324 - val_acc: 0.5686\n",
      "Epoch 12/25\n",
      "12535/12535 [==============================] - 1016s 81ms/step - loss: 1.4375 - acc: 0.6140 - val_loss: 2.2877 - val_acc: 0.5495\n",
      "Epoch 13/25\n",
      "12535/12535 [==============================] - 1016s 81ms/step - loss: 1.6989 - acc: 0.5701 - val_loss: 4.8343 - val_acc: 0.2546\n",
      "Epoch 14/25\n",
      "12535/12535 [==============================] - 1016s 81ms/step - loss: 2.1177 - acc: 0.5135 - val_loss: 2.2299 - val_acc: 0.5686\n",
      "Epoch 15/25\n",
      "12535/12535 [==============================] - 1016s 81ms/step - loss: 1.8482 - acc: 0.5449 - val_loss: 2.7646 - val_acc: 0.5131\n",
      "Epoch 16/25\n",
      "12535/12535 [==============================] - 1016s 81ms/step - loss: 1.9649 - acc: 0.5391 - val_loss: 2.1173 - val_acc: 0.5839\n",
      "Epoch 17/25\n",
      "12535/12535 [==============================] - 1016s 81ms/step - loss: 1.8408 - acc: 0.5586 - val_loss: 2.3558 - val_acc: 0.5795\n",
      "Epoch 18/25\n",
      "12535/12535 [==============================] - 1016s 81ms/step - loss: 2.0749 - acc: 0.5402 - val_loss: 2.4052 - val_acc: 0.5590\n",
      "Epoch 19/25\n",
      "12535/12535 [==============================] - 1016s 81ms/step - loss: 2.0191 - acc: 0.5454 - val_loss: 2.3260 - val_acc: 0.5584\n",
      "Epoch 20/25\n",
      "12535/12535 [==============================] - 1016s 81ms/step - loss: 2.0710 - acc: 0.5171 - val_loss: 2.2950 - val_acc: 0.5328\n",
      "Epoch 21/25\n",
      "12535/12535 [==============================] - 1016s 81ms/step - loss: 2.2863 - acc: 0.4643 - val_loss: 2.6972 - val_acc: 0.4959\n",
      "Epoch 22/25\n",
      "12535/12535 [==============================] - 1016s 81ms/step - loss: 2.6499 - acc: 0.4012 - val_loss: 3.9047 - val_acc: 0.2297\n",
      "Epoch 23/25\n",
      "12535/12535 [==============================] - 1016s 81ms/step - loss: 3.6599 - acc: 0.2386 - val_loss: 4.4510 - val_acc: 0.1697\n",
      "Epoch 24/25\n",
      "12535/12535 [==============================] - 1016s 81ms/step - loss: 3.3908 - acc: 0.2978 - val_loss: 4.0523 - val_acc: 0.2706\n",
      "Epoch 25/25\n",
      "12535/12535 [==============================] - 1016s 81ms/step - loss: 2.8378 - acc: 0.3726 - val_loss: 2.8197 - val_acc: 0.4001\n",
      "Saved/home/user/Source/Evrim/Turkishplate/Model/model15k_2 model to disk\n"
     ]
    }
   ],
   "source": [
    "#                imgw,imgh,path,load, path & name_model, epoch_cnt\n",
    "model = p.train(128,64,DATA_DIR,False, ROOT_DIR + \"/Model/model15k_2\", 25)  "
   ]
  },
  {
   "cell_type": "code",
   "execution_count": 15,
   "metadata": {},
   "outputs": [
    {
     "data": {
      "text/plain": [
       "{'acc': [0.8812649581172717,\n",
       "  0.9733920023932988,\n",
       "  0.9681441962504986,\n",
       "  0.955282708416434,\n",
       "  0.9366548663741524,\n",
       "  0.9086383127243718,\n",
       "  0.8593263861188671,\n",
       "  0.7758052453131232,\n",
       "  0.7081820901475867,\n",
       "  0.6236263462305545,\n",
       "  0.6056068009573196,\n",
       "  0.6140082768248903,\n",
       "  0.570118667730355,\n",
       "  0.5135296170721978,\n",
       "  0.5448718587953729,\n",
       "  0.5391204627044276,\n",
       "  0.5585784802552852,\n",
       "  0.5401525727961707,\n",
       "  0.5454327881930594,\n",
       "  0.5170921420023933,\n",
       "  0.46425757877941765,\n",
       "  0.40123404467491025,\n",
       "  0.2385520542481053,\n",
       "  0.2978036497806143,\n",
       "  0.3725593338651775],\n",
       " 'loss': [0.84973188077849,\n",
       "  0.0751476930520893,\n",
       "  0.09371272681845541,\n",
       "  0.14352429481189094,\n",
       "  0.2199828252704114,\n",
       "  0.33820668620520467,\n",
       "  0.5404810008205998,\n",
       "  0.8624352901876805,\n",
       "  1.1006102191805127,\n",
       "  1.5403016232492013,\n",
       "  1.5998660784724417,\n",
       "  1.437470262083082,\n",
       "  1.698901137400539,\n",
       "  2.117683116991205,\n",
       "  1.8481634342128364,\n",
       "  1.9648689778572923,\n",
       "  1.8407890781980136,\n",
       "  2.0749172912860803,\n",
       "  2.019119394456765,\n",
       "  2.070988071625766,\n",
       "  2.286300441062826,\n",
       "  2.64992615264823,\n",
       "  3.6599252120260704,\n",
       "  3.390799632436686,\n",
       "  2.83783320865167],\n",
       " 'val_acc': [0.8085513720485004,\n",
       "  0.801531589023612,\n",
       "  0.811104020421187,\n",
       "  0.7970644543714104,\n",
       "  0.7740906190172304,\n",
       "  0.7575183471601787,\n",
       "  0.7275047862156988,\n",
       "  0.585832801531589,\n",
       "  0.5947670708359923,\n",
       "  0.6311423101467772,\n",
       "  0.5685824824505424,\n",
       "  0.5494575622208041,\n",
       "  0.2546266751754946,\n",
       "  0.5686223675813656,\n",
       "  0.5130823229100191,\n",
       "  0.5838983726866624,\n",
       "  0.5794711231652839,\n",
       "  0.559029993618379,\n",
       "  0.558411774090619,\n",
       "  0.5328454052329291,\n",
       "  0.4958718889597958,\n",
       "  0.2297383535417996,\n",
       "  0.16973117421825143,\n",
       "  0.27058072750478623,\n",
       "  0.40014757498404596],\n",
       " 'val_loss': [2.201855887671375,\n",
       "  2.47228919194052,\n",
       "  2.555813001870548,\n",
       "  2.6303005965929374,\n",
       "  2.793036981123834,\n",
       "  2.7192782817435783,\n",
       "  2.5421878870983146,\n",
       "  2.9423483279607976,\n",
       "  2.8770843742946646,\n",
       "  2.006814658927096,\n",
       "  2.232435696925338,\n",
       "  2.2876550267666254,\n",
       "  4.8343353014351385,\n",
       "  2.229889375850054,\n",
       "  2.764611952078137,\n",
       "  2.11731498317119,\n",
       "  2.355816116493526,\n",
       "  2.4051964290596985,\n",
       "  2.3259965172982473,\n",
       "  2.2949865628331043,\n",
       "  2.6971725864477345,\n",
       "  3.9046571989613272,\n",
       "  4.45098443569921,\n",
       "  4.052333018546966,\n",
       "  2.819686307219388]}"
      ]
     },
     "execution_count": 15,
     "metadata": {},
     "output_type": "execute_result"
    }
   ],
   "source": [
    "model.history.history"
   ]
  },
  {
   "cell_type": "code",
   "execution_count": null,
   "metadata": {},
   "outputs": [],
   "source": [
    "\"\"\"3 epoch\n",
    "\n",
    "'acc': [0.7746100295220617, 0.9343433335992979, 0.9225594430702945],\n",
    " 'loss': [1.6463822224895437, 0.19220429505605727, 0.2466574061728113],\n",
    " 'val_acc': [0.7543075941289088, 0.7198468410976387, 0.7287611678366305],\n",
    " 'val_loss': [2.3784760587064797, 2.8456657012709403, 2.8842970789353712]}\n",
    " \"\"\""
   ]
  },
  {
   "cell_type": "code",
   "execution_count": 16,
   "metadata": {},
   "outputs": [
    {
     "data": {
      "image/png": "[encoded data removed]",
      "text/plain": [
       "<matplotlib.figure.Figure at 0x7f8ad19540b8>"
      ]
     },
     "metadata": {},
     "output_type": "display_data"
    }
   ],
   "source": [
    "import matplotlib.pyplot as plt\n",
    "# Get training and test loss histories\n",
    "training_loss = model.history.history['loss']\n",
    "test_loss = model.history.history['val_loss']\n",
    "\n",
    "# Create count of the number of epochs\n",
    "epoch_count = range(1, len(training_loss) + 1)\n",
    "\n",
    "# Visualize loss history\n",
    "plt.plot(epoch_count, training_loss, 'r--')\n",
    "plt.plot(epoch_count, test_loss, 'b-')\n",
    "plt.legend(['Training Loss', 'Test Loss'])\n",
    "plt.xlabel('Epoch')\n",
    "plt.ylabel('Loss')\n",
    "plt.show();\n"
   ]
  },
  {
   "cell_type": "code",
   "execution_count": 17,
   "metadata": {},
   "outputs": [
    {
     "data": {
      "image/png": "[encoded data removed]",
      "text/plain": [
       "<matplotlib.figure.Figure at 0x7f8a8ddf1390>"
      ]
     },
     "metadata": {},
     "output_type": "display_data"
    }
   ],
   "source": [
    "training_acc = model.history.history['acc']\n",
    "test_acc = model.history.history['val_acc']\n",
    "# Create count of the number of epochs\n",
    "epoch_count = range(1, len(training_loss) + 1)\n",
    "\n",
    "# Visualize loss history\n",
    "plt.plot(epoch_count, training_acc, 'r--')\n",
    "plt.plot(epoch_count, test_acc, 'b-')\n",
    "plt.legend(['Training acc', 'Test acc'])\n",
    "plt.xlabel('Epoch')\n",
    "plt.ylabel('acc')\n",
    "plt.show();"
   ]
  },
  {
   "cell_type": "markdown",
   "metadata": {},
   "source": [
    "# Test on validation images"
   ]
  },
  {
   "cell_type": "code",
   "execution_count": 18,
   "metadata": {},
   "outputs": [],
   "source": [
    "cnt_test = len(os.listdir(DATA_DIR + '/test'))"
   ]
  },
  {
   "cell_type": "code",
   "execution_count": 20,
   "metadata": {},
   "outputs": [],
   "source": [
    "tiger_test = p.TextImageGenerator(DATA_DIR, 'test', 128, 64, cnt_test, 4)\n",
    "tiger_test.build_data()\n",
    "\n",
    "net_inp = model.get_layer(name='the_input').input\n",
    "net_out = model.get_layer(name='softmax').output"
   ]
  },
  {
   "cell_type": "code",
   "execution_count": 21,
   "metadata": {},
   "outputs": [
    {
     "ename": "NameError",
     "evalue": "name 'sess' is not defined",
     "output_type": "error",
     "traceback": [
      "\u001b[0;31m---------------------------------------------------------------------------\u001b[0m",
      "\u001b[0;31mNameError\u001b[0m                                 Traceback (most recent call last)",
      "\u001b[0;32m<ipython-input-21-21e3ae8748b9>\u001b[0m in \u001b[0;36m<module>\u001b[0;34m()\u001b[0m\n\u001b[1;32m      4\u001b[0m     \u001b[0mX_data\u001b[0m \u001b[0;34m=\u001b[0m \u001b[0minp_value\u001b[0m\u001b[0;34m[\u001b[0m\u001b[0;34m'the_input'\u001b[0m\u001b[0;34m]\u001b[0m\u001b[0;34m\u001b[0m\u001b[0m\n\u001b[1;32m      5\u001b[0m \u001b[0;34m\u001b[0m\u001b[0m\n\u001b[0;32m----> 6\u001b[0;31m     \u001b[0mnet_out_value\u001b[0m \u001b[0;34m=\u001b[0m \u001b[0msess\u001b[0m\u001b[0;34m.\u001b[0m\u001b[0mrun\u001b[0m\u001b[0;34m(\u001b[0m\u001b[0mnet_out\u001b[0m\u001b[0;34m,\u001b[0m \u001b[0mfeed_dict\u001b[0m\u001b[0;34m=\u001b[0m\u001b[0;34m{\u001b[0m\u001b[0mnet_inp\u001b[0m\u001b[0;34m:\u001b[0m\u001b[0mX_data\u001b[0m\u001b[0;34m}\u001b[0m\u001b[0;34m)\u001b[0m\u001b[0;34m\u001b[0m\u001b[0m\n\u001b[0m\u001b[1;32m      7\u001b[0m     \u001b[0mpred_texts\u001b[0m \u001b[0;34m=\u001b[0m \u001b[0mdecode_batch\u001b[0m\u001b[0;34m(\u001b[0m\u001b[0mnet_out_value\u001b[0m\u001b[0;34m)\u001b[0m\u001b[0;34m\u001b[0m\u001b[0m\n\u001b[1;32m      8\u001b[0m \u001b[0;34m\u001b[0m\u001b[0m\n",
      "\u001b[0;31mNameError\u001b[0m: name 'sess' is not defined"
     ]
    }
   ],
   "source": [
    "for inp_value, _ in tiger_test.next_batch():\n",
    "    matched=0\n",
    "    bs = inp_value['the_input'].shape[0]\n",
    "    X_data = inp_value['the_input']\n",
    "    \n",
    "    net_out_value = sess.run(net_out, feed_dict={net_inp:X_data})\n",
    "    pred_texts = decode_batch(net_out_value)\n",
    "    \n",
    "    labels = inp_value['the_labels']\n",
    "    texts = []\n",
    "    #print(\"labels:\",labels)\n",
    "    \n",
    "    for label in labels:\n",
    "        text = labels_to_text(label) \n",
    "        #print(\"text:\",text)\n",
    "        #text = ''.join(list(map(lambda x: letters[int(x)], label)))\n",
    "        texts.append(text)\n",
    "        #print(\"texts:\",texts)\n",
    "    \n",
    "    for i in range(bs):\n",
    "        #print('Predicted: %s True: %s i: %s lpred: %s ltrue: %s' % \n",
    "        #      (pred_texts[i], texts[i],str(i),len(pred_texts[i]),len(texts[i])))\n",
    "        \n",
    "        if pred_texts[i] == texts[i]:\n",
    "            matched = matched+1\n",
    "        else:\n",
    "            print('wrong Predicted: %s True: %s i: %s lpred: %s ltrue: %s' % \n",
    "              (pred_texts[i], texts[i],str(i),len(pred_texts[i]),len(texts[i])))\n",
    "            \n",
    "    print(\"matched=\",matched, \",total=\",i, \"TP: %\", round(matched/i, 2) *100)\n",
    "    break"
   ]
  },
  {
   "cell_type": "code",
   "execution_count": null,
   "metadata": {},
   "outputs": [],
   "source": []
  }
 ],
 "metadata": {
  "kernelspec": {
   "display_name": "Python 3",
   "language": "python",
   "name": "python3"
  },
  "language_info": {
   "codemirror_mode": {
    "name": "ipython",
    "version": 3
   },
   "file_extension": ".py",
   "mimetype": "text/x-python",
   "name": "python",
   "nbconvert_exporter": "python",
   "pygments_lexer": "ipython3",
   "version": "3.6.4"
  }
 },
 "nbformat": 4,
 "nbformat_minor": 2
}
