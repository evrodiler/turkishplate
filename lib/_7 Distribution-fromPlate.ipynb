{
 "cells": [
  {
   "cell_type": "code",
   "execution_count": 68,
   "metadata": {},
   "outputs": [],
   "source": [
    "#distribution of plates; train dev and test\n",
    "import json\n",
    "import os\n",
    "import shutil\n",
    "import pandas as pd\n",
    "import matplotlib.pyplot as plt\n",
    "import sys\n",
    "sys.path.append(os.path.dirname(os.path.realpath('Textgen')) + \"/python\")\n",
    "import Textgen as t\n",
    "import seaborn as sns"
   ]
  },
  {
   "cell_type": "code",
   "execution_count": 2,
   "metadata": {},
   "outputs": [],
   "source": [
    "ann_dirpath = \"../data/anpr_ocr__train/ann\"\n",
    "test_dirpath = \"../data/anpr_ocr__test/img\""
   ]
  },
  {
   "cell_type": "code",
   "execution_count": 3,
   "metadata": {},
   "outputs": [
    {
     "name": "stdout",
     "output_type": "stream",
     "text": [
      "Total count of files: 4608\n",
      "Total count of training set: 3685\n",
      "Total count of val set: 461\n",
      "Total count of test set: 462\n"
     ]
    }
   ],
   "source": [
    "test_cnt=t.Print_overall(ann_dirpath,test_dirpath)"
   ]
  },
  {
   "cell_type": "code",
   "execution_count": 76,
   "metadata": {},
   "outputs": [],
   "source": [
    "start,end='#','#'\n",
    "data=[]\n",
    "for fx in os.listdir(test_dirpath):\n",
    "    try:\n",
    "        fname= (fx.split(start))[1].split(end)[0]\n",
    "    except:\n",
    "        print(\"error in:\", fx)\n",
    "    s = list(fname)\n",
    "    data.append(s)\n",
    "df = pd.DataFrame(data,columns=['1','2','3','4','5','6','7','8'])   "
   ]
  },
  {
   "cell_type": "code",
   "execution_count": 77,
   "metadata": {},
   "outputs": [
    {
     "data": {
      "text/plain": [
       "<matplotlib.axes._subplots.AxesSubplot at 0x2b319ce2898>"
      ]
     },
     "execution_count": 77,
     "metadata": {},
     "output_type": "execute_result"
    },
    {
     "data": {
      "image/png": "[encoded data removed]",
      "text/plain": [
       "<Figure size 432x288 with 1 Axes>"
      ]
     },
     "metadata": {},
     "output_type": "display_data"
    }
   ],
   "source": [
    "sns.countplot(data=df, x='1')  # tekli"
   ]
  },
  {
   "cell_type": "code",
   "execution_count": 95,
   "metadata": {},
   "outputs": [],
   "source": [
    "result = df['1']+df['2']\n"
   ]
  },
  {
   "cell_type": "code",
   "execution_count": 99,
   "metadata": {},
   "outputs": [
    {
     "data": {
      "text/plain": [
       "<matplotlib.axes._subplots.AxesSubplot at 0x2b31b8fc748>"
      ]
     },
     "execution_count": 99,
     "metadata": {},
     "output_type": "execute_result"
    },
    {
     "data": {
      "image/png": "[encoded data removed]",
      "text/plain": [
       "<Figure size 432x288 with 1 Axes>"
      ]
     },
     "metadata": {},
     "output_type": "display_data"
    }
   ],
   "source": [
    "sns.countplot(data=df, x= result)  # tekli"
   ]
  },
  {
   "cell_type": "code",
   "execution_count": 97,
   "metadata": {},
   "outputs": [
    {
     "name": "stderr",
     "output_type": "stream",
     "text": [
      "C:\\Users\\is95217\\AppData\\Local\\Continuum\\anaconda3\\envs\\tensorflow\\lib\\site-packages\\scipy\\stats\\stats.py:1713: FutureWarning: Using a non-tuple sequence for multidimensional indexing is deprecated; use `arr[tuple(seq)]` instead of `arr[seq]`. In the future this will be interpreted as an array index, `arr[np.array(seq)]`, which will result either in an error or a different result.\n",
      "  return np.add.reduce(sorted[indexer] * weights, axis=axis) / sumval\n"
     ]
    },
    {
     "data": {
      "text/plain": [
       "<matplotlib.axes._subplots.AxesSubplot at 0x2b31b8aec50>"
      ]
     },
     "execution_count": 97,
     "metadata": {},
     "output_type": "execute_result"
    },
    {
     "data": {
      "image/png": "[encoded data removed]",
      "text/plain": [
       "<Figure size 432x288 with 1 Axes>"
      ]
     },
     "metadata": {},
     "output_type": "display_data"
    }
   ],
   "source": [
    "sns.distplot(result.astype(int))"
   ]
  },
  {
   "cell_type": "code",
   "execution_count": 86,
   "metadata": {},
   "outputs": [],
   "source": [
    "a=pd.concat([df['1'], df['2']], keys=['1', '2'])"
   ]
  },
  {
   "cell_type": "code",
   "execution_count": 87,
   "metadata": {},
   "outputs": [
    {
     "data": {
      "text/plain": [
       "1  0      0\n",
       "   1      0\n",
       "   2      0\n",
       "   3      0\n",
       "   4      0\n",
       "   5      0\n",
       "   6      0\n",
       "   7      0\n",
       "   8      0\n",
       "   9      0\n",
       "   10     0\n",
       "   11     0\n",
       "   12     0\n",
       "   13     0\n",
       "   14     0\n",
       "   15     0\n",
       "   16     0\n",
       "   17     0\n",
       "   18     0\n",
       "   19     0\n",
       "   20     0\n",
       "   21     0\n",
       "   22     0\n",
       "   23     0\n",
       "   24     0\n",
       "   25     0\n",
       "   26     0\n",
       "   27     0\n",
       "   28     0\n",
       "   29     0\n",
       "         ..\n",
       "2  431    9\n",
       "   432    9\n",
       "   433    9\n",
       "   434    9\n",
       "   435    9\n",
       "   436    9\n",
       "   437    0\n",
       "   438    4\n",
       "   439    4\n",
       "   440    4\n",
       "   441    7\n",
       "   442    7\n",
       "   443    7\n",
       "   444    7\n",
       "   445    0\n",
       "   446    1\n",
       "   447    8\n",
       "   448    8\n",
       "   449    8\n",
       "   450    8\n",
       "   451    8\n",
       "   452    8\n",
       "   453    8\n",
       "   454    8\n",
       "   455    8\n",
       "   456    8\n",
       "   457    8\n",
       "   458    8\n",
       "   459    0\n",
       "   460    1\n",
       "Length: 922, dtype: object"
      ]
     },
     "execution_count": 87,
     "metadata": {},
     "output_type": "execute_result"
    }
   ],
   "source": [
    "a"
   ]
  },
  {
   "cell_type": "code",
   "execution_count": null,
   "metadata": {},
   "outputs": [],
   "source": []
  }
 ],
 "metadata": {
  "kernelspec": {
   "display_name": "Python 3",
   "language": "python",
   "name": "python3"
  },
  "language_info": {
   "codemirror_mode": {
    "name": "ipython",
    "version": 3
   },
   "file_extension": ".py",
   "mimetype": "text/x-python",
   "name": "python",
   "nbconvert_exporter": "python",
   "pygments_lexer": "ipython3",
   "version": "3.6.5"
  }
 },
 "nbformat": 4,
 "nbformat_minor": 2
}
