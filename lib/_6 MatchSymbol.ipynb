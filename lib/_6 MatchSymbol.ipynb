{
 "cells": [
  {
   "cell_type": "code",
   "execution_count": 24,
   "metadata": {},
   "outputs": [],
   "source": [
    "import itertools\n",
    "\n",
    "def check_word(word):\n",
    "    spec_symbols = '#'\n",
    "    match = [l in spec_symbols for l in word]    \n",
    "    print(match)\n",
    "    #group = [k for k,g in itertools.groupby(match)]\n",
    "    #print(group)\n",
    "    #return sum(group) == 1\n",
    "    return sum(match) == 2\n",
    "\n",
    "\n"
   ]
  },
  {
   "cell_type": "code",
   "execution_count": 26,
   "metadata": {},
   "outputs": [
    {
     "name": "stdout",
     "output_type": "stream",
     "text": [
      "[True, False, False, False, False, True]\n",
      "True\n"
     ]
    }
   ],
   "source": [
    "print(check_word(\"#x134#\"))"
   ]
  },
  {
   "cell_type": "code",
   "execution_count": null,
   "metadata": {},
   "outputs": [],
   "source": [
    "print(check_word(\"terdsa223124\")) # --> True\n",
    "print(check_word(\"ter223124dsa\")) # --> True\n",
    "print(check_word(\"223124terdsa\")) # --> True\n",
    "print(check_word(\"223124terdsa223124\")) # --> False\n",
    "print(check_word(\"223124ter223124dsa\")) # --> False"
   ]
  }
 ],
 "metadata": {
  "kernelspec": {
   "display_name": "Python 3",
   "language": "python",
   "name": "python3"
  },
  "language_info": {
   "codemirror_mode": {
    "name": "ipython",
    "version": 3
   },
   "file_extension": ".py",
   "mimetype": "text/x-python",
   "name": "python",
   "nbconvert_exporter": "python",
   "pygments_lexer": "ipython3",
   "version": "3.6.5"
  }
 },
 "nbformat": 4,
 "nbformat_minor": 2
}
