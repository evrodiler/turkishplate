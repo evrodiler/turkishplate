{
 "cells": [
  {
   "cell_type": "code",
   "execution_count": 1,
   "metadata": {},
   "outputs": [],
   "source": [
    "import csv\n",
    "import glob\n",
    "import pandas as pd\n",
    "import shutil\n",
    "import json"
   ]
  },
  {
   "cell_type": "code",
   "execution_count": null,
   "metadata": {},
   "outputs": [],
   "source": [
    "excel_files = glob.glob('düzenli_train.xlsx')\n",
    "print(excel_files)\n",
    "for excel_file in excel_files:\n",
    "    df = pd.read_excel(excel_file)\n",
    "    output = excel_file.split('.')[0]+'.csv'\n",
    "    df.to_csv(output)"
   ]
  },
  {
   "cell_type": "code",
   "execution_count": 48,
   "metadata": {},
   "outputs": [],
   "source": [
    "\n",
    "\n",
    "data = []\n",
    "with open('düzenli_train.csv') as f:\n",
    "    for row in csv.DictReader(f):\n",
    "        data.append(row)\n",
    "\n",
    "json_data = json.dumps(data)\n",
    "with open('train.json', 'w' ) as outfile:  \n",
    "        json.dump(data, outfile)"
   ]
  },
  {
   "cell_type": "code",
   "execution_count": 2,
   "metadata": {},
   "outputs": [
    {
     "name": "stdout",
     "output_type": "stream",
     "text": [
      "Source data loaded. Number of rows in data: 802\n"
     ]
    }
   ],
   "source": [
    "#with open(inp_json_location + inp_json_filename) as f:\n",
    "with open(\"train.json\") as f:\n",
    "    source_data = json.load(f)\n",
    "\n",
    "print (\"Source data loaded. Number of rows in data:\", len(source_data))"
   ]
  },
  {
   "cell_type": "code",
   "execution_count": 3,
   "metadata": {},
   "outputs": [
    {
     "name": "stdout",
     "output_type": "stream",
     "text": [
      "Number of discarded records: 0\n",
      "Number of converted records: 802\n",
      "                               true_plate\n",
      "filename                                 \n",
      "1#01APC481#04042018#082908.jpg    01APC48\n",
      "1#01DD761#13042018#064816.jpg     01DID76\n",
      "1#01DEK081#28032018#115314.jpg    01DEK08\n",
      "1#01DEK084#28032018#090619.jpg    01DEK08\n",
      "1#01DEK11#28032018#080621.jpg     01DEK11\n"
     ]
    }
   ],
   "source": [
    "discarded_count=0\n",
    "converted_count=0\n",
    "dest_data= {}\n",
    "for d in source_data:\n",
    "    try:\n",
    "        result = {}       \n",
    "        result['filename'] = d['filename']\n",
    "        #print(result)\n",
    "        #result['Plate'] = (d['filename']).split('#')[1]\n",
    "        result['true_plate']= d['true_plate']    \n",
    "        dest_data[result['filename']] = result\n",
    "        converted_count += 1\n",
    "    except:\n",
    "            discarded_count += 1\n",
    "print(\"Number of discarded records:\", discarded_count)\n",
    "print(\"Number of converted records:\", len(dest_data))\n",
    "result_df = pd.DataFrame.from_dict(dest_data, orient='index')\n",
    "result_df.set_index('filename', inplace=True)\n",
    "print(result_df[:5])"
   ]
  },
  {
   "cell_type": "code",
   "execution_count": 5,
   "metadata": {},
   "outputs": [
    {
     "name": "stdout",
     "output_type": "stream",
     "text": [
      "[Errno 2] No such file or directory: '../data/anpr_ocr_croppedimg/1#01DEK111#04042018#140840.jpg'\n",
      "[Errno 2] No such file or directory: '../data/anpr_ocr_croppedimg/1#01VI692#13042018#115223.jpg'\n",
      "[Errno 2] No such file or directory: '../data/anpr_ocr_croppedimg/1#06ABI963#14042018#150838.jpg'\n",
      "[Errno 2] No such file or directory: '../data/anpr_ocr_croppedimg/1#06BAN453#29032018#165629.jpg'\n",
      "[Errno 2] No such file or directory: '../data/anpr_ocr_croppedimg/1#06BCN15#09062018#094354.jpg'\n",
      "[Errno 2] No such file or directory: '../data/anpr_ocr_croppedimg/1#06BGT711#28032018#085126.jpg'\n",
      "[Errno 2] No such file or directory: '../data/anpr_ocr_croppedimg/1#06BHB777#14042018#090715.jpg'\n",
      "[Errno 2] No such file or directory: '../data/anpr_ocr_croppedimg/1#06BHE117#13042018#091822.jpg'\n",
      "[Errno 2] No such file or directory: '../data/anpr_ocr_croppedimg/1#06BHO75#13042018#074602.jpg'\n",
      "[Errno 2] No such file or directory: '../data/anpr_ocr_croppedimg/1#06BP862#05042018#070136.jpg'\n",
      "[Errno 2] No such file or directory: '../data/anpr_ocr_croppedimg/1#06EJ4309#03042018#130956.jpg'\n",
      "[Errno 2] No such file or directory: '../data/anpr_ocr_croppedimg/1#06FG7164#16042018#180521.jpg'\n",
      "[Errno 2] No such file or directory: '../data/anpr_ocr_croppedimg/1#06FJ724#11042018#111818.jpg'\n",
      "[Errno 2] No such file or directory: '../data/anpr_ocr_croppedimg/1#06JEY92#03042018#174527.jpg'\n",
      "[Errno 2] No such file or directory: '../data/anpr_ocr_croppedimg/1#06RY6068#12042018#104150.jpg'\n",
      "[Errno 2] No such file or directory: '../data/anpr_ocr_croppedimg/1#06SDA48#05042018#165744.jpg'\n",
      "[Errno 2] No such file or directory: '../data/anpr_ocr_croppedimg/1#06TF185#13042018#122804.jpg'\n",
      "[Errno 2] No such file or directory: '../data/anpr_ocr_croppedimg/1#06UAF34#29032018#191039.jpg'\n",
      "[Errno 2] No such file or directory: '../data/anpr_ocr_croppedimg/1#06UNK83#13042018#091735.jpg'\n",
      "[Errno 2] No such file or directory: '../data/anpr_ocr_croppedimg/1#06UNL34#01042018#085054.jpg'\n",
      "[Errno 2] No such file or directory: '../data/anpr_ocr_croppedimg/1#06UNN78#01042018#084909.jpg'\n",
      "[Errno 2] No such file or directory: '../data/anpr_ocr_croppedimg/1#06UR6593#30032018#145918.jpg'\n",
      "[Errno 2] No such file or directory: '../data/anpr_ocr_croppedimg/1#07BKD961#04042018#190910.jpg'\n",
      "[Errno 2] No such file or directory: '../data/anpr_ocr_croppedimg/1#07BKD961#05042018#103438.jpg'\n",
      "[Errno 2] No such file or directory: '../data/anpr_ocr_croppedimg/1#07BKD961#31032018#153054.jpg'\n",
      "[Errno 2] No such file or directory: '../data/anpr_ocr_croppedimg/1#07BKD967#13042018#081643.jpg'\n",
      "[Errno 2] No such file or directory: '../data/anpr_ocr_croppedimg/1#07CTH051#02072018#081734.jpg'\n",
      "[Errno 2] No such file or directory: '../data/anpr_ocr_croppedimg/1#07CTH051#05042018#182759.jpg'\n",
      "[Errno 2] No such file or directory: '../data/anpr_ocr_croppedimg/1#07CTH051#30032018#101410.jpg'\n",
      "[Errno 2] No such file or directory: '../data/anpr_ocr_croppedimg/1#07CTH051#31032018#071843.jpg'\n",
      "[Errno 2] No such file or directory: '../data/anpr_ocr_croppedimg/1#07CTH051#31032018#084951.jpg'\n",
      "[Errno 2] No such file or directory: '../data/anpr_ocr_croppedimg/1#07CTH051#31032018#095603.jpg'\n",
      "[Errno 2] No such file or directory: '../data/anpr_ocr_croppedimg/1#07CTH051#31032018#150112.jpg'\n",
      "[Errno 2] No such file or directory: '../data/anpr_ocr_croppedimg/1#07CTH051#31032018#155754.jpg'\n",
      "[Errno 2] No such file or directory: '../data/anpr_ocr_croppedimg/1#07CTH054#31032018#132808.jpg'\n",
      "[Errno 2] No such file or directory: '../data/anpr_ocr_croppedimg/1#07CTH057#30032018#170727.jpg'\n",
      "[Errno 2] No such file or directory: '../data/anpr_ocr_croppedimg/1#07DJG311#31032018#085206.jpg'\n",
      "[Errno 2] No such file or directory: '../data/anpr_ocr_croppedimg/1#07EAN81#09042018#212248.jpg'\n",
      "[Errno 2] No such file or directory: '../data/anpr_ocr_croppedimg/1#07IHL17#02042018#213207.jpg'\n",
      "[Errno 2] No such file or directory: '../data/anpr_ocr_croppedimg/1#08BY6074#02072018#092852.jpg'\n",
      "[Errno 2] No such file or directory: '../data/anpr_ocr_croppedimg/1#08BY6074#06042018#160819.jpg'\n",
      "[Errno 2] No such file or directory: '../data/anpr_ocr_croppedimg/1#08BY6074#09042018#100715.jpg'\n",
      "[Errno 2] No such file or directory: '../data/anpr_ocr_croppedimg/1#08BY6074#29032018#170753.jpg'\n",
      "[Errno 2] No such file or directory: '../data/anpr_ocr_croppedimg/1#09BY8074#10042018#154305.jpg'\n",
      "[Errno 2] No such file or directory: '../data/anpr_ocr_croppedimg/1#09EF380#29032018#212200.jpg'\n",
      "[Errno 2] No such file or directory: '../data/anpr_ocr_croppedimg/1#10ZF474#14042018#070124.jpg'\n",
      "[Errno 2] No such file or directory: '../data/anpr_ocr_croppedimg/1#16BCL86#07042018#082050.jpg'\n",
      "[Errno 2] No such file or directory: '../data/anpr_ocr_croppedimg/1#16BTR90#01042018#120001.jpg'\n",
      "[Errno 2] No such file or directory: '../data/anpr_ocr_croppedimg/1#16GV483#02042018#153446.jpg'\n",
      "[Errno 2] No such file or directory: '../data/anpr_ocr_croppedimg/1#26OJ162#10042018#115520.jpg'\n",
      "[Errno 2] No such file or directory: '../data/anpr_ocr_croppedimg/1#27ASR214#30032018#160132.jpg'\n",
      "[Errno 2] No such file or directory: '../data/anpr_ocr_croppedimg/1#41YF481#30032018#133820.jpg'\n",
      "[Errno 2] No such file or directory: '../data/anpr_ocr_croppedimg/1#41YH351#03042018#171547.jpg'\n",
      "[Errno 2] No such file or directory: '../data/anpr_ocr_croppedimg/1#41YH869#10042018#084047.jpg'\n",
      "[Errno 2] No such file or directory: '../data/anpr_ocr_croppedimg/1#41YH869#13042018#085928.jpg'\n",
      "[Errno 2] No such file or directory: '../data/anpr_ocr_croppedimg/1#41YJ025#04042018#130110.jpg'\n",
      "[Errno 2] No such file or directory: '../data/anpr_ocr_croppedimg/1#41YM896#10042018#143635.jpg'\n",
      "[Errno 2] No such file or directory: '../data/anpr_ocr_croppedimg/1#47B1609#11042018#123741.jpg'\n",
      "[Errno 2] No such file or directory: '../data/anpr_ocr_croppedimg/1#47DR1518#12042018#135832.jpg'\n",
      "[Errno 2] No such file or directory: '../data/anpr_ocr_croppedimg/1#54DT201#12042018#162747.jpg'\n",
      "[Errno 2] No such file or directory: '../data/anpr_ocr_croppedimg/1#54E8351#04042018#122634.jpg'\n",
      "[Errno 2] No such file or directory: '../data/anpr_ocr_croppedimg/1#54KN1800#14042018#184912.jpg'\n"
     ]
    }
   ],
   "source": [
    "inp_img_folder= \"../data/anpr_ocr_croppedimg\"\n",
    "out_img_folder= \"../data/anpr_ocr_croppedimg_out/\"\n",
    "#out_ann_folder= \"../data/anpr_ocr__train/ann/\"\n",
    "cnt=0\n",
    "start='1#'\n",
    "end='.'\n",
    "source_file=''\n",
    "dest_file = ''\n",
    "for index, data in result_df.iterrows():\n",
    "    try:\n",
    "        #if cnt<2:\n",
    "            #print(index)\n",
    "            source_file = inp_img_folder + \"/\" + index\n",
    "            #print(\"source_file:\" + str(source_file))\n",
    "            dest_file = out_img_folder + '#' + str(data['true_plate']) + '#' + str(cnt) + \".jpg\"\n",
    "            #print(\"source_file:\" + str(source_file) , \",dest_file:\" + str(dest_file))\n",
    "            shutil.move(source_file,dest_file)        \n",
    "            cnt+= 1    \n",
    "            #print(cnt)\n",
    "        #else:\n",
    "         #   break    \n",
    "    except Exception as e:\n",
    "        print(str(e))"
   ]
  },
  {
   "cell_type": "code",
   "execution_count": null,
   "metadata": {},
   "outputs": [],
   "source": [
    "import numpy as np\n",
    "np.shape(img)"
   ]
  },
  {
   "cell_type": "code",
   "execution_count": null,
   "metadata": {},
   "outputs": [],
   "source": []
  }
 ],
 "metadata": {
  "kernelspec": {
   "display_name": "Python 3",
   "language": "python",
   "name": "python3"
  },
  "language_info": {
   "codemirror_mode": {
    "name": "ipython",
    "version": 3
   },
   "file_extension": ".py",
   "mimetype": "text/x-python",
   "name": "python",
   "nbconvert_exporter": "python",
   "pygments_lexer": "ipython3",
   "version": "3.6.5"
  }
 },
 "nbformat": 4,
 "nbformat_minor": 2
}
