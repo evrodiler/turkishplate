{
 "cells": [
  {
   "cell_type": "code",
   "execution_count": 1,
   "metadata": {},
   "outputs": [
    {
     "name": "stderr",
     "output_type": "stream",
     "text": [
      "Using TensorFlow backend.\n"
     ]
    }
   ],
   "source": [
    "#distribution of plates; train dev and test\n",
    "import json\n",
    "import os\n",
    "import shutil\n",
    "import pandas as pd\n",
    "import matplotlib.pyplot as plt\n",
    "import sys\n",
    "sys.path.append(os.path.dirname(os.path.realpath('Textgen')) + \"/python\")\n",
    "import Textgen as t"
   ]
  },
  {
   "cell_type": "code",
   "execution_count": 2,
   "metadata": {},
   "outputs": [],
   "source": [
    "ann_dirpath = \"../data/anpr_ocr__train/ann\"\n",
    "test_dirpath = \"../data/anpr_ocr__test/img\""
   ]
  },
  {
   "cell_type": "code",
   "execution_count": 3,
   "metadata": {},
   "outputs": [
    {
     "name": "stdout",
     "output_type": "stream",
     "text": [
      "Total count of files: 4608\n",
      "Total count of training set: 3685\n",
      "Total count of val set: 461\n",
      "Total count of test set: 462\n"
     ]
    }
   ],
   "source": [
    "test_cnt=t.Print_overall(ann_dirpath,test_dirpath)"
   ]
  },
  {
   "cell_type": "code",
   "execution_count": 4,
   "metadata": {},
   "outputs": [],
   "source": [
    "import keras\n",
    "import tensorflow as tf\n",
    "import sys\n",
    "import os\n",
    "from keras import backend as K\n",
    "import itertools\n",
    "\n",
    "sess = tf.Session()\n",
    "K.set_session(sess)\n",
    "\n",
    "\n",
    "#load model\n",
    "loaded_model=t.load_model()"
   ]
  },
  {
   "cell_type": "code",
   "execution_count": 5,
   "metadata": {},
   "outputs": [],
   "source": [
    "tiger_test = t.TextImageGenerator('../data/anpr_ocr__test/img', 'test', 128, 64, test_cnt , 4) # batch size \n",
    "tiger_test.build_data()\n",
    "net_inp = loaded_model.get_layer(name='the_input').input\n",
    "net_out = loaded_model.get_layer(name='softmax').output"
   ]
  },
  {
   "cell_type": "code",
   "execution_count": 9,
   "metadata": {},
   "outputs": [],
   "source": [
    "nmatch_str,match_str,nmatched,matched =t.all_plates_classify(sess,tiger_test,net_inp,net_out)"
   ]
  },
  {
   "cell_type": "code",
   "execution_count": 21,
   "metadata": {},
   "outputs": [
    {
     "name": "stdout",
     "output_type": "stream",
     "text": [
      "***********\n",
      "non_matched: 23 ,matched: 3576\n",
      "***********\n",
      "tek 1.pozisyon\n",
      " ch\n",
      "0    9\n",
      "4    8\n",
      "1    4\n",
      "3    1\n",
      "2    1\n",
      "dtype: int64\n",
      "\n",
      "İlk 2 pozisyon\n",
      " ch\n",
      "06    7\n",
      "42    4\n",
      "43    3\n",
      "10    2\n",
      "41    1\n",
      "34    1\n",
      "dtype: int64\n",
      "\n",
      "Tek 2. pozisyon\n",
      " ch\n",
      "6    8\n",
      "3    5\n",
      "2    4\n",
      "4    2\n",
      "1    2\n",
      "0    2\n",
      "dtype: int64\n",
      "\n",
      "Tek 3. pozisyon\n",
      " ch\n",
      "D    5\n",
      "B    3\n",
      "Y    2\n",
      "V    2\n",
      "U    2\n",
      "P    2\n",
      "dtype: int64\n",
      "\n",
      "İLk 3. pozisyon\n",
      " ch\n",
      "06A    2\n",
      "06B    2\n",
      "42C    2\n",
      "06D    2\n",
      "10Y    2\n",
      "43Z    1\n",
      "dtype: int64\n"
     ]
    }
   ],
   "source": [
    "print(\"***********\")\n",
    "print(\"non_matched:\",nmatched,\",matched:\",matched)\n",
    "print(\"***********\")\n",
    "print('tek 1.pozisyon\\n' ,t.show_distribution(nmatch_str,0,1))\n",
    "print('\\nİlk 2 pozisyon\\n' ,t.show_distribution(nmatch_str,0,2))\n",
    "print('\\nTek 2. pozisyon\\n' ,t.show_distribution(nmatch_str,1,2))\n",
    "print('\\nTek 3. pozisyon\\n' ,t.show_distribution(nmatch_str,2,3))\n",
    "print('\\nİLk 3. pozisyon\\n' ,t.show_distribution(nmatch_str,0,3))"
   ]
  },
  {
   "cell_type": "code",
   "execution_count": 8,
   "metadata": {},
   "outputs": [
    {
     "ename": "NameError",
     "evalue": "name 'd' is not defined",
     "output_type": "error",
     "traceback": [
      "\u001b[1;31m---------------------------------------------------------------------------\u001b[0m",
      "\u001b[1;31mNameError\u001b[0m                                 Traceback (most recent call last)",
      "\u001b[1;32m<ipython-input-8-050048d6e60c>\u001b[0m in \u001b[0;36m<module>\u001b[1;34m()\u001b[0m\n\u001b[1;32m----> 1\u001b[1;33m \u001b[0md\u001b[0m\u001b[1;33m.\u001b[0m\u001b[0mplot\u001b[0m\u001b[1;33m(\u001b[0m\u001b[1;33m)\u001b[0m\u001b[1;33m\u001b[0m\u001b[0m\n\u001b[0m",
      "\u001b[1;31mNameError\u001b[0m: name 'd' is not defined"
     ]
    }
   ],
   "source": [
    "d.plot() "
   ]
  },
  {
   "cell_type": "code",
   "execution_count": 12,
   "metadata": {},
   "outputs": [
    {
     "name": "stdout",
     "output_type": "stream",
     "text": [
      "***********\n",
      "tüm grup\n",
      "***********\n",
      "tek 1.pozisyon\n",
      " ch\n",
      "4    196\n",
      "0    105\n",
      "1     63\n",
      "5     27\n",
      "7     13\n",
      "6      6\n",
      "dtype: int64\n",
      "\n",
      "İlk 2 pozisyon\n",
      " ch\n",
      "41    134\n",
      "06     70\n",
      "10     41\n",
      "42     28\n",
      "43     28\n",
      "01     24\n",
      "dtype: int64\n",
      "\n",
      "Tek 2. pozisyon\n",
      " ch\n",
      "1    161\n",
      "6     76\n",
      "0     44\n",
      "3     32\n",
      "2     32\n",
      "4     26\n",
      "dtype: int64\n"
     ]
    }
   ],
   "source": [
    "print(\"***********\")\n",
    "print(\"tüm grup\")\n",
    "print(\"***********\")\n",
    "print('tek 1.pozisyon\\n' ,t.show_distribution(match_str,0,1))\n",
    "print('\\nİlk 2 pozisyon\\n' ,t.show_distribution(match_str,0,2))\n",
    "print('\\nTek 2. pozisyon\\n' ,t.show_distribution(match_str,1,2))"
   ]
  },
  {
   "cell_type": "code",
   "execution_count": 13,
   "metadata": {},
   "outputs": [],
   "source": [
    "import seaborn as s"
   ]
  },
  {
   "cell_type": "code",
   "execution_count": 14,
   "metadata": {},
   "outputs": [],
   "source": [
    "#train set\n",
    "tiger_train = t.TextImageGenerator('../data/anpr_ocr__train/img', 'train', 128, 64, 3600 , 4) # batch size \n",
    "tiger_train.build_data()\n",
    "net_inp = loaded_model.get_layer(name='the_input').input\n",
    "net_out = loaded_model.get_layer(name='softmax').output"
   ]
  },
  {
   "cell_type": "code",
   "execution_count": 15,
   "metadata": {},
   "outputs": [],
   "source": [
    "nmatch_str,match_str,nmatched,matched =t.all_plates_classify(sess,tiger_train,net_inp,net_out)"
   ]
  },
  {
   "cell_type": "code",
   "execution_count": 17,
   "metadata": {},
   "outputs": [
    {
     "data": {
      "text/plain": [
       "(23, 3576)"
      ]
     },
     "execution_count": 17,
     "metadata": {},
     "output_type": "execute_result"
    }
   ],
   "source": [
    "len(nmatch_str),len(match_str)"
   ]
  },
  {
   "cell_type": "code",
   "execution_count": 20,
   "metadata": {},
   "outputs": [
    {
     "name": "stdout",
     "output_type": "stream",
     "text": [
      "***********\n",
      "tüm grup\n",
      "***********\n",
      "tek 1.pozisyon\n",
      " ch\n",
      "4    1977\n",
      "0     909\n",
      "1     490\n",
      "5      71\n",
      "2      61\n",
      "3      33\n",
      "dtype: int64\n",
      "\n",
      "İlk 2 pozisyon\n",
      " ch\n",
      "41    1350\n",
      "06     634\n",
      "43     290\n",
      "42     241\n",
      "10     231\n",
      "01     200\n",
      "dtype: int64\n",
      "\n",
      "Tek 2. pozisyon\n",
      " ch\n",
      "1    1579\n",
      "6     706\n",
      "3     316\n",
      "2     279\n",
      "0     244\n",
      "4     188\n",
      "dtype: int64\n",
      "\n",
      "Tek 3. pozisyon\n",
      " ch\n",
      "Y    1132\n",
      "D     388\n",
      "B     369\n",
      "V     298\n",
      "E     231\n",
      "A     182\n",
      "dtype: int64\n",
      "\n",
      "İLk 3. pozisyon\n",
      " ch\n",
      "41Y    1009\n",
      "06B     267\n",
      "41V     266\n",
      "10Y     118\n",
      "43P     116\n",
      "06D     111\n",
      "dtype: int64\n"
     ]
    }
   ],
   "source": [
    "print(\"***********\")\n",
    "print(\"tüm grup\")\n",
    "print(\"***********\")\n",
    "print('tek 1.pozisyon\\n' ,t.show_distribution(match_str,0,1))\n",
    "print('\\nİlk 2 pozisyon\\n' ,t.show_distribution(match_str,0,2))\n",
    "print('\\nTek 2. pozisyon\\n' ,t.show_distribution(match_str,1,2))\n",
    "print('\\nTek 3. pozisyon\\n' ,t.show_distribution(match_str,2,3))\n",
    "print('\\nİLk 3. pozisyon\\n' ,t.show_distribution(match_str,0,3))"
   ]
  },
  {
   "cell_type": "code",
   "execution_count": null,
   "metadata": {},
   "outputs": [],
   "source": []
  }
 ],
 "metadata": {
  "kernelspec": {
   "display_name": "Python 3",
   "language": "python",
   "name": "python3"
  },
  "language_info": {
   "codemirror_mode": {
    "name": "ipython",
    "version": 3
   },
   "file_extension": ".py",
   "mimetype": "text/x-python",
   "name": "python",
   "nbconvert_exporter": "python",
   "pygments_lexer": "ipython3",
   "version": "3.6.5"
  }
 },
 "nbformat": 4,
 "nbformat_minor": 2
}
