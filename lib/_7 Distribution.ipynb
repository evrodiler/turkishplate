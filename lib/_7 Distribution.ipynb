{
 "cells": [
  {
   "cell_type": "code",
   "execution_count": 1,
   "metadata": {},
   "outputs": [],
   "source": [
    "#distribution of plates; train dev and test\n",
    "import json\n",
    "import os\n",
    "import shutil\n",
    "import pandas as pd\n",
    "import matplotlib.pyplot as plt"
   ]
  },
  {
   "cell_type": "code",
   "execution_count": 2,
   "metadata": {},
   "outputs": [],
   "source": [
    "ann_dirpath = \"../data/anpr_ocr__train/ann\"\n",
    "test_dirpath = \"../data/anpr_ocr__test/img\""
   ]
  },
  {
   "cell_type": "code",
   "execution_count": 3,
   "metadata": {},
   "outputs": [],
   "source": [
    "test_cnt= len(os.listdir(test_dirpath))\n",
    "val_cnt=0\n",
    "train_cnt=0\n",
    "for fx in os.listdir(ann_dirpath):\n",
    "    with open(ann_dirpath + \"/\" + fx) as f:       \n",
    "        source_data = json.load(f) \n",
    "        #print(source_data['tags'])\n",
    "        if source_data['tags'] == ['val']:\n",
    "            val_cnt+=1\n",
    "        else:\n",
    "            train_cnt +=1"
   ]
  },
  {
   "cell_type": "code",
   "execution_count": 4,
   "metadata": {},
   "outputs": [
    {
     "name": "stdout",
     "output_type": "stream",
     "text": [
      "Total count of files: 4608\n",
      "Total count of training set: 3685\n",
      "Total count of val set: 461\n",
      "Total count of test set: 462\n"
     ]
    }
   ],
   "source": [
    "print(\"Total count of files:\",len(os.listdir(ann_dirpath))+ len(os.listdir(test_dirpath)))\n",
    "print(\"Total count of training set:\",train_cnt)\n",
    "print(\"Total count of val set:\",val_cnt)\n",
    "print(\"Total count of test set:\",test_cnt)"
   ]
  },
  {
   "cell_type": "code",
   "execution_count": 5,
   "metadata": {},
   "outputs": [
    {
     "name": "stderr",
     "output_type": "stream",
     "text": [
      "Using TensorFlow backend.\n"
     ]
    }
   ],
   "source": [
    "import keras\n",
    "import tensorflow as tf\n",
    "import sys\n",
    "import os\n",
    "from keras import backend as K\n",
    "import itertools\n",
    "\n",
    "sess = tf.Session()\n",
    "K.set_session(sess)\n",
    "\n",
    "sys.path.append(os.path.dirname(os.path.realpath('Textgen')) + \"/python\")\n",
    "import Textgen as t\n",
    "\n",
    "#load model\n",
    "loaded_model=t.load_model()"
   ]
  },
  {
   "cell_type": "code",
   "execution_count": 14,
   "metadata": {},
   "outputs": [],
   "source": [
    "tiger_test = t.TextImageGenerator('../data/anpr_ocr__test/img', 'test', 128, 64, test_cnt , 4) # batch size \n",
    "tiger_test.build_data()\n",
    "net_inp = loaded_model.get_layer(name='the_input').input\n",
    "net_out = loaded_model.get_layer(name='softmax').output"
   ]
  },
  {
   "cell_type": "code",
   "execution_count": 17,
   "metadata": {},
   "outputs": [
    {
     "name": "stdout",
     "output_type": "stream",
     "text": [
      "['016HF61', '78AG824', '43U2989', '41YV670', '43HP983', '06BHS48', '16MAD05', '10Y5208', '06HC609', '06BR7019', '43PN686', '06BJF37', '41PN428', '41YH369', '41YT686', '43UY621', '41V1148', '41VN690', '01DFA251', '42CNU141', '10Y0355', '06DK5303', '06DK5907', '42EBM66', '13TN1268', '67DR747', '06JOF31', '41V1149', '01DJM52', '34HF8714', '41YV004', '42CSA31', '10Y5869', '81EH209', '10Y6152', '06DL7323', '34UF2409', '70EF039', '59AB875', '64EY7532', '50LF302'] 41\n"
     ]
    }
   ],
   "source": [
    "nmatch_str=[]\n",
    "matched=0\n",
    "non_matched=0\n",
    "for inp_value, _ in tiger_test.next_batch(K):\n",
    "     \n",
    "    \n",
    "    testset_cnt = inp_value['the_input'].shape[0]\n",
    "    X_data = inp_value['the_input']\n",
    "    #print(inp_value['the_label'])\n",
    "    \n",
    "    net_out_value = sess.run(net_out, feed_dict={net_inp:X_data})\n",
    "    pred_texts = t.decode_batch(net_out_value)\n",
    "    \n",
    "    labels = inp_value['the_labels']\n",
    "    texts = []     \n",
    "    \n",
    "    for label in labels:        \n",
    "        text = t.labels_to_text(label)        \n",
    "        texts.append(text)       \n",
    "        #print(\"text:\",text)\n",
    "    \n",
    "    for cnt in range(testset_cnt-1):        \n",
    "        #print(\"cnt:\",cnt)\n",
    "        if pred_texts[cnt] == texts[cnt]:\n",
    "            matched += 1            \n",
    "        else:\n",
    "            non_matched +=  1\n",
    "            nmatch_str.append(texts[cnt])\n",
    "            #print('wrong Predicted: %s True: %s i: %s len_pred: %s len_true: %s' % (pred_texts[cnt], texts[cnt],str(cnt),\n",
    "            #                                                                  len(pred_texts[cnt]),len(texts[cnt])))\n",
    "    print(nmatch_str,non_matched)        \n",
    "    #print(\"matched=\",matched, \",total=\",testset_cnt , \"TP: %\", round(matched/testset_cnt, 2) * 100)\n",
    "    break"
   ]
  },
  {
   "cell_type": "code",
   "execution_count": 189,
   "metadata": {},
   "outputs": [],
   "source": [
    "city,middle,last=[],[],[]\n",
    "\n",
    "for i in range(len(nmatch_str)):\n",
    "    city.append(nmatch_str[i][0:2])\n",
    "    middle.append(nmatch_str[i])\n",
    "\n",
    "data= pd.Series(city)\n",
    "df = pd.DataFrame(data,columns=['city'])\n",
    "\n",
    "city_cnt = df.groupby(['city']).size().sort_values(ascending=False)\n",
    "\n",
    "#dfx = df.groupby('city').agg({'city':['count']}).sort_values()\n",
    " \n",
    "\n",
    "    "
   ]
  },
  {
   "cell_type": "code",
   "execution_count": 190,
   "metadata": {},
   "outputs": [
    {
     "data": {
      "text/plain": [
       "city\n",
       "41    8\n",
       "06    8\n",
       "43    4\n",
       "10    4\n",
       "42    3\n",
       "01    3\n",
       "34    2\n",
       "81    1\n",
       "78    1\n",
       "70    1\n",
       "67    1\n",
       "64    1\n",
       "59    1\n",
       "50    1\n",
       "16    1\n",
       "13    1\n",
       "dtype: int64"
      ]
     },
     "execution_count": 190,
     "metadata": {},
     "output_type": "execute_result"
    }
   ],
   "source": [
    "city_cnt"
   ]
  },
  {
   "cell_type": "code",
   "execution_count": 223,
   "metadata": {},
   "outputs": [],
   "source": [
    "def show_distribution(strx,position1,position2):  \n",
    "\n",
    "    ch=[]\n",
    "\n",
    "    for i in range(len(strx)):\n",
    "        ch.append(strx[i][position1:position2])\n",
    "       \n",
    "\n",
    "    data= pd.Series(ch)\n",
    "    df = pd.DataFrame(data,columns=['ch'])\n",
    "\n",
    "    output = df.groupby(['ch']).size().sort_values(ascending=False)\n",
    "   \n",
    "    return output.nlargest(6)\n"
   ]
  },
  {
   "cell_type": "code",
   "execution_count": 224,
   "metadata": {},
   "outputs": [
    {
     "name": "stdout",
     "output_type": "stream",
     "text": [
      "***********\n",
      "hatalı grup\n",
      "***********\n",
      "tek 1.pozisyon\n",
      " ch\n",
      "4    15\n",
      "0    11\n",
      "1     6\n",
      "7     2\n",
      "6     2\n",
      "5     2\n",
      "dtype: int64\n",
      "\n",
      "İlk 2 pozisyon\n",
      " ch\n",
      "41    8\n",
      "06    8\n",
      "43    4\n",
      "10    4\n",
      "42    3\n",
      "01    3\n",
      "dtype: int64\n",
      "\n",
      "Tek 2. pozisyon\n",
      " ch\n",
      "1    12\n",
      "6     9\n",
      "0     6\n",
      "3     5\n",
      "4     3\n",
      "2     3\n",
      "dtype: int64\n"
     ]
    }
   ],
   "source": [
    "print(\"***********\")\n",
    "print(\"hatalı grup\")\n",
    "print(\"***********\")\n",
    "print('tek 1.pozisyon\\n' ,show_distribution(nmatch_str,0,1))\n",
    "print('\\nİlk 2 pozisyon\\n' ,show_distribution(nmatch_str,0,2))\n",
    "print('\\nTek 2. pozisyon\\n' ,show_distribution(nmatch_str,1,2))"
   ]
  },
  {
   "cell_type": "code",
   "execution_count": 203,
   "metadata": {},
   "outputs": [
    {
     "data": {
      "text/plain": [
       "<matplotlib.axes._subplots.AxesSubplot at 0x25c0b1d4978>"
      ]
     },
     "execution_count": 203,
     "metadata": {},
     "output_type": "execute_result"
    },
    {
     "data": {
      "image/png": "[encoded data removed]",
      "text/plain": [
       "<Figure size 432x288 with 1 Axes>"
      ]
     },
     "metadata": {},
     "output_type": "display_data"
    }
   ],
   "source": [
    "d.plot() "
   ]
  },
  {
   "cell_type": "code",
   "execution_count": 143,
   "metadata": {},
   "outputs": [
    {
     "data": {
      "text/html": [
       "<div>\n",
       "<style scoped>\n",
       "    .dataframe tbody tr th:only-of-type {\n",
       "        vertical-align: middle;\n",
       "    }\n",
       "\n",
       "    .dataframe tbody tr th {\n",
       "        vertical-align: top;\n",
       "    }\n",
       "\n",
       "    .dataframe thead th {\n",
       "        text-align: right;\n",
       "    }\n",
       "</style>\n",
       "<table border=\"1\" class=\"dataframe\">\n",
       "  <thead>\n",
       "    <tr style=\"text-align: right;\">\n",
       "      <th></th>\n",
       "      <th>city</th>\n",
       "    </tr>\n",
       "  </thead>\n",
       "  <tbody>\n",
       "    <tr>\n",
       "      <th>0</th>\n",
       "      <td>01</td>\n",
       "    </tr>\n",
       "    <tr>\n",
       "      <th>1</th>\n",
       "      <td>78</td>\n",
       "    </tr>\n",
       "    <tr>\n",
       "      <th>2</th>\n",
       "      <td>43</td>\n",
       "    </tr>\n",
       "    <tr>\n",
       "      <th>3</th>\n",
       "      <td>41</td>\n",
       "    </tr>\n",
       "    <tr>\n",
       "      <th>4</th>\n",
       "      <td>43</td>\n",
       "    </tr>\n",
       "    <tr>\n",
       "      <th>5</th>\n",
       "      <td>06</td>\n",
       "    </tr>\n",
       "    <tr>\n",
       "      <th>6</th>\n",
       "      <td>16</td>\n",
       "    </tr>\n",
       "    <tr>\n",
       "      <th>7</th>\n",
       "      <td>10</td>\n",
       "    </tr>\n",
       "    <tr>\n",
       "      <th>8</th>\n",
       "      <td>06</td>\n",
       "    </tr>\n",
       "    <tr>\n",
       "      <th>9</th>\n",
       "      <td>06</td>\n",
       "    </tr>\n",
       "    <tr>\n",
       "      <th>10</th>\n",
       "      <td>43</td>\n",
       "    </tr>\n",
       "    <tr>\n",
       "      <th>11</th>\n",
       "      <td>06</td>\n",
       "    </tr>\n",
       "    <tr>\n",
       "      <th>12</th>\n",
       "      <td>41</td>\n",
       "    </tr>\n",
       "    <tr>\n",
       "      <th>13</th>\n",
       "      <td>41</td>\n",
       "    </tr>\n",
       "    <tr>\n",
       "      <th>14</th>\n",
       "      <td>41</td>\n",
       "    </tr>\n",
       "    <tr>\n",
       "      <th>15</th>\n",
       "      <td>43</td>\n",
       "    </tr>\n",
       "    <tr>\n",
       "      <th>16</th>\n",
       "      <td>41</td>\n",
       "    </tr>\n",
       "    <tr>\n",
       "      <th>17</th>\n",
       "      <td>41</td>\n",
       "    </tr>\n",
       "    <tr>\n",
       "      <th>18</th>\n",
       "      <td>01</td>\n",
       "    </tr>\n",
       "    <tr>\n",
       "      <th>19</th>\n",
       "      <td>42</td>\n",
       "    </tr>\n",
       "    <tr>\n",
       "      <th>20</th>\n",
       "      <td>10</td>\n",
       "    </tr>\n",
       "    <tr>\n",
       "      <th>21</th>\n",
       "      <td>06</td>\n",
       "    </tr>\n",
       "    <tr>\n",
       "      <th>22</th>\n",
       "      <td>06</td>\n",
       "    </tr>\n",
       "    <tr>\n",
       "      <th>23</th>\n",
       "      <td>42</td>\n",
       "    </tr>\n",
       "    <tr>\n",
       "      <th>24</th>\n",
       "      <td>13</td>\n",
       "    </tr>\n",
       "    <tr>\n",
       "      <th>25</th>\n",
       "      <td>67</td>\n",
       "    </tr>\n",
       "    <tr>\n",
       "      <th>26</th>\n",
       "      <td>06</td>\n",
       "    </tr>\n",
       "    <tr>\n",
       "      <th>27</th>\n",
       "      <td>41</td>\n",
       "    </tr>\n",
       "    <tr>\n",
       "      <th>28</th>\n",
       "      <td>01</td>\n",
       "    </tr>\n",
       "    <tr>\n",
       "      <th>29</th>\n",
       "      <td>34</td>\n",
       "    </tr>\n",
       "    <tr>\n",
       "      <th>30</th>\n",
       "      <td>41</td>\n",
       "    </tr>\n",
       "    <tr>\n",
       "      <th>31</th>\n",
       "      <td>42</td>\n",
       "    </tr>\n",
       "    <tr>\n",
       "      <th>32</th>\n",
       "      <td>10</td>\n",
       "    </tr>\n",
       "    <tr>\n",
       "      <th>33</th>\n",
       "      <td>81</td>\n",
       "    </tr>\n",
       "    <tr>\n",
       "      <th>34</th>\n",
       "      <td>10</td>\n",
       "    </tr>\n",
       "    <tr>\n",
       "      <th>35</th>\n",
       "      <td>06</td>\n",
       "    </tr>\n",
       "    <tr>\n",
       "      <th>36</th>\n",
       "      <td>34</td>\n",
       "    </tr>\n",
       "    <tr>\n",
       "      <th>37</th>\n",
       "      <td>70</td>\n",
       "    </tr>\n",
       "    <tr>\n",
       "      <th>38</th>\n",
       "      <td>59</td>\n",
       "    </tr>\n",
       "    <tr>\n",
       "      <th>39</th>\n",
       "      <td>64</td>\n",
       "    </tr>\n",
       "    <tr>\n",
       "      <th>40</th>\n",
       "      <td>50</td>\n",
       "    </tr>\n",
       "  </tbody>\n",
       "</table>\n",
       "</div>"
      ],
      "text/plain": [
       "   city\n",
       "0    01\n",
       "1    78\n",
       "2    43\n",
       "3    41\n",
       "4    43\n",
       "5    06\n",
       "6    16\n",
       "7    10\n",
       "8    06\n",
       "9    06\n",
       "10   43\n",
       "11   06\n",
       "12   41\n",
       "13   41\n",
       "14   41\n",
       "15   43\n",
       "16   41\n",
       "17   41\n",
       "18   01\n",
       "19   42\n",
       "20   10\n",
       "21   06\n",
       "22   06\n",
       "23   42\n",
       "24   13\n",
       "25   67\n",
       "26   06\n",
       "27   41\n",
       "28   01\n",
       "29   34\n",
       "30   41\n",
       "31   42\n",
       "32   10\n",
       "33   81\n",
       "34   10\n",
       "35   06\n",
       "36   34\n",
       "37   70\n",
       "38   59\n",
       "39   64\n",
       "40   50"
      ]
     },
     "execution_count": 143,
     "metadata": {},
     "output_type": "execute_result"
    }
   ],
   "source": [
    "\n",
    "print(\"***********\")\n",
    "print(\"tüm grup\")\n",
    "print(\"***********\")\n",
    "print('tek 1.pozisyon\\n' ,show_distribution(nmatch_str,0,1))\n",
    "print('\\nİlk 2 pozisyon\\n' ,show_distribution(nmatch_str,0,2))\n",
    "print('\\nTek 2. pozisyon\\n' ,show_distribution(nmatch_str,1,2))"
   ]
  },
  {
   "cell_type": "code",
   "execution_count": null,
   "metadata": {},
   "outputs": [],
   "source": []
  }
 ],
 "metadata": {
  "kernelspec": {
   "display_name": "Python 3",
   "language": "python",
   "name": "python3"
  },
  "language_info": {
   "codemirror_mode": {
    "name": "ipython",
    "version": 3
   },
   "file_extension": ".py",
   "mimetype": "text/x-python",
   "name": "python",
   "nbconvert_exporter": "python",
   "pygments_lexer": "ipython3",
   "version": "3.6.5"
  }
 },
 "nbformat": 4,
 "nbformat_minor": 2
}
