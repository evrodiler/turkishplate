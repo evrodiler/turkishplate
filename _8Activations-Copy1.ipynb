{
 "cells": [
  {
   "cell_type": "code",
   "execution_count": 1,
   "metadata": {},
   "outputs": [
    {
     "name": "stderr",
     "output_type": "stream",
     "text": [
      "Using TensorFlow backend.\n"
     ]
    },
    {
     "name": "stdout",
     "output_type": "stream",
     "text": [
      "TensorFlow version: 1.8.0\n",
      "Keras version: 2.2.2\n"
     ]
    }
   ],
   "source": [
    "import keras\n",
    "import tensorflow as tf\n",
    "print('TensorFlow version:', tf.__version__) \n",
    "print('Keras version:', keras.__version__)\n",
    "import sys\n",
    "import os\n",
    "from os.path import join\n",
    "from keras import backend as K\n",
    "import numpy as np\n",
    "import cv2\n",
    "import itertools\n",
    "import matplotlib.pyplot as plt\n",
    "import matplotlib.gridspec as gridspec"
   ]
  },
  {
   "cell_type": "code",
   "execution_count": 2,
   "metadata": {},
   "outputs": [],
   "source": [
    "from keras.models import model_from_json\n",
    "\n",
    "DEVICE = \"/cpu:0\"  # /use cpu:0 for cpu only or /gpu:0"
   ]
  },
  {
   "cell_type": "code",
   "execution_count": 3,
   "metadata": {},
   "outputs": [
    {
     "name": "stdout",
     "output_type": "stream",
     "text": [
      "Working directory is: C:\\Users\\is95217\\source\\turkishplate\n"
     ]
    }
   ],
   "source": [
    "working_dir = os.getcwd()\n",
    "print(\"Working directory is:\",working_dir)\n",
    "sys.path.append(working_dir)  # To find local version of the library"
   ]
  },
  {
   "cell_type": "code",
   "execution_count": 4,
   "metadata": {},
   "outputs": [
    {
     "name": "stdout",
     "output_type": "stream",
     "text": [
      "Data: C:/Users/is95217/data/Original_15Kcrop_distributed\n",
      "Source code: C:/Users/is95217/source/turkishplate\n"
     ]
    }
   ],
   "source": [
    "win=1\n",
    "if win:\n",
    "    ROOT_DIR = os.path.join(\"C:/Users/is95217/source/turkishplate\") #win\n",
    "    DATA_DIR = \"C:/Users/is95217/data/Original_15Kcrop_distributed\" #win\n",
    "else:    \n",
    "    ROOT_DIR = os.path.join(\"/home/user/Source/Evrim/Turkishplate\") #linux\n",
    "    DATA_DIR = \"/home/user/Source/data/dataEvrim/Original_15Kcrop_distributed\"  #linux\n",
    "sys.path.append(ROOT_DIR + \"/Python\")\n",
    "\n",
    "print(\"Data:\", DATA_DIR)\n",
    "print(\"Source code:\", ROOT_DIR)"
   ]
  },
  {
   "cell_type": "code",
   "execution_count": 5,
   "metadata": {},
   "outputs": [],
   "source": [
    "sys.path.append(os.path.dirname(os.path.realpath('PPlate')) + \"/python\")\n",
    "import PPlate as p"
   ]
  },
  {
   "cell_type": "markdown",
   "metadata": {},
   "source": [
    "# LOAD MODEL "
   ]
  },
  {
   "cell_type": "code",
   "execution_count": 48,
   "metadata": {},
   "outputs": [],
   "source": [
    "# load json and create model\n",
    "#fmodel='lr0.02_mom0.9'\n",
    "#fmodel = '/Model/Plate15K'\n",
    "\n",
    "#loaded_model=p.load_model(ROOT_DIR + '/Model/plate15K')\n",
    "loaded_model=p.load_model(ROOT_DIR + '/model/model15k_2GRU')\n",
    "#save load weights değil direk save ve load kullanılacak\n",
    "#model = load_model(con)"
   ]
  },
  {
   "cell_type": "markdown",
   "metadata": {},
   "source": [
    "# visualize layers"
   ]
  },
  {
   "cell_type": "code",
   "execution_count": 49,
   "metadata": {},
   "outputs": [],
   "source": [
    "inp = loaded_model.input  \n",
    "inputs = [layer.input for layer in loaded_model.layers]\n",
    "outputs = [layer.output for layer in loaded_model.layers]          # all layer outputs"
   ]
  },
  {
   "cell_type": "code",
   "execution_count": 50,
   "metadata": {},
   "outputs": [],
   "source": [
    "functors = [K.function([inp, K.learning_phase()], [out]) for out in outputs]"
   ]
  },
  {
   "cell_type": "code",
   "execution_count": 66,
   "metadata": {},
   "outputs": [
    {
     "data": {
      "text/plain": [
       "[<keras.backend.tensorflow_backend.Function at 0x262d76a6630>,\n",
       " <keras.backend.tensorflow_backend.Function at 0x262d76a65c0>,\n",
       " <keras.backend.tensorflow_backend.Function at 0x262d76a68d0>,\n",
       " <keras.backend.tensorflow_backend.Function at 0x262d76a6828>,\n",
       " <keras.backend.tensorflow_backend.Function at 0x262d76a6860>,\n",
       " <keras.backend.tensorflow_backend.Function at 0x262d76a66a0>,\n",
       " <keras.backend.tensorflow_backend.Function at 0x262d76a6748>,\n",
       " <keras.backend.tensorflow_backend.Function at 0x262d76a6940>,\n",
       " <keras.backend.tensorflow_backend.Function at 0x262d76a6978>,\n",
       " <keras.backend.tensorflow_backend.Function at 0x262d76a6a58>,\n",
       " <keras.backend.tensorflow_backend.Function at 0x262d76a6b38>,\n",
       " <keras.backend.tensorflow_backend.Function at 0x262d76a6be0>,\n",
       " <keras.backend.tensorflow_backend.Function at 0x262d76a6c88>,\n",
       " <keras.backend.tensorflow_backend.Function at 0x262d76a6d30>,\n",
       " <keras.backend.tensorflow_backend.Function at 0x262d76a69e8>,\n",
       " <keras.backend.tensorflow_backend.Function at 0x262d76a6e10>,\n",
       " <keras.backend.tensorflow_backend.Function at 0x262d76a6eb8>,\n",
       " <keras.backend.tensorflow_backend.Function at 0x262d76a6f60>,\n",
       " <keras.backend.tensorflow_backend.Function at 0x262d76a67b8>]"
      ]
     },
     "execution_count": 66,
     "metadata": {},
     "output_type": "execute_result"
    }
   ],
   "source": []
  },
  {
   "cell_type": "code",
   "execution_count": 65,
   "metadata": {},
   "outputs": [
    {
     "data": {
      "text/plain": [
       "[<tf.Tensor 'the_input_3:0' shape=(?, 128, 64, 1) dtype=float32>,\n",
       " <tf.Tensor 'the_input_3:0' shape=(?, 128, 64, 1) dtype=float32>,\n",
       " <tf.Tensor 'conv1_3/Relu:0' shape=(?, 128, 64, 16) dtype=float32>,\n",
       " <tf.Tensor 'max1_3/MaxPool:0' shape=(?, 64, 32, 16) dtype=float32>,\n",
       " <tf.Tensor 'conv2_3/Relu:0' shape=(?, 64, 32, 16) dtype=float32>,\n",
       " <tf.Tensor 'max2_3/MaxPool:0' shape=(?, 32, 16, 16) dtype=float32>,\n",
       " <tf.Tensor 'reshape_3/Reshape:0' shape=(?, 32, 256) dtype=float32>,\n",
       " <tf.Tensor 'dense1_3/Relu:0' shape=(?, 32, 32) dtype=float32>,\n",
       " <tf.Tensor 'dense1_3/Relu:0' shape=(?, 32, 32) dtype=float32>,\n",
       " [<tf.Tensor 'gru1_3/transpose_1:0' shape=(?, ?, 512) dtype=float32>,\n",
       "  <tf.Tensor 'gru1_b_3/transpose_1:0' shape=(?, ?, 512) dtype=float32>],\n",
       " <tf.Tensor 'add_1_2/add:0' shape=(?, ?, 512) dtype=float32>,\n",
       " <tf.Tensor 'add_1_2/add:0' shape=(?, ?, 512) dtype=float32>,\n",
       " [<tf.Tensor 'gru2_3/transpose_1:0' shape=(?, ?, 512) dtype=float32>,\n",
       "  <tf.Tensor 'gru2_b_3/transpose_1:0' shape=(?, ?, 512) dtype=float32>],\n",
       " <tf.Tensor 'concatenate_1_2/concat:0' shape=(?, ?, 1024) dtype=float32>,\n",
       " <tf.Tensor 'dense2_3/add:0' shape=(?, 32, 34) dtype=float32>,\n",
       " <tf.Tensor 'the_labels_3:0' shape=(?, 8) dtype=float32>,\n",
       " <tf.Tensor 'input_length_3:0' shape=(?, 1) dtype=int64>,\n",
       " <tf.Tensor 'label_length_3:0' shape=(?, 1) dtype=int64>,\n",
       " [<tf.Tensor 'softmax_3/truediv:0' shape=(?, 32, 34) dtype=float32>,\n",
       "  <tf.Tensor 'the_labels_3:0' shape=(?, 8) dtype=float32>,\n",
       "  <tf.Tensor 'input_length_3:0' shape=(?, 1) dtype=int64>,\n",
       "  <tf.Tensor 'label_length_3:0' shape=(?, 1) dtype=int64>]]"
      ]
     },
     "execution_count": 65,
     "metadata": {},
     "output_type": "execute_result"
    }
   ],
   "source": [
    "inputss"
   ]
  },
  {
   "cell_type": "code",
   "execution_count": 11,
   "metadata": {},
   "outputs": [],
   "source": [
    "def predict_single_plate(sess,loaded_model,img):\n",
    "    img_w,img_h = 128, 64\n",
    "   \n",
    "    #img = cv2.imread(img_filepath)\n",
    "    img = cv2.cvtColor(img, cv2.COLOR_BGR2GRAY)\n",
    "    img = cv2.resize(img, (img_w, img_h))\n",
    "    img = img.astype(np.float32)\n",
    "    img /= 255\n",
    "\n",
    "\n",
    "    net_inp = loaded_model.get_layer(name='the_input').input\n",
    "    net_out = loaded_model.get_layer(name='softmax').output\n",
    "\n",
    "    if K.image_data_format() == 'channels_first':\n",
    "        X_data = np.ones([1, 1, img_w, img_h])\n",
    "    else:\n",
    "        X_data = np.ones([1, img_w, img_h, 1])\n",
    "    \n",
    "    img = img.T\n",
    "    if K.image_data_format() == 'channels_first':\n",
    "        img = np.expand_dims(img, 0)\n",
    "    else:\n",
    "        img = np.expand_dims(img, -1)\n",
    "    X_data[0] = img\n",
    "\n",
    "    net_out_value = sess.run(net_out, feed_dict={net_inp:X_data})\n",
    "    pred_texts = decode_batch(net_out_value)\n",
    "    print(pred_texts)\n",
    "    return net_out_value\n"
   ]
  },
  {
   "cell_type": "code",
   "execution_count": 63,
   "metadata": {},
   "outputs": [],
   "source": [
    "net_inp =loaded_model.get_layer(name='the_input').input"
   ]
  },
  {
   "cell_type": "code",
   "execution_count": 64,
   "metadata": {},
   "outputs": [
    {
     "data": {
      "text/plain": [
       "<tf.Tensor 'the_input_3:0' shape=(?, 128, 64, 1) dtype=float32>"
      ]
     },
     "execution_count": 64,
     "metadata": {},
     "output_type": "execute_result"
    }
   ],
   "source": [
    "net_inp"
   ]
  },
  {
   "cell_type": "code",
   "execution_count": 69,
   "metadata": {},
   "outputs": [
    {
     "ename": "ValueError",
     "evalue": "No such layer: conv1 ",
     "output_type": "error",
     "traceback": [
      "\u001b[1;31m---------------------------------------------------------------------------\u001b[0m",
      "\u001b[1;31mValueError\u001b[0m                                Traceback (most recent call last)",
      "\u001b[1;32m<ipython-input-69-f78a72417111>\u001b[0m in \u001b[0;36m<module>\u001b[1;34m()\u001b[0m\n\u001b[1;32m----> 1\u001b[1;33m \u001b[0mnet_inp2\u001b[0m \u001b[1;33m=\u001b[0m\u001b[0mloaded_model\u001b[0m\u001b[1;33m.\u001b[0m\u001b[0mget_layer\u001b[0m\u001b[1;33m(\u001b[0m\u001b[0mname\u001b[0m\u001b[1;33m=\u001b[0m\u001b[1;34m'conv1 '\u001b[0m\u001b[1;33m)\u001b[0m\u001b[1;33m.\u001b[0m\u001b[0minput\u001b[0m\u001b[1;33m\u001b[0m\u001b[0m\n\u001b[0m",
      "\u001b[1;32m~\\AppData\\Local\\Continuum\\anaconda3\\envs\\tensorflow\\lib\\site-packages\\keras-2.2.2-py3.6.egg\\keras\\engine\\network.py\u001b[0m in \u001b[0;36mget_layer\u001b[1;34m(self, name, index)\u001b[0m\n\u001b[0;32m    362\u001b[0m                 \u001b[1;32mreturn\u001b[0m \u001b[0mlayer\u001b[0m\u001b[1;33m\u001b[0m\u001b[0m\n\u001b[0;32m    363\u001b[0m \u001b[1;33m\u001b[0m\u001b[0m\n\u001b[1;32m--> 364\u001b[1;33m         \u001b[1;32mraise\u001b[0m \u001b[0mValueError\u001b[0m\u001b[1;33m(\u001b[0m\u001b[1;34m'No such layer: '\u001b[0m \u001b[1;33m+\u001b[0m \u001b[0mname\u001b[0m\u001b[1;33m)\u001b[0m\u001b[1;33m\u001b[0m\u001b[0m\n\u001b[0m\u001b[0;32m    365\u001b[0m \u001b[1;33m\u001b[0m\u001b[0m\n\u001b[0;32m    366\u001b[0m     \u001b[1;33m@\u001b[0m\u001b[0mproperty\u001b[0m\u001b[1;33m\u001b[0m\u001b[0m\n",
      "\u001b[1;31mValueError\u001b[0m: No such layer: conv1 "
     ]
    }
   ],
   "source": [
    "net_inp2 =loaded_model.get_layer(name='conv1 ').input"
   ]
  },
  {
   "cell_type": "code",
   "execution_count": 68,
   "metadata": {},
   "outputs": [
    {
     "data": {
      "text/plain": [
       "<tf.Tensor 'the_input_3:0' shape=(?, 128, 64, 1) dtype=float32>"
      ]
     },
     "execution_count": 68,
     "metadata": {},
     "output_type": "execute_result"
    }
   ],
   "source": [
    "net_inp2"
   ]
  },
  {
   "cell_type": "code",
   "execution_count": 13,
   "metadata": {},
   "outputs": [],
   "source": [
    "letters_train = ['0', '1', '2', '3', '4', '5', '6', '7', '8', '9', 'A', 'B', 'C', 'D', 'E', 'F', 'G', 'H', 'I', 'J', 'K', 'L', 'M', 'N', 'O', 'P', 'R', 'S', 'T', 'U', 'V', 'Y', 'Z']\n",
    "letters = sorted(list(letters_train))\n"
   ]
  },
  {
   "cell_type": "code",
   "execution_count": 14,
   "metadata": {},
   "outputs": [],
   "source": [
    "def decode_batch(out):\n",
    "    ret = []\n",
    "    for j in range(out.shape[0]):\n",
    "        out_best = list(np.argmax(out[j, 2:], 1))\n",
    "        out_best = [k for k, g in itertools.groupby(out_best)]\n",
    "        outstr = ''\n",
    "        for c in out_best:\n",
    "            if c < len(letters):\n",
    "                outstr += letters[c]\n",
    "        ret.append(outstr)\n",
    "    return ret"
   ]
  },
  {
   "cell_type": "code",
   "execution_count": 15,
   "metadata": {},
   "outputs": [],
   "source": [
    "import tensorflow as tf\n",
    "sess = tf.Session()\n",
    "K.set_session(sess)"
   ]
  },
  {
   "cell_type": "code",
   "execution_count": 16,
   "metadata": {},
   "outputs": [],
   "source": [
    "init = tf.global_variables_initializer()\n",
    "sess.run(init)"
   ]
  },
  {
   "cell_type": "code",
   "execution_count": 90,
   "metadata": {},
   "outputs": [],
   "source": [
    "image_path= DATA_DIR + '/train/1#01APC48#02042018#112617.jpg'\n",
    "import skimage\n",
    "from skimage import io"
   ]
  },
  {
   "cell_type": "code",
   "execution_count": 18,
   "metadata": {},
   "outputs": [],
   "source": [
    "image = skimage.io.imread(image_path) "
   ]
  },
  {
   "cell_type": "code",
   "execution_count": 19,
   "metadata": {},
   "outputs": [
    {
     "data": {
      "text/plain": [
       "(40, 172, 3)"
      ]
     },
     "execution_count": 19,
     "metadata": {},
     "output_type": "execute_result"
    }
   ],
   "source": [
    "np.shape(image)"
   ]
  },
  {
   "cell_type": "code",
   "execution_count": 22,
   "metadata": {},
   "outputs": [
    {
     "name": "stdout",
     "output_type": "stream",
     "text": [
      "['01APC48']\n"
     ]
    }
   ],
   "source": [
    "net_out = predict_single_plate(sess,loaded_model,image)\n"
   ]
  },
  {
   "cell_type": "code",
   "execution_count": null,
   "metadata": {},
   "outputs": [],
   "source": [
    "np.shape(net_out)"
   ]
  },
  {
   "cell_type": "code",
   "execution_count": null,
   "metadata": {},
   "outputs": [],
   "source": [
    "\"\"\"\n",
    "# Testing\n",
    "test = np.random.random(net_inp)[np.newaxis,:]\n",
    "layer_outs = [func([test, 1.]) for func in functors]\n",
    "print(layer_outs)\n",
    "\"\"\"\n",
    "#X_data[i] = image"
   ]
  },
  {
   "cell_type": "code",
   "execution_count": 24,
   "metadata": {},
   "outputs": [],
   "source": [
    "def plot_activation():\n",
    "          \n",
    "    fig = plt.figure(figsize=(20, 20))\n",
    "    outer = gridspec.GridSpec(2, 1, wspace=10, hspace=0.1) \n",
    "    ax1 = plt.Subplot(fig, outer[0])\n",
    "    fig.add_subplot(ax1)\n",
    "    ax2 = plt.Subplot(fig, outer[1])\n",
    "    fig.add_subplot(ax2)    \n",
    "    ax2.set_title('Activations')\n",
    "   \n",
    "    ax1.set_title('Input img')\n",
    "    ax1.imshow(image, cmap='gray')\n",
    "    ax1.set_xticks([])\n",
    "    ax1.set_yticks([])\n",
    "\n",
    "    ax2.imshow(net_out[0].T, cmap='binary', interpolation='nearest')    \n",
    "    \n",
    "    ax2.set_yticks(list(range(len(letters) + 1)))\n",
    "    ax2.set_yticklabels(letters + ['blank'])\n",
    "    ax2.grid(False)\n",
    "    for h in np.arange(-0.5, len(letters) + 1 + 0.5, 1):\n",
    "        ax2.axhline(h, linestyle='-', color='k', alpha=0.5, linewidth=1)\n",
    "\n",
    "    #ax.axvline(x, linestyle='--', color='k')\n",
    "    plt.show()"
   ]
  },
  {
   "cell_type": "code",
   "execution_count": 25,
   "metadata": {},
   "outputs": [
    {
     "data": {
      "image/png": "[encoded data removed]",
      "text/plain": [
       "<Figure size 1440x1440 with 2 Axes>"
      ]
     },
     "metadata": {},
     "output_type": "display_data"
    }
   ],
   "source": [
    "plot_activation()"
   ]
  },
  {
   "cell_type": "code",
   "execution_count": 77,
   "metadata": {},
   "outputs": [],
   "source": [
    "layer_outputs = [layer.output for layer in loaded_model.layers[:15]] "
   ]
  },
  {
   "cell_type": "code",
   "execution_count": 79,
   "metadata": {},
   "outputs": [
    {
     "data": {
      "text/plain": [
       "[<tf.Tensor 'the_input_3:0' shape=(?, 128, 64, 1) dtype=float32>,\n",
       " <tf.Tensor 'conv1_3/Relu:0' shape=(?, 128, 64, 16) dtype=float32>,\n",
       " <tf.Tensor 'max1_3/MaxPool:0' shape=(?, 64, 32, 16) dtype=float32>,\n",
       " <tf.Tensor 'conv2_3/Relu:0' shape=(?, 64, 32, 16) dtype=float32>,\n",
       " <tf.Tensor 'max2_3/MaxPool:0' shape=(?, 32, 16, 16) dtype=float32>,\n",
       " <tf.Tensor 'reshape_3/Reshape:0' shape=(?, 32, 256) dtype=float32>,\n",
       " <tf.Tensor 'dense1_3/Relu:0' shape=(?, 32, 32) dtype=float32>,\n",
       " <tf.Tensor 'gru1_3/transpose_1:0' shape=(?, ?, 512) dtype=float32>,\n",
       " <tf.Tensor 'gru1_b_3/transpose_1:0' shape=(?, ?, 512) dtype=float32>,\n",
       " <tf.Tensor 'add_1_2/add:0' shape=(?, ?, 512) dtype=float32>,\n",
       " <tf.Tensor 'gru2_3/transpose_1:0' shape=(?, ?, 512) dtype=float32>,\n",
       " <tf.Tensor 'gru2_b_3/transpose_1:0' shape=(?, ?, 512) dtype=float32>,\n",
       " <tf.Tensor 'concatenate_1_2/concat:0' shape=(?, ?, 1024) dtype=float32>,\n",
       " <tf.Tensor 'dense2_3/add:0' shape=(?, 32, 34) dtype=float32>,\n",
       " <tf.Tensor 'softmax_3/truediv:0' shape=(?, 32, 34) dtype=float32>]"
      ]
     },
     "execution_count": 79,
     "metadata": {},
     "output_type": "execute_result"
    }
   ],
   "source": [
    "layer_outputs"
   ]
  },
  {
   "cell_type": "code",
   "execution_count": 115,
   "metadata": {},
   "outputs": [],
   "source": [
    "from keras import models\n",
    "\n",
    "layer_outputs = [layer.output for layer in loaded_model.layers[:8]]\n",
    "activation_model = models.Model(inputs=loaded_model.input, outputs=layer_outputs)"
   ]
  },
  {
   "cell_type": "code",
   "execution_count": 116,
   "metadata": {},
   "outputs": [
    {
     "data": {
      "text/plain": [
       "[<tf.Tensor 'the_input_3:0' shape=(?, 128, 64, 1) dtype=float32>,\n",
       " <tf.Tensor 'the_labels_3:0' shape=(?, 8) dtype=float32>,\n",
       " <tf.Tensor 'input_length_3:0' shape=(?, 1) dtype=int64>,\n",
       " <tf.Tensor 'label_length_3:0' shape=(?, 1) dtype=int64>]"
      ]
     },
     "execution_count": 116,
     "metadata": {},
     "output_type": "execute_result"
    }
   ],
   "source": [
    "loaded_model.input"
   ]
  },
  {
   "cell_type": "code",
   "execution_count": 117,
   "metadata": {},
   "outputs": [
    {
     "data": {
      "text/plain": [
       "[<tf.Tensor 'ctc_3/ExpandDims:0' shape=(?, 1) dtype=float32>]"
      ]
     },
     "execution_count": 117,
     "metadata": {},
     "output_type": "execute_result"
    }
   ],
   "source": [
    "loaded_model.outputs"
   ]
  },
  {
   "cell_type": "code",
   "execution_count": 81,
   "metadata": {},
   "outputs": [
    {
     "data": {
      "image/png": "[encoded data removed]",
      "text/plain": [
       "<Figure size 432x288 with 1 Axes>"
      ]
     },
     "metadata": {},
     "output_type": "display_data"
    }
   ],
   "source": [
    "plt.imshow(image)\n",
    "plt.show()"
   ]
  },
  {
   "cell_type": "code",
   "execution_count": 103,
   "metadata": {},
   "outputs": [
    {
     "data": {
      "text/plain": [
       "<keras.engine.training.Model at 0x262d773ca58>"
      ]
     },
     "execution_count": 103,
     "metadata": {},
     "output_type": "execute_result"
    }
   ],
   "source": [
    "activation_model"
   ]
  },
  {
   "cell_type": "code",
   "execution_count": 87,
   "metadata": {},
   "outputs": [
    {
     "data": {
      "text/plain": [
       "(40, 172, 3)"
      ]
     },
     "execution_count": 87,
     "metadata": {},
     "output_type": "execute_result"
    }
   ],
   "source": [
    "image.shape"
   ]
  },
  {
   "cell_type": "code",
   "execution_count": 93,
   "metadata": {},
   "outputs": [],
   "source": [
    "from keras.preprocessing import image\n",
    "img = image.load_img(image_path, target_size=(64, 128))"
   ]
  },
  {
   "cell_type": "code",
   "execution_count": 94,
   "metadata": {},
   "outputs": [
    {
     "data": {
      "image/png": "[encoded data removed]",
      "text/plain": [
       "<PIL.Image.Image image mode=RGB size=128x64 at 0x262D7758390>"
      ]
     },
     "execution_count": 94,
     "metadata": {},
     "output_type": "execute_result"
    }
   ],
   "source": [
    "img"
   ]
  },
  {
   "cell_type": "code",
   "execution_count": 95,
   "metadata": {},
   "outputs": [],
   "source": [
    "img_tensor = image.img_to_array(img)\n",
    "img_tensor = np.expand_dims(img_tensor, axis=0)\n",
    "img_tensor /= 255."
   ]
  },
  {
   "cell_type": "code",
   "execution_count": 104,
   "metadata": {},
   "outputs": [
    {
     "data": {
      "text/plain": [
       "(1, 64, 128, 3)"
      ]
     },
     "execution_count": 104,
     "metadata": {},
     "output_type": "execute_result"
    }
   ],
   "source": [
    "img_tensor.shape"
   ]
  },
  {
   "cell_type": "code",
   "execution_count": 99,
   "metadata": {},
   "outputs": [
    {
     "data": {
      "text/plain": [
       "(64, 128, 3)"
      ]
     },
     "execution_count": 99,
     "metadata": {},
     "output_type": "execute_result"
    }
   ],
   "source": [
    "img_tensor[0].shape"
   ]
  },
  {
   "cell_type": "code",
   "execution_count": 100,
   "metadata": {},
   "outputs": [
    {
     "data": {
      "image/png": "[encoded data removed]",
      "text/plain": [
       "<Figure size 432x288 with 1 Axes>"
      ]
     },
     "metadata": {},
     "output_type": "display_data"
    }
   ],
   "source": [
    "plt.imshow(img_tensor[0])\n",
    "plt.show()"
   ]
  },
  {
   "cell_type": "code",
   "execution_count": 118,
   "metadata": {},
   "outputs": [
    {
     "ename": "ValueError",
     "evalue": "Error when checking model input: the list of Numpy arrays that you are passing to your model is not the size the model expected. Expected to see 4 array(s), but instead got the following list of 1 arrays: [array([[[[0.34901962, 0.49411765, 0.59607846],\n         [0.23137255, 0.36078432, 0.23921569],\n         [0.18039216, 0.4       , 0.29411766],\n         ...,\n         [0.8039216 , 0.8509804 , 0.9137255 ...",
     "output_type": "error",
     "traceback": [
      "\u001b[1;31m---------------------------------------------------------------------------\u001b[0m",
      "\u001b[1;31mValueError\u001b[0m                                Traceback (most recent call last)",
      "\u001b[1;32m<ipython-input-118-60c7bab617fa>\u001b[0m in \u001b[0;36m<module>\u001b[1;34m()\u001b[0m\n\u001b[0;32m      1\u001b[0m \u001b[0minput_shape\u001b[0m\u001b[1;33m=\u001b[0m \u001b[0mimg_tensor\u001b[0m\u001b[1;33m.\u001b[0m\u001b[0mshape\u001b[0m\u001b[1;33m\u001b[0m\u001b[0m\n\u001b[1;32m----> 2\u001b[1;33m \u001b[0mactivations\u001b[0m \u001b[1;33m=\u001b[0m \u001b[0mactivation_model\u001b[0m\u001b[1;33m.\u001b[0m\u001b[0mpredict\u001b[0m\u001b[1;33m(\u001b[0m\u001b[0mimg_tensor\u001b[0m\u001b[1;33m,\u001b[0m\u001b[1;34m'01APC48'\u001b[0m\u001b[1;33m,\u001b[0m\u001b[1;36m8\u001b[0m\u001b[1;33m,\u001b[0m\u001b[1;36m8\u001b[0m\u001b[1;33m)\u001b[0m\u001b[1;33m\u001b[0m\u001b[0m\n\u001b[0m",
      "\u001b[1;32m~\\AppData\\Local\\Continuum\\anaconda3\\envs\\tensorflow\\lib\\site-packages\\keras-2.2.2-py3.6.egg\\keras\\engine\\training.py\u001b[0m in \u001b[0;36mpredict\u001b[1;34m(self, x, batch_size, verbose, steps)\u001b[0m\n\u001b[0;32m   1145\u001b[0m                              'argument.')\n\u001b[0;32m   1146\u001b[0m         \u001b[1;31m# Validate user data.\u001b[0m\u001b[1;33m\u001b[0m\u001b[1;33m\u001b[0m\u001b[0m\n\u001b[1;32m-> 1147\u001b[1;33m         \u001b[0mx\u001b[0m\u001b[1;33m,\u001b[0m \u001b[0m_\u001b[0m\u001b[1;33m,\u001b[0m \u001b[0m_\u001b[0m \u001b[1;33m=\u001b[0m \u001b[0mself\u001b[0m\u001b[1;33m.\u001b[0m\u001b[0m_standardize_user_data\u001b[0m\u001b[1;33m(\u001b[0m\u001b[0mx\u001b[0m\u001b[1;33m)\u001b[0m\u001b[1;33m\u001b[0m\u001b[0m\n\u001b[0m\u001b[0;32m   1148\u001b[0m         \u001b[1;32mif\u001b[0m \u001b[0mself\u001b[0m\u001b[1;33m.\u001b[0m\u001b[0mstateful\u001b[0m\u001b[1;33m:\u001b[0m\u001b[1;33m\u001b[0m\u001b[0m\n\u001b[0;32m   1149\u001b[0m             \u001b[1;32mif\u001b[0m \u001b[0mx\u001b[0m\u001b[1;33m[\u001b[0m\u001b[1;36m0\u001b[0m\u001b[1;33m]\u001b[0m\u001b[1;33m.\u001b[0m\u001b[0mshape\u001b[0m\u001b[1;33m[\u001b[0m\u001b[1;36m0\u001b[0m\u001b[1;33m]\u001b[0m \u001b[1;33m>\u001b[0m \u001b[0mbatch_size\u001b[0m \u001b[1;32mand\u001b[0m \u001b[0mx\u001b[0m\u001b[1;33m[\u001b[0m\u001b[1;36m0\u001b[0m\u001b[1;33m]\u001b[0m\u001b[1;33m.\u001b[0m\u001b[0mshape\u001b[0m\u001b[1;33m[\u001b[0m\u001b[1;36m0\u001b[0m\u001b[1;33m]\u001b[0m \u001b[1;33m%\u001b[0m \u001b[0mbatch_size\u001b[0m \u001b[1;33m!=\u001b[0m \u001b[1;36m0\u001b[0m\u001b[1;33m:\u001b[0m\u001b[1;33m\u001b[0m\u001b[0m\n",
      "\u001b[1;32m~\\AppData\\Local\\Continuum\\anaconda3\\envs\\tensorflow\\lib\\site-packages\\keras-2.2.2-py3.6.egg\\keras\\engine\\training.py\u001b[0m in \u001b[0;36m_standardize_user_data\u001b[1;34m(self, x, y, sample_weight, class_weight, check_array_lengths, batch_size)\u001b[0m\n\u001b[0;32m    747\u001b[0m             \u001b[0mfeed_input_shapes\u001b[0m\u001b[1;33m,\u001b[0m\u001b[1;33m\u001b[0m\u001b[0m\n\u001b[0;32m    748\u001b[0m             \u001b[0mcheck_batch_axis\u001b[0m\u001b[1;33m=\u001b[0m\u001b[1;32mFalse\u001b[0m\u001b[1;33m,\u001b[0m  \u001b[1;31m# Don't enforce the batch size.\u001b[0m\u001b[1;33m\u001b[0m\u001b[0m\n\u001b[1;32m--> 749\u001b[1;33m             exception_prefix='input')\n\u001b[0m\u001b[0;32m    750\u001b[0m \u001b[1;33m\u001b[0m\u001b[0m\n\u001b[0;32m    751\u001b[0m         \u001b[1;32mif\u001b[0m \u001b[0my\u001b[0m \u001b[1;32mis\u001b[0m \u001b[1;32mnot\u001b[0m \u001b[1;32mNone\u001b[0m\u001b[1;33m:\u001b[0m\u001b[1;33m\u001b[0m\u001b[0m\n",
      "\u001b[1;32m~\\AppData\\Local\\Continuum\\anaconda3\\envs\\tensorflow\\lib\\site-packages\\keras-2.2.2-py3.6.egg\\keras\\engine\\training_utils.py\u001b[0m in \u001b[0;36mstandardize_input_data\u001b[1;34m(data, names, shapes, check_batch_axis, exception_prefix)\u001b[0m\n\u001b[0;32m     99\u001b[0m                 \u001b[1;34m'Expected to see '\u001b[0m \u001b[1;33m+\u001b[0m \u001b[0mstr\u001b[0m\u001b[1;33m(\u001b[0m\u001b[0mlen\u001b[0m\u001b[1;33m(\u001b[0m\u001b[0mnames\u001b[0m\u001b[1;33m)\u001b[0m\u001b[1;33m)\u001b[0m \u001b[1;33m+\u001b[0m \u001b[1;34m' array(s), '\u001b[0m\u001b[1;33m\u001b[0m\u001b[0m\n\u001b[0;32m    100\u001b[0m                 \u001b[1;34m'but instead got the following list of '\u001b[0m \u001b[1;33m+\u001b[0m\u001b[1;33m\u001b[0m\u001b[0m\n\u001b[1;32m--> 101\u001b[1;33m                 str(len(data)) + ' arrays: ' + str(data)[:200] + '...')\n\u001b[0m\u001b[0;32m    102\u001b[0m         \u001b[1;32melif\u001b[0m \u001b[0mlen\u001b[0m\u001b[1;33m(\u001b[0m\u001b[0mnames\u001b[0m\u001b[1;33m)\u001b[0m \u001b[1;33m>\u001b[0m \u001b[1;36m1\u001b[0m\u001b[1;33m:\u001b[0m\u001b[1;33m\u001b[0m\u001b[0m\n\u001b[0;32m    103\u001b[0m             raise ValueError(\n",
      "\u001b[1;31mValueError\u001b[0m: Error when checking model input: the list of Numpy arrays that you are passing to your model is not the size the model expected. Expected to see 4 array(s), but instead got the following list of 1 arrays: [array([[[[0.34901962, 0.49411765, 0.59607846],\n         [0.23137255, 0.36078432, 0.23921569],\n         [0.18039216, 0.4       , 0.29411766],\n         ...,\n         [0.8039216 , 0.8509804 , 0.9137255 ..."
     ]
    }
   ],
   "source": [
    "input_shape= img_tensor.shape\n",
    "activations = activation_model.predict(img_tensor,'01APC48',8,8)  # CHOLLETIN KODUNU İNCELE"
   ]
  },
  {
   "cell_type": "code",
   "execution_count": null,
   "metadata": {},
   "outputs": [],
   "source": []
  }
 ],
 "metadata": {
  "kernelspec": {
   "display_name": "Python 3",
   "language": "python",
   "name": "python3"
  },
  "language_info": {
   "codemirror_mode": {
    "name": "ipython",
    "version": 3
   },
   "file_extension": ".py",
   "mimetype": "text/x-python",
   "name": "python",
   "nbconvert_exporter": "python",
   "pygments_lexer": "ipython3",
   "version": "3.6.5"
  }
 },
 "nbformat": 4,
 "nbformat_minor": 2
}
