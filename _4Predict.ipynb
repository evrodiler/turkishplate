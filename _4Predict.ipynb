{
 "cells": [
  {
   "cell_type": "code",
   "execution_count": 1,
   "metadata": {},
   "outputs": [
    {
     "name": "stderr",
     "output_type": "stream",
     "text": [
      "/home/user/anaconda3/lib/python3.6/site-packages/h5py/__init__.py:36: FutureWarning: Conversion of the second argument of issubdtype from `float` to `np.floating` is deprecated. In future, it will be treated as `np.float64 == np.dtype(float).type`.\n",
      "  from ._conv import register_converters as _register_converters\n",
      "Using TensorFlow backend.\n"
     ]
    },
    {
     "name": "stdout",
     "output_type": "stream",
     "text": [
      "Keras version: 2.2.2\n",
      "TensorFlow version: 1.10.1\n"
     ]
    }
   ],
   "source": [
    "import keras\n",
    "print('Keras version:', keras.__version__)\n",
    "\n",
    "import sys\n",
    "import os\n",
    "import tensorflow as tf\n",
    "print('TensorFlow version:', tf.__version__) \n",
    "from keras import backend as K"
   ]
  },
  {
   "cell_type": "code",
   "execution_count": 2,
   "metadata": {},
   "outputs": [],
   "source": [
    "sess = tf.Session()\n",
    "K.set_session(sess)\n",
    "from keras.models import model_from_json\n",
    "\n",
    "DEVICE = \"/cpu:0\"  # /use cpu:0 for cpu only or /gpu:0"
   ]
  },
  {
   "cell_type": "code",
   "execution_count": 3,
   "metadata": {},
   "outputs": [
    {
     "name": "stdout",
     "output_type": "stream",
     "text": [
      "Working directory is: /home/user/Source/dev/Evrim/Turkishplate\n"
     ]
    }
   ],
   "source": [
    "working_dir = os.getcwd()\n",
    "print(\"Working directory is:\",working_dir)\n",
    "sys.path.append(working_dir)  # To find local version of the library"
   ]
  },
  {
   "cell_type": "code",
   "execution_count": 4,
   "metadata": {},
   "outputs": [
    {
     "name": "stdout",
     "output_type": "stream",
     "text": [
      "Data dir: /home/user/Source/data/dataEvrim//plaka_out_distr\n",
      "Source code dir: /home/user/Source/dev/Evrim/Turkishplate/\n",
      "Model dir: /home/user/Source/dev/Evrim/Turkishplate//model\n"
     ]
    }
   ],
   "source": [
    "win=0\n",
    "if win:\n",
    "    ROOT_DIR = os.path.join(\"C:/Users/is95217/source/turkishplate\") #win\n",
    "    DATA_DIR = \"C:/Users/is95217/data/Original_15Kcrop_distributed\" #win\n",
    "    MODEL_DIR = 'C:/Users/is95217/source/turkishplate/model' \n",
    "else:    \n",
    "    ROOT_DIR = os.path.join(\"/home/user/Source/dev/Evrim/Turkishplate/\") #linux\n",
    "    DATA_DIR = \"/home/user/Source/data/dataEvrim//plaka_out_distr\"  #augmented plate directory\n",
    "    MODEL_DIR = \"/home/user/Source/dev/Evrim/Turkishplate//model\"\n",
    "sys.path.append(ROOT_DIR + \"/Python\")\n",
    "\n",
    "print(\"Data dir:\", DATA_DIR)\n",
    "print(\"Source code dir:\", ROOT_DIR)\n",
    "print(\"Model dir:\",MODEL_DIR)"
   ]
  },
  {
   "cell_type": "code",
   "execution_count": 5,
   "metadata": {},
   "outputs": [],
   "source": [
    "sys.path.append(os.path.dirname(os.path.realpath('Modelop')) + \"/Python\")\n",
    "import Modelop as p"
   ]
  },
  {
   "cell_type": "code",
   "execution_count": 6,
   "metadata": {},
   "outputs": [],
   "source": [
    "import concurrent.futures\n",
    "import numpy as np\n",
    "import cv2\n",
    "import keras.backend as K\n",
    "from keras.layers import Dense\n",
    "from keras.models import Sequential\n",
    "\n",
    "import tensorflow as tf\n",
    "from tensorflow.python.client import device_lib\n",
    "from keras.backend.tensorflow_backend import set_session\n",
    "\n",
    "tf_config = tf.ConfigProto()\n",
    "tf_config.gpu_options.allow_growth = True  # dynamically grow the memory used on the GPU\n",
    "tf_config.log_device_placement = True  # to log device placement (on which device the operation ran)\n",
    "                                    # (nothing gets printed in Jupyter, only if you run it standalone)\n",
    "    "
   ]
  },
  {
   "cell_type": "code",
   "execution_count": null,
   "metadata": {},
   "outputs": [],
   "source": []
  },
  {
   "cell_type": "markdown",
   "metadata": {},
   "source": [
    "# LOAD MODEL "
   ]
  },
  {
   "cell_type": "code",
   "execution_count": 16,
   "metadata": {
    "scrolled": false
   },
   "outputs": [],
   "source": [
    "graph_detection = tf.Graph()\n",
    "\n",
    "with graph_detection.as_default():\n",
    "    session_detection = tf.Session(graph = graph_detection, config=tf_config) \n",
    "    with session_detection.as_default():\n",
    "        #load model\n",
    "        loaded_model=p.load_model(MODEL_DIR +'/model_aug3') #mix pics from port and augmentation"
   ]
  },
  {
   "cell_type": "markdown",
   "metadata": {},
   "source": [
    "# one plate predict"
   ]
  },
  {
   "cell_type": "code",
   "execution_count": 17,
   "metadata": {},
   "outputs": [],
   "source": [
    "#img_filepath = 'C:/Users/is95217/data/plaka/' + '78BT701.png'\n",
    "#img_filepath = 'C:/Users/is95217/data/plaka2/' + 'Test2.jpg'\n",
    "img_filepath = DATA_DIR + '/test/81VY339.jpg' #ok\n",
    "img_filepath = DATA_DIR + '/test/78O2555.jpg' # ok\n",
    "img_filepath = '/home/user/Source/data/dataEvrim/Original_15Kcrop_distr/test/' + '1#81FC650#12042018#085508.jpg' #ok\n",
    "#img_filepath = '/home/user/Source/data/dataEvrim/Original_15Kcrop_distr/test/' + '1#78BN724#31032018#092749.jpg' #not ok 78bn777\n",
    "\n",
    "#img_filepath = DATA_DIR + '/test/81U3872.jpg' \n",
    "\n",
    "image = cv2.imread(img_filepath)"
   ]
  },
  {
   "cell_type": "code",
   "execution_count": 18,
   "metadata": {},
   "outputs": [
    {
     "data": {
      "text/plain": [
       "'/home/user/Source/data/dataEvrim/Original_15Kcrop_distr/test/1#81FC650#12042018#085508.jpg'"
      ]
     },
     "execution_count": 18,
     "metadata": {},
     "output_type": "execute_result"
    }
   ],
   "source": [
    "img_filepath"
   ]
  },
  {
   "cell_type": "code",
   "execution_count": 19,
   "metadata": {},
   "outputs": [
    {
     "name": "stdout",
     "output_type": "stream",
     "text": [
      "['81FC650']\n"
     ]
    }
   ],
   "source": [
    "\n",
    "with graph_detection.as_default():\n",
    "     with session_detection.as_default():\n",
    "            predicted_text = p.predict_single_plate(session_detection,loaded_model,image)#input directory of pic\n",
    "            print(predicted_text)"
   ]
  },
  {
   "cell_type": "markdown",
   "metadata": {},
   "source": [
    "#  Full test set predict"
   ]
  },
  {
   "cell_type": "code",
   "execution_count": 20,
   "metadata": {},
   "outputs": [],
   "source": [
    "cnt_test= len(os.listdir(DATA_DIR + '/test'))\n",
    "img_filepath = DATA_DIR + '/test/' "
   ]
  },
  {
   "cell_type": "code",
   "execution_count": null,
   "metadata": {},
   "outputs": [
    {
     "data": {
      "text/plain": [
       "3161"
      ]
     },
     "execution_count": 21,
     "metadata": {},
     "output_type": "execute_result"
    }
   ],
   "source": [
    "cnt_test"
   ]
  },
  {
   "cell_type": "code",
   "execution_count": null,
   "metadata": {},
   "outputs": [
    {
     "name": "stdout",
     "output_type": "stream",
     "text": [
      "notmatched 34GB8423 - 34GB842\n",
      "notmatched 08AG824 - 78AG824\n",
      "notmatched 41BH16 - 41BH163\n",
      "notmatched 34GVV89 - 34GVY89\n",
      "notmatched 41VU695 - 41YU695\n",
      "notmatched 42R50153 - 41R5975\n",
      "notmatched 41VK754 - 41HK754\n",
      "notmatched 34TJ14269 - 34TJ1269\n",
      "notmatched 78BN772 - 78BN724\n",
      "notmatched 34ABA090 - 34ABA890\n",
      "notmatched 06BFV3 - 06BFV30\n",
      "notmatched 41R029 - 41RK029\n",
      "notmatched 35MGN05 - 35MGV05\n",
      "notmatched 34AUR169 - 34AU7696\n",
      "notmatched 35SL98 - 35MSL98\n",
      "notmatched 16SJR07 - 16SJR02\n",
      "notmatched 41HN690 - 41VN690\n",
      "notmatched 34BV7533 - 34PK7533\n",
      "notmatched 34BN8341 - 34BM8341\n",
      "notmatched 41L749 - 41B1769\n",
      "notmatched 44YH970 - 41YH370\n",
      "notmatched 27VG189 - 27VG489\n",
      "notmatched 3459400 - 34TP5904\n",
      "notmatched 06BY6066 - 06BY6068\n",
      "notmatched 41TT687 - 41YT687\n",
      "notmatched 34GF7966 - 34GF796\n",
      "notmatched 41VN576 - 41VV576\n",
      "notmatched 59NE709 - 59NE7091\n",
      "notmatched 41VB804 - 41VB004\n",
      "notmatched 41UJ396 - 41UJ356\n",
      "notmatched 34HK4262 - 34HY4262\n",
      "notmatched 0EF039 - 70EF039\n",
      "notmatched 43BH84 - 43BH841\n",
      "notmatched 41AAD421 - 41AAD42\n",
      "notmatched 34JC869 - 34JC8691\n",
      "notmatched 34UA1885 - 34GA1885\n",
      "notmatched 06HCL98 - 16HCL98\n",
      "notmatched 34KAR765 - 34KAR76\n",
      "notmatched 41VS98 - 41VS984\n",
      "notmatched 43EB638 - 43EB538\n",
      "notmatched 41YE47 - 41YE478\n",
      "notmatched 4HZ1463 - 34HZ1463\n",
      "notmatched 34SC0T34 - 34SOT34\n",
      "notmatched 35HHK28 - 35FHK28\n",
      "notmatched 06FG596 - 06FG5961\n",
      "notmatched 34HL4202 - 34HL420\n",
      "notmatched 34JC991 - 34JC9911\n",
      "notmatched 06DK5306 - 06DK5906\n",
      "notmatched 34BU22 - 34BMU22\n",
      "notmatched 42ANA51 - 42AHA51\n",
      "notmatched 33BDK51 - 33BDK513\n",
      "notmatched 41VD368 - 41VD358\n",
      "notmatched 06BBT - 06BBT23\n",
      "notmatched 27SZ01 - 27SZ010\n",
      "notmatched 35AAY886 - 35JJ0886\n",
      "notmatched 41NU93 - 41NU934\n",
      "notmatched 43AAB920 - 43AAB92\n",
      "notmatched 41VP335 - 41VP934\n",
      "notmatched 34HU068 - 34HU0686\n",
      "notmatched 06DAF34 - 06UAF34\n",
      "notmatched 35MGV087 - 35MGV05\n",
      "notmatched 14KZV57 - 14DV571\n",
      "notmatched 34G1615 - 34GL1613\n",
      "notmatched 4LV212 - 41LV232\n",
      "notmatched 34EJ7235 - 34EJ7239\n",
      "notmatched 41V4299 - 41V0299\n",
      "notmatched 06NAN64 - 06NJN64\n",
      "notmatched 43HY181 - 43HY781\n",
      "notmatched 41TMM882 - 41TM882\n",
      "notmatched 41YH369 - 41YH869\n",
      "notmatched 34BEH318 - 34BEY318\n",
      "notmatched 34AA980 - 34AIA980\n",
      "notmatched 41R6602 - 41G6602\n",
      "notmatched 06DK5309 - 06DK5303\n",
      "notmatched 34EH1892 - 34EN1892\n",
      "notmatched 34EC657 - 34EC6517\n",
      "notmatched 41TT1925 - 41TT925\n",
      "notmatched 6BFA54 - 06BFA54\n",
      "notmatched 41U226 - 41UH228\n",
      "notmatched 34DZ4218 - 34DZ4238\n",
      "notmatched 41TV361 - 41YV361\n",
      "notmatched 41VLF124 - 41VG124\n",
      "notmatched 68HL870 - 68HL970\n",
      "notmatched 04PA65M19 - 04PA6519\n",
      "notmatched 114DD215 - 14DD215\n",
      "notmatched 41VB518 - 41VB618\n",
      "notmatched 34LDG71 - 34LOG71\n",
      "notmatched 41YF328 - 41YF928\n",
      "notmatched 43RL438 - 43PL438\n",
      "notmatched 19EP166 - 19EP169\n",
      "notmatched 42EPB90 - 42EPD99\n",
      "notmatched 02UE477 - 02AE477\n",
      "notmatched 43VU979 - 43VD979\n",
      "notmatched 35HB746 - 35HB1746\n",
      "notmatched 41UZ748 - 41UZ743\n",
      "notmatched 34YIF78 - 34YTF78\n",
      "notmatched 67SH05 - 67SH055\n",
      "notmatched 34VH3402 - 34YH3402\n",
      "notmatched 33BUK51 - 33BDK51\n",
      "notmatched 44Y2258 - 10Y2258\n",
      "notmatched 41YV375 - 41YH375\n",
      "notmatched 34PK7593 - 34PK7533\n",
      "notmatched 41TL404 - 41FL404\n"
     ]
    }
   ],
   "source": [
    "matched=0\n",
    "start='#'\n",
    "end='#'\n",
    "for fname in os.listdir(DATA_DIR + '/test'):\n",
    "     \n",
    "    image = cv2.imread(img_filepath + fname)\n",
    "    if p.check_word(fname):                \n",
    "        fn= (fname.split(start))[1].split(end)[0] \n",
    "    else:\n",
    "        fn = fname.split('.')   \n",
    "        fn= fn[0]\n",
    "        \n",
    "    with graph_detection.as_default():\n",
    "         with session_detection.as_default():\n",
    "            predicted_text = p.predict_single_plate(session_detection,loaded_model,image)#input directory of pic\n",
    "            \n",
    "    \n",
    "    \n",
    "    if ''.join(predicted_text) == fn:\n",
    "        matched +=1\n",
    "    else:\n",
    "        print('notmatched',''.join(predicted_text),'-',fn)\n",
    "        #print('matched')\n",
    "        \n"
   ]
  },
  {
   "cell_type": "code",
   "execution_count": 15,
   "metadata": {},
   "outputs": [
    {
     "name": "stdout",
     "output_type": "stream",
     "text": [
      "matched= 1795 ,total= 3161 ,accuracy: 56.78582726985131\n"
     ]
    }
   ],
   "source": [
    "print(\"matched=\",matched,\",total=\", cnt_test ,\",accuracy:\", matched/cnt_test*100)\n",
    " "
   ]
  },
  {
   "cell_type": "code",
   "execution_count": null,
   "metadata": {},
   "outputs": [],
   "source": []
  }
 ],
 "metadata": {
  "kernelspec": {
   "display_name": "Python 3",
   "language": "python",
   "name": "python3"
  },
  "language_info": {
   "codemirror_mode": {
    "name": "ipython",
    "version": 3
   },
   "file_extension": ".py",
   "mimetype": "text/x-python",
   "name": "python",
   "nbconvert_exporter": "python",
   "pygments_lexer": "ipython3",
   "version": "3.6.4"
  }
 },
 "nbformat": 4,
 "nbformat_minor": 2
}
