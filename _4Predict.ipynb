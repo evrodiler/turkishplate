{
 "cells": [
  {
   "cell_type": "code",
   "execution_count": 1,
   "metadata": {},
   "outputs": [
    {
     "name": "stderr",
     "output_type": "stream",
     "text": [
      "Using TensorFlow backend.\n"
     ]
    },
    {
     "name": "stdout",
     "output_type": "stream",
     "text": [
      "Keras version: 2.2.2\n",
      "TensorFlow version: 1.8.0\n"
     ]
    }
   ],
   "source": [
    "import keras\n",
    "print('Keras version:', keras.__version__)\n",
    "\n",
    "import sys\n",
    "import os\n",
    "import tensorflow as tf\n",
    "print('TensorFlow version:', tf.__version__) \n",
    "from keras import backend as K"
   ]
  },
  {
   "cell_type": "code",
   "execution_count": 2,
   "metadata": {},
   "outputs": [],
   "source": [
    "sess = tf.Session()\n",
    "K.set_session(sess)\n",
    "from keras.models import model_from_json\n",
    "\n",
    "DEVICE = \"/cpu:0\"  # /use cpu:0 for cpu only or /gpu:0"
   ]
  },
  {
   "cell_type": "code",
   "execution_count": 3,
   "metadata": {},
   "outputs": [
    {
     "name": "stdout",
     "output_type": "stream",
     "text": [
      "Working directory is: C:\\Users\\is95217\\source\\turkishplate\n"
     ]
    }
   ],
   "source": [
    "working_dir = os.getcwd()\n",
    "print(\"Working directory is:\",working_dir)\n",
    "sys.path.append(working_dir)  # To find local version of the library"
   ]
  },
  {
   "cell_type": "code",
   "execution_count": 4,
   "metadata": {},
   "outputs": [
    {
     "name": "stdout",
     "output_type": "stream",
     "text": [
      "Data dir: C:/Users/is95217/data/plaka_out/\n",
      "Source code dir: C:/Users/is95217/source/turkishplate\n",
      "Model dir: C:/Users/is95217/source/turkishplate/model\n"
     ]
    }
   ],
   "source": [
    "win=1\n",
    "if win:\n",
    "    ROOT_DIR = os.path.join(\"C:/Users/is95217/source/turkishplate\") #win    \n",
    "    #DATA_DIR = \"C:/Users/is95217/data/Original_15Kcrop_distributed\" #win\n",
    "    DATA_DIR = \"C:/Users/is95217/data/plaka_out/\"\n",
    "    MODEL_DIR = 'C:/Users/is95217/source/turkishplate/model' \n",
    "else:    \n",
    "    ROOT_DIR = os.path.join(\"/home/user/Source/Evrim/Turkishplate\") #linux\n",
    "    DATA_DIR = \"/home/user/Source/data/dataEvrim/Original_15Kcrop_distributed\"  #linux\n",
    "sys.path.append(ROOT_DIR + \"/Python\")\n",
    "\n",
    "print(\"Data dir:\", DATA_DIR)\n",
    "print(\"Source code dir:\", ROOT_DIR)\n",
    "print(\"Model dir:\",MODEL_DIR)"
   ]
  },
  {
   "cell_type": "code",
   "execution_count": 5,
   "metadata": {},
   "outputs": [],
   "source": [
    "sys.path.append(os.path.dirname(os.path.realpath('PPlate')) + \"/python\")\n",
    "import Modelop as p"
   ]
  },
  {
   "cell_type": "code",
   "execution_count": 6,
   "metadata": {},
   "outputs": [],
   "source": [
    "import concurrent.futures\n",
    "import numpy as np\n",
    "import cv2\n",
    "import keras.backend as K\n",
    "from keras.layers import Dense\n",
    "from keras.models import Sequential\n",
    "\n",
    "import tensorflow as tf\n",
    "from tensorflow.python.client import device_lib\n",
    "from keras.backend.tensorflow_backend import set_session\n",
    "\n",
    "tf_config = tf.ConfigProto()\n",
    "tf_config.gpu_options.allow_growth = True  # dynamically grow the memory used on the GPU\n",
    "tf_config.log_device_placement = True  # to log device placement (on which device the operation ran)\n",
    "                                    # (nothing gets printed in Jupyter, only if you run it standalone)\n",
    "    "
   ]
  },
  {
   "cell_type": "markdown",
   "metadata": {},
   "source": [
    "# LOAD MODEL "
   ]
  },
  {
   "cell_type": "code",
   "execution_count": 7,
   "metadata": {},
   "outputs": [],
   "source": [
    "graph_detection = tf.Graph()\n",
    "\n",
    "with graph_detection.as_default():\n",
    "    session_detection = tf.Session(graph = graph_detection, config=tf_config) \n",
    "    with session_detection.as_default():\n",
    "        #load model\n",
    "        loaded_model=p.load_model(MODEL_DIR +'/model15k_2GRU')"
   ]
  },
  {
   "cell_type": "markdown",
   "metadata": {},
   "source": [
    "# one plate predict"
   ]
  },
  {
   "cell_type": "code",
   "execution_count": 17,
   "metadata": {},
   "outputs": [],
   "source": [
    "#img_filepath = 'C:/Users/is95217/data/plaka/' + '2.png' #'34NG744' true= 34vg743\n",
    "#img_filepath = 'C:/Users/is95217/data/plaka/' + '34ef8048.png'  #ok\n",
    "#img_filepath = 'C:/Users/is95217/data/plaka/' + '34KLD99.jpg'  #ok\n",
    "#img_filepath = 'C:/Users/is95217/data/plaka/' + '34RJ8509.jpg'  #34HJ8309 yanlış\n",
    "#img_filepath = 'C:/Users/is95217/data/plaka/' + '34RR0476.jpg'  #ok\n",
    "#img_filepath = 'C:/Users/is95217/data/plaka/' + '35EF704.png' #'36EF704'\n",
    "#img_filepath = 'C:/Users/is95217/data/plaka/' + '78BT701.png'\n",
    "img_filepath = DATA_DIR + '01GUV73.jpg'\n",
    "\n",
    "image = cv2.imread(img_filepath)"
   ]
  },
  {
   "cell_type": "code",
   "execution_count": 18,
   "metadata": {},
   "outputs": [
    {
     "name": "stdout",
     "output_type": "stream",
     "text": [
      "['01GUVZ3']\n"
     ]
    }
   ],
   "source": [
    "with graph_detection.as_default():\n",
    "     with session_detection.as_default():\n",
    "            predicted_text = p.predict_single_plate(session_detection,loaded_model,image)#input directory of pic\n",
    "            print(predicted_text)"
   ]
  },
  {
   "cell_type": "markdown",
   "metadata": {},
   "source": [
    "#  Full test set"
   ]
  },
  {
   "cell_type": "code",
   "execution_count": 10,
   "metadata": {},
   "outputs": [
    {
     "data": {
      "text/plain": [
       "\"\\n\\n\\ncnt_data = len(os.listdir(DATA_DIR))\\ntiger_test = p.TextImageGenerator(DATA_DIR, '', 128, 64, cnt_data, 4) # batch size \\ntiger_test.build_data()\\n\\nnet_inp = loaded_model.get_layer(name='the_input').input\\nnet_out = loaded_model.get_layer(name='softmax').output\\n\""
      ]
     },
     "execution_count": 10,
     "metadata": {},
     "output_type": "execute_result"
    }
   ],
   "source": [
    "\"\"\"\n",
    "\n",
    "\n",
    "cnt_data = len(os.listdir(DATA_DIR))\n",
    "tiger_test = p.TextImageGenerator(DATA_DIR, '', 128, 64, cnt_data, 4) # batch size \n",
    "tiger_test.build_data()\n",
    "\n",
    "net_inp = loaded_model.get_layer(name='the_input').input\n",
    "net_out = loaded_model.get_layer(name='softmax').output\n",
    "\"\"\""
   ]
  },
  {
   "cell_type": "code",
   "execution_count": 11,
   "metadata": {},
   "outputs": [
    {
     "data": {
      "text/plain": [
       "'\\nsess = tf.Session()\\nK.set_session(sess)\\nfrom keras.models import model_from_json\\n'"
      ]
     },
     "execution_count": 11,
     "metadata": {},
     "output_type": "execute_result"
    }
   ],
   "source": [
    "\"\"\"\n",
    "sess = tf.Session()\n",
    "K.set_session(sess)\n",
    "from keras.models import model_from_json\n",
    "\"\"\""
   ]
  },
  {
   "cell_type": "code",
   "execution_count": 12,
   "metadata": {},
   "outputs": [
    {
     "data": {
      "text/plain": [
       "'\\nfor inp_value, _ in tiger_test.next_batch():\\n    matched=0\\n    non_matched=0\\n    testset_cnt = inp_value[\\'the_input\\'].shape[0]\\n    X_data = inp_value[\\'the_input\\']\\n    \\n    net_out_value = sess.run(net_out, feed_dict={net_inp:X_data})\\n    pred_texts = p.decode_batch(net_out_value)\\n    \\n    labels = inp_value[\\'the_labels\\']\\n    texts = []     \\n    \\n    for label in labels:\\n        text = p.labels_to_text(label)        \\n        texts.append(text)       \\n    \\n    for cnt in range(testset_cnt):        \\n        \\n        if pred_texts[cnt] == texts[cnt]:\\n            matched += 1            \\n        else:\\n            non_matched +=  1\\n            print(\\'wrong Predicted: %s True: %s i: %s len_pred: %s len_true: %s\\' % (pred_texts[cnt], texts[cnt],str(cnt),\\n                                                                              len(pred_texts[cnt]),len(texts[cnt])))\\n            \\n    print(\"matched=\",matched, \",total=\",testset_cnt , \"TP: %\", round(matched/testset_cnt, 2) * 100)\\n    break\\n'"
      ]
     },
     "execution_count": 12,
     "metadata": {},
     "output_type": "execute_result"
    }
   ],
   "source": [
    "\"\"\"\n",
    "for inp_value, _ in tiger_test.next_batch():\n",
    "    matched=0\n",
    "    non_matched=0\n",
    "    testset_cnt = inp_value['the_input'].shape[0]\n",
    "    X_data = inp_value['the_input']\n",
    "    \n",
    "    net_out_value = sess.run(net_out, feed_dict={net_inp:X_data})\n",
    "    pred_texts = p.decode_batch(net_out_value)\n",
    "    \n",
    "    labels = inp_value['the_labels']\n",
    "    texts = []     \n",
    "    \n",
    "    for label in labels:\n",
    "        text = p.labels_to_text(label)        \n",
    "        texts.append(text)       \n",
    "    \n",
    "    for cnt in range(testset_cnt):        \n",
    "        \n",
    "        if pred_texts[cnt] == texts[cnt]:\n",
    "            matched += 1            \n",
    "        else:\n",
    "            non_matched +=  1\n",
    "            print('wrong Predicted: %s True: %s i: %s len_pred: %s len_true: %s' % (pred_texts[cnt], texts[cnt],str(cnt),\n",
    "                                                                              len(pred_texts[cnt]),len(texts[cnt])))\n",
    "            \n",
    "    print(\"matched=\",matched, \",total=\",testset_cnt , \"TP: %\", round(matched/testset_cnt, 2) * 100)\n",
    "    break\n",
    "\"\"\"    "
   ]
  },
  {
   "cell_type": "code",
   "execution_count": null,
   "metadata": {},
   "outputs": [],
   "source": []
  }
 ],
 "metadata": {
  "kernelspec": {
   "display_name": "Python 3",
   "language": "python",
   "name": "python3"
  },
  "language_info": {
   "codemirror_mode": {
    "name": "ipython",
    "version": 3
   },
   "file_extension": ".py",
   "mimetype": "text/x-python",
   "name": "python",
   "nbconvert_exporter": "python",
   "pygments_lexer": "ipython3",
   "version": "3.6.5"
  }
 },
 "nbformat": 4,
 "nbformat_minor": 2
}
