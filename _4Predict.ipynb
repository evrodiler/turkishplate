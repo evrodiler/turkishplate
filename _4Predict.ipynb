{
 "cells": [
  {
   "cell_type": "code",
   "execution_count": 1,
   "metadata": {},
   "outputs": [
    {
     "name": "stderr",
     "output_type": "stream",
     "text": [
      "/home/user/anaconda3/lib/python3.6/site-packages/h5py/__init__.py:36: FutureWarning: Conversion of the second argument of issubdtype from `float` to `np.floating` is deprecated. In future, it will be treated as `np.float64 == np.dtype(float).type`.\n",
      "  from ._conv import register_converters as _register_converters\n",
      "Using TensorFlow backend.\n"
     ]
    },
    {
     "name": "stdout",
     "output_type": "stream",
     "text": [
      "TensorFlow version: 1.10.1\n",
      "Keras version: 2.2.2\n"
     ]
    }
   ],
   "source": [
    "import keras\n",
    "import tensorflow as tf\n",
    "print('TensorFlow version:', tf.__version__) \n",
    "print('Keras version:', keras.__version__)\n",
    "import sys\n",
    "import os\n",
    "from os.path import join\n",
    "import json\n",
    "import random\n",
    "import itertools\n",
    "import re\n",
    "import datetime\n",
    "#import cairocffi as cairo\n",
    "import editdistance\n",
    "import numpy as np\n",
    "from scipy import ndimage\n",
    "import pylab\n",
    "import matplotlib.pyplot as plt\n",
    "import matplotlib.gridspec as gridspec\n",
    "from keras import backend as K\n",
    "from keras.layers.convolutional import Conv2D, MaxPooling2D\n",
    "from keras.layers import Input, Dense, Activation\n",
    "from keras.layers import Reshape, Lambda\n",
    "from keras.layers.merge import add, concatenate\n",
    "from keras.models import Model, load_model\n",
    "from keras.layers.recurrent import GRU\n",
    "from keras.optimizers import SGD\n",
    "from keras.utils.data_utils import get_file\n",
    "from keras.preprocessing import image\n",
    "import keras.callbacks\n",
    "import cv2\n"
   ]
  },
  {
   "cell_type": "code",
   "execution_count": 2,
   "metadata": {},
   "outputs": [],
   "source": [
    "sess = tf.Session()\n",
    "K.set_session(sess)\n",
    "from keras.models import model_from_json\n",
    "\n",
    "DEVICE = \"/cpu:0\"  # /use cpu:0 for cpu only or /gpu:0"
   ]
  },
  {
   "cell_type": "code",
   "execution_count": 3,
   "metadata": {},
   "outputs": [
    {
     "name": "stdout",
     "output_type": "stream",
     "text": [
      "Working directory is: /home/user/Source/Evrim/Turkishplate\n",
      "Data: /home/user/Source/data/dataEvrim/Original_15Kcrop_distributed\n",
      "Source code: /home/user/Source/Evrim/Turkishplate\n"
     ]
    }
   ],
   "source": [
    "working_dir = os.getcwd()\n",
    "print(\"Working directory is:\",working_dir)\n",
    "sys.path.append(working_dir)  # To find local version of the library\n",
    "\n",
    "ROOT_DIR = os.path.join(\"/home/user/Source/Evrim/Turkishplate\") #linux\n",
    "#ROOT_DIR = os.path.join(\"C:/Users/is95217/source/plate/turkishplate\") #win\n",
    "sys.path.append(ROOT_DIR + \"/Python\")\n",
    "\n",
    "\n",
    "DATA_DIR = \"/home/user/Source/data/dataEvrim/Original_15Kcrop_distributed\"  #linux\n",
    "#DATA_DIR = \"C:/Users/is95217/data/Original_15Kcrop_distributed\" #win\n",
    "print(\"Data:\", DATA_DIR)\n",
    "print(\"Source code:\", ROOT_DIR)"
   ]
  },
  {
   "cell_type": "code",
   "execution_count": 4,
   "metadata": {},
   "outputs": [],
   "source": [
    "sys.path.append(os.path.dirname(os.path.realpath('PPlate')) + \"/python\")\n",
    "import PPlate as p"
   ]
  },
  {
   "cell_type": "markdown",
   "metadata": {},
   "source": [
    "# LOAD MODEL "
   ]
  },
  {
   "cell_type": "code",
   "execution_count": 5,
   "metadata": {},
   "outputs": [],
   "source": [
    "# load json and create model\n",
    "#fmodel='lr0.02_mom0.9'\n",
    "#fmodel = '/Model/Plate15K'\n",
    "\n",
    "#loaded_model=p.load_model(ROOT_DIR + '/Model/plate15K')\n",
    "loaded_model=p.load_model(ROOT_DIR + '/Model/model15k_2GRU')\n",
    " \n",
    "\n"
   ]
  },
  {
   "cell_type": "markdown",
   "metadata": {},
   "source": [
    "# Test on validation images"
   ]
  },
  {
   "cell_type": "code",
   "execution_count": 19,
   "metadata": {
    "scrolled": false
   },
   "outputs": [],
   "source": [
    "cnt_test= len(os.listdir(DATA_DIR + '/test'))\n",
    "\n",
    "tiger_test = p.TextImageGenerator(DATA_DIR, '/test', 128, 64, cnt_test, 4) # batch size \n",
    "tiger_test.build_data()\n",
    "\n",
    "net_inp = loaded_model.get_layer(name='the_input').input\n",
    "net_out = loaded_model.get_layer(name='softmax').output"
   ]
  },
  {
   "cell_type": "code",
   "execution_count": 7,
   "metadata": {},
   "outputs": [
    {
     "data": {
      "text/plain": [
       "\"\\n\\ncnt_test= 2000#len(os.listdir(DATA_DIR + '/train'))\\n\\ntiger_test = p.TextImageGenerator(DATA_DIR, '/train', 128, 64, cnt_test, 4) # batch size \\ntiger_test.build_data()\\n\\nnet_inp = loaded_model.get_layer(name='the_input').input\\nnet_out = loaded_model.get_layer(name='softmax').output\\n\""
      ]
     },
     "execution_count": 7,
     "metadata": {},
     "output_type": "execute_result"
    }
   ],
   "source": [
    "\"\"\"\n",
    "\n",
    "cnt_test= 2000#len(os.listdir(DATA_DIR + '/train'))\n",
    "\n",
    "tiger_test = p.TextImageGenerator(DATA_DIR, '/train', 128, 64, cnt_test, 4) # batch size \n",
    "tiger_test.build_data()\n",
    "\n",
    "net_inp = loaded_model.get_layer(name='the_input').input\n",
    "net_out = loaded_model.get_layer(name='softmax').output\n",
    "\"\"\""
   ]
  },
  {
   "cell_type": "code",
   "execution_count": 20,
   "metadata": {},
   "outputs": [
    {
     "data": {
      "text/plain": [
       "(1536, 64, 128)"
      ]
     },
     "execution_count": 20,
     "metadata": {},
     "output_type": "execute_result"
    }
   ],
   "source": [
    "tiger_test.batch_size,tiger_test.img_h,tiger_test.img_w"
   ]
  },
  {
   "cell_type": "markdown",
   "metadata": {},
   "source": [
    "#  Full test set"
   ]
  },
  {
   "cell_type": "code",
   "execution_count": 21,
   "metadata": {},
   "outputs": [
    {
     "name": "stdout",
     "output_type": "stream",
     "text": [
      "wrong Predicted: 3EB501 True: 43EB501 i: 492 len_pred: 6 len_true: 7\n",
      "wrong Predicted: 43PH79 True: 43PH797 i: 521 len_pred: 6 len_true: 7\n",
      "wrong Predicted: 58L165 True: 58VL165 i: 845 len_pred: 6 len_true: 7\n",
      "wrong Predicted: 411469 True: 41B1769 i: 1125 len_pred: 6 len_true: 7\n",
      "wrong Predicted: 41F221 True: 41F2216 i: 1241 len_pred: 6 len_true: 7\n",
      "wrong Predicted: 5MHR20 True: 35MHR20 i: 1310 len_pred: 6 len_true: 7\n",
      "wrong Predicted: 4KL293 True: 14KL293 i: 1334 len_pred: 6 len_true: 7\n",
      "wrong Predicted: 41V601 True: 41VE601 i: 1431 len_pred: 6 len_true: 7\n",
      "wrong Predicted: 41T56 True: 41BD346 i: 1505 len_pred: 5 len_true: 7\n",
      "matched= 1376 ,total= 1536 TP: % 90.0\n"
     ]
    }
   ],
   "source": [
    "for inp_value, _ in tiger_test.next_batch():\n",
    "    matched=0\n",
    "    non_matched=0\n",
    "    testset_cnt = inp_value['the_input'].shape[0]\n",
    "    X_data = inp_value['the_input']\n",
    "    \n",
    "    net_out_value = sess.run(net_out, feed_dict={net_inp:X_data})\n",
    "    pred_texts = p.decode_batch(net_out_value)\n",
    "    \n",
    "    labels = inp_value['the_labels']\n",
    "    texts = []     \n",
    "    \n",
    "    for label in labels:\n",
    "        text = p.labels_to_text(label)        \n",
    "        texts.append(text)       \n",
    "    \n",
    "    for cnt in range(testset_cnt):        \n",
    "        \n",
    "        if pred_texts[cnt] == texts[cnt]:\n",
    "            matched += 1            \n",
    "        else:\n",
    "            non_matched +=  1\n",
    "            if len(pred_texts[cnt])<7:\n",
    "                print('wrong Predicted: %s True: %s i: %s len_pred: %s len_true: %s' % (pred_texts[cnt], texts[cnt],str(cnt),\n",
    "                                                                              len(pred_texts[cnt]),len(texts[cnt])))\n",
    "            \n",
    "    print(\"matched=\",matched, \",total=\",testset_cnt , \"TP: %\", round(matched/testset_cnt, 2) * 100)\n",
    "    break\n",
    "    "
   ]
  },
  {
   "cell_type": "code",
   "execution_count": 10,
   "metadata": {},
   "outputs": [],
   "source": [
    "#matched= 1071 ,total= 1568 TP: % 68.0  25 epoch 15k  test accuracy\n",
    "#matched= 1082 ,total= 1567 TP: % 69.0 epoch 15k  val accuracy\n",
    "#matched= 1380 ,total= 2000 TP: % 69.0 train accuracy\n",
    "\n",
    "\n"
   ]
  }
 ],
 "metadata": {
  "kernelspec": {
   "display_name": "Python 3",
   "language": "python",
   "name": "python3"
  },
  "language_info": {
   "codemirror_mode": {
    "name": "ipython",
    "version": 3
   },
   "file_extension": ".py",
   "mimetype": "text/x-python",
   "name": "python",
   "nbconvert_exporter": "python",
   "pygments_lexer": "ipython3",
   "version": "3.6.5"
  }
 },
 "nbformat": 4,
 "nbformat_minor": 2
}
