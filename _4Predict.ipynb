{
 "cells": [
  {
   "cell_type": "code",
   "execution_count": 1,
   "metadata": {},
   "outputs": [
    {
     "name": "stderr",
     "output_type": "stream",
     "text": [
      "Using TensorFlow backend.\n"
     ]
    },
    {
     "name": "stdout",
     "output_type": "stream",
     "text": [
      "Keras version: 2.2.2\n",
      "TensorFlow version: 1.8.0\n"
     ]
    }
   ],
   "source": [
    "import keras\n",
    "print('Keras version:', keras.__version__)\n",
    "\n",
    "import sys\n",
    "import os\n",
    "import tensorflow as tf\n",
    "print('TensorFlow version:', tf.__version__) \n",
    "from keras import backend as K"
   ]
  },
  {
   "cell_type": "code",
   "execution_count": 2,
   "metadata": {},
   "outputs": [],
   "source": [
    "sess = tf.Session()\n",
    "K.set_session(sess)\n",
    "from keras.models import model_from_json\n",
    "\n",
    "DEVICE = \"/cpu:0\"  # /use cpu:0 for cpu only or /gpu:0\n"
   ]
  },
  {
   "cell_type": "code",
   "execution_count": 2,
   "metadata": {},
   "outputs": [
    {
     "name": "stdout",
     "output_type": "stream",
     "text": [
      "Working directory is: C:\\Users\\is95217\\source\\turkishplate\n"
     ]
    }
   ],
   "source": [
    "working_dir = os.getcwd()\n",
    "print(\"Working directory is:\",working_dir)\n",
    "sys.path.append(working_dir)  # To find local version of the library\n",
    "print(\"    \")"
   ]
  },
  {
   "cell_type": "code",
   "execution_count": 7,
   "metadata": {},
   "outputs": [
    {
     "name": "stdout",
     "output_type": "stream",
     "text": [
      "Data dir: C:/Users/is95217/data/Original_15Kcrop_distributed\n",
      "Source code dir: C:/Users/is95217/source/turkishplate\n",
      "Model dir: C:/Users/is95217/source/turkishplate/model\n"
     ]
    }
   ],
   "source": [
    "win=True\n",
    "if win:\n",
    "    ROOT_DIR = os.path.join(\"C:/Users/is95217/source/turkishplate\") #win\n",
    "    DATA_DIR = \"C:/Users/is95217/data/Original_15Kcrop_distributed\" #win\n",
    "    MODEL_DIR = 'C:/Users/is95217/source/turkishplate/model' \n",
    "else:    \n",
    "    ROOT_DIR = os.path.join(\"/home/user/Source/dev/Evrim/Turkishplate/\") #linux\n",
    "    DATA_DIR = \"/home/user/Source/data/dataEvrim//plaka_out_distr\"  #augmented plate directory\n",
    "    MODEL_DIR = \"/home/user/Source/dev/Evrim/Turkishplate//model\"\n",
    "sys.path.append(ROOT_DIR + \"/Python\")\n",
    "\n",
    "print(\"Data dir:\", DATA_DIR)\n",
    "print(\"Source code dir:\", ROOT_DIR)\n",
    "print(\"Model dir:\",MODEL_DIR)"
   ]
  },
  {
   "cell_type": "code",
   "execution_count": 8,
   "metadata": {},
   "outputs": [],
   "source": [
    "sys.path.append(os.path.dirname(os.path.realpath('Modelop')) + \"/Python\")\n",
    "import Modelop as p"
   ]
  },
  {
   "cell_type": "code",
   "execution_count": 9,
   "metadata": {},
   "outputs": [],
   "source": [
    "import concurrent.futures\n",
    "import numpy as np\n",
    "import cv2\n",
    "import keras.backend as K\n",
    "from keras.layers import Dense\n",
    "from keras.models import Sequential\n",
    "\n",
    "import tensorflow as tf\n",
    "from tensorflow.python.client import device_lib\n",
    "from keras.backend.tensorflow_backend import set_session\n",
    "\n",
    "tf_config = tf.ConfigProto()\n",
    "tf_config.gpu_options.allow_growth = True  # dynamically grow the memory used on the GPU\n",
    "tf_config.log_device_placement = True  # to log device placement (on which device the operation ran)\n",
    "                                    # (nothing gets printed in Jupyter, only if you run it standalone)\n",
    "    "
   ]
  },
  {
   "cell_type": "markdown",
   "metadata": {},
   "source": [
    "# LOAD MODEL "
   ]
  },
  {
   "cell_type": "code",
   "execution_count": 10,
   "metadata": {
    "scrolled": false
   },
   "outputs": [],
   "source": [
    "graph_detection = tf.Graph()\n",
    "\n",
    "with graph_detection.as_default():\n",
    "    session_detection = tf.Session(graph = graph_detection, config=tf_config) \n",
    "    with session_detection.as_default():\n",
    "        #load model\n",
    "        loaded_model=p.load_model(MODEL_DIR +'/model_aug3') #mix pics from port and augmentation"
   ]
  },
  {
   "cell_type": "markdown",
   "metadata": {},
   "source": [
    "# one plate predict"
   ]
  },
  {
   "cell_type": "code",
   "execution_count": 13,
   "metadata": {},
   "outputs": [],
   "source": [
    "#img_filepath = 'C:/Users/is95217/data/plaka/' + '78BT701.png'\n",
    "#img_filepath = 'C:/Users/is95217/data/plaka2/' + 'Test2.jpg'\n",
    "img_filepath = DATA_DIR + '/test/81VY339.jpg' #ok\n",
    "img_filepath = DATA_DIR + '/test/78O2555.jpg' # ok\n",
    "#img_filepath = '/home/user/Source/data/dataEvrim/Original_15Kcrop_distr/test/' + '1#81FC650#12042018#085508.jpg' #ok\n",
    "#img_filepath = '/home/user/Source/data/dataEvrim/Original_15Kcrop_distr/test/' + '1#78BN724#31032018#092749.jpg' #not ok 78bn777\n",
    "\n",
    "#img_filepath = DATA_DIR + '/test/81U3872.jpg' \n",
    "\n",
    "image = cv2.imread(img_filepath)"
   ]
  },
  {
   "cell_type": "code",
   "execution_count": 14,
   "metadata": {},
   "outputs": [
    {
     "data": {
      "text/plain": [
       "'C:/Users/is95217/data/Original_15Kcrop_distributed/test/78O2555.jpg'"
      ]
     },
     "execution_count": 14,
     "metadata": {},
     "output_type": "execute_result"
    }
   ],
   "source": [
    "img_filepath"
   ]
  },
  {
   "cell_type": "code",
   "execution_count": 15,
   "metadata": {},
   "outputs": [
    {
     "ename": "error",
     "evalue": "OpenCV(3.4.2) c:\\miniconda3\\conda-bld\\opencv-suite_1534379934306\\work\\modules\\imgproc\\src\\color.hpp:253: error: (-215:Assertion failed) VScn::contains(scn) && VDcn::contains(dcn) && VDepth::contains(depth) in function 'cv::CvtHelper<struct cv::Set<3,4,-1>,struct cv::Set<1,-1,-1>,struct cv::Set<0,2,5>,2>::CvtHelper'\n",
     "traceback": [
      "\u001b[1;31m---------------------------------------------------------------------------\u001b[0m",
      "\u001b[1;31merror\u001b[0m                                     Traceback (most recent call last)",
      "\u001b[1;32m<ipython-input-15-991fe8d3e059>\u001b[0m in \u001b[0;36m<module>\u001b[1;34m()\u001b[0m\n\u001b[0;32m      2\u001b[0m \u001b[1;32mwith\u001b[0m \u001b[0mgraph_detection\u001b[0m\u001b[1;33m.\u001b[0m\u001b[0mas_default\u001b[0m\u001b[1;33m(\u001b[0m\u001b[1;33m)\u001b[0m\u001b[1;33m:\u001b[0m\u001b[1;33m\u001b[0m\u001b[0m\n\u001b[0;32m      3\u001b[0m      \u001b[1;32mwith\u001b[0m \u001b[0msession_detection\u001b[0m\u001b[1;33m.\u001b[0m\u001b[0mas_default\u001b[0m\u001b[1;33m(\u001b[0m\u001b[1;33m)\u001b[0m\u001b[1;33m:\u001b[0m\u001b[1;33m\u001b[0m\u001b[0m\n\u001b[1;32m----> 4\u001b[1;33m             \u001b[0mpredicted_text\u001b[0m \u001b[1;33m=\u001b[0m \u001b[0mp\u001b[0m\u001b[1;33m.\u001b[0m\u001b[0mpredict_single_plate\u001b[0m\u001b[1;33m(\u001b[0m\u001b[0msession_detection\u001b[0m\u001b[1;33m,\u001b[0m\u001b[0mloaded_model\u001b[0m\u001b[1;33m,\u001b[0m\u001b[0mimage\u001b[0m\u001b[1;33m)\u001b[0m\u001b[1;31m#input directory of pic\u001b[0m\u001b[1;33m\u001b[0m\u001b[0m\n\u001b[0m\u001b[0;32m      5\u001b[0m             \u001b[0mprint\u001b[0m\u001b[1;33m(\u001b[0m\u001b[0mpredicted_text\u001b[0m\u001b[1;33m)\u001b[0m\u001b[1;33m\u001b[0m\u001b[0m\n",
      "\u001b[1;32m~\\source\\turkishplate/Python\\Modelop.py\u001b[0m in \u001b[0;36mpredict_single_plate\u001b[1;34m(sess, loaded_model, img)\u001b[0m\n\u001b[0;32m    525\u001b[0m \u001b[1;33m\u001b[0m\u001b[0m\n\u001b[0;32m    526\u001b[0m     \u001b[1;31m#img = cv2.imread(img_filepath)\u001b[0m\u001b[1;33m\u001b[0m\u001b[1;33m\u001b[0m\u001b[0m\n\u001b[1;32m--> 527\u001b[1;33m     \u001b[0mimg\u001b[0m \u001b[1;33m=\u001b[0m \u001b[0mcv2\u001b[0m\u001b[1;33m.\u001b[0m\u001b[0mcvtColor\u001b[0m\u001b[1;33m(\u001b[0m\u001b[0mimg\u001b[0m\u001b[1;33m,\u001b[0m \u001b[0mcv2\u001b[0m\u001b[1;33m.\u001b[0m\u001b[0mCOLOR_BGR2GRAY\u001b[0m\u001b[1;33m)\u001b[0m\u001b[1;33m\u001b[0m\u001b[0m\n\u001b[0m\u001b[0;32m    528\u001b[0m     \u001b[0mimg\u001b[0m \u001b[1;33m=\u001b[0m \u001b[0mcv2\u001b[0m\u001b[1;33m.\u001b[0m\u001b[0mresize\u001b[0m\u001b[1;33m(\u001b[0m\u001b[0mimg\u001b[0m\u001b[1;33m,\u001b[0m \u001b[1;33m(\u001b[0m\u001b[0mimg_w\u001b[0m\u001b[1;33m,\u001b[0m \u001b[0mimg_h\u001b[0m\u001b[1;33m)\u001b[0m\u001b[1;33m)\u001b[0m\u001b[1;33m\u001b[0m\u001b[0m\n\u001b[0;32m    529\u001b[0m     \u001b[0mimg\u001b[0m \u001b[1;33m=\u001b[0m \u001b[0mimg\u001b[0m\u001b[1;33m.\u001b[0m\u001b[0mastype\u001b[0m\u001b[1;33m(\u001b[0m\u001b[0mnp\u001b[0m\u001b[1;33m.\u001b[0m\u001b[0mfloat32\u001b[0m\u001b[1;33m)\u001b[0m\u001b[1;33m\u001b[0m\u001b[0m\n",
      "\u001b[1;31merror\u001b[0m: OpenCV(3.4.2) c:\\miniconda3\\conda-bld\\opencv-suite_1534379934306\\work\\modules\\imgproc\\src\\color.hpp:253: error: (-215:Assertion failed) VScn::contains(scn) && VDcn::contains(dcn) && VDepth::contains(depth) in function 'cv::CvtHelper<struct cv::Set<3,4,-1>,struct cv::Set<1,-1,-1>,struct cv::Set<0,2,5>,2>::CvtHelper'\n"
     ],
     "output_type": "error"
    }
   ],
   "source": [
    "\n",
    "with graph_detection.as_default():\n",
    "     with session_detection.as_default():\n",
    "            predicted_text = p.predict_single_plate(session_detection,loaded_model,image)#input directory of pic\n",
    "            print(predicted_text)"
   ]
  },
  {
   "cell_type": "markdown",
   "metadata": {},
   "source": [
    "#  Full test set predict"
   ]
  },
  {
   "cell_type": "code",
   "execution_count": 16,
   "metadata": {},
   "outputs": [],
   "source": [
    "cnt_test= len(os.listdir(DATA_DIR + '/test'))\n",
    "img_filepath = DATA_DIR + '/test/' "
   ]
  },
  {
   "cell_type": "code",
   "execution_count": 17,
   "metadata": {},
   "outputs": [
    {
     "data": {
      "text/plain": [
       "1540"
      ]
     },
     "execution_count": 17,
     "metadata": {},
     "output_type": "execute_result"
    }
   ],
   "source": [
    "cnt_test"
   ]
  },
  {
   "cell_type": "code",
   "execution_count": 18,
   "metadata": {},
   "outputs": [],
   "source": [
    "matched=0\n",
    "start='#'\n",
    "end='#'\n",
    "for fname in os.listdir(DATA_DIR + '/test'):\n",
    "     \n",
    "    image = cv2.imread(img_filepath + fname)\n",
    "    if p.check_word(fname):                \n",
    "        fn= (fname.split(start))[1].split(end)[0] \n",
    "    else:\n",
    "        fn = fname.split('.')   \n",
    "        fn= fn[0]\n",
    "        \n",
    "    with graph_detection.as_default():\n",
    "         with session_detection.as_default():\n",
    "            predicted_text = p.predict_single_plate(session_detection,loaded_model,image)#input directory of pic\n",
    "            \n",
    "    \n",
    "    \n",
    "    if ''.join(predicted_text) == fn:\n",
    "        matched +=1\n",
    "    \"\"\"\n",
    "    else:\n",
    "        print('notmatched',''.join(predicted_text),'-',fn)\n",
    "        #print('matched')\n",
    "        \n",
    "    \"\"\""
   ]
  },
  {
   "cell_type": "code",
   "execution_count": 19,
   "metadata": {},
   "outputs": [
    {
     "name": "stdout",
     "output_type": "stream",
     "text": [
      "matched= 1395 ,total= 1540 ,accuracy: 90.5844155844156\n"
     ]
    }
   ],
   "source": [
    "print(\"matched=\",matched,\",total=\", cnt_test ,\",accuracy:\", matched/cnt_test*100)\n",
    " "
   ]
  },
  {
   "cell_type": "code",
   "execution_count": null,
   "metadata": {},
   "outputs": [],
   "source": []
  }
 ],
 "metadata": {
  "kernelspec": {
   "display_name": "Python 3",
   "language": "python",
   "name": "python3"
  },
  "language_info": {
   "codemirror_mode": {
    "name": "ipython",
    "version": 3
   },
   "file_extension": ".py",
   "mimetype": "text/x-python",
   "name": "python",
   "nbconvert_exporter": "python",
   "pygments_lexer": "ipython3",
   "version": "3.6.5"
  }
 },
 "nbformat": 4,
 "nbformat_minor": 2
}
